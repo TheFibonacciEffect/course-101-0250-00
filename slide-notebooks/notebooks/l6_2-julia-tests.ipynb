{
 "cells": [
  {
   "cell_type": "markdown",
   "source": [
    "_Lecture 6_\n",
    "# Unit testing and reference tests in Julia\n",
    "\n",
    "(Unit) testing is pervasive in the Julia ecosystem thanks to efficient built-in tools and\n",
    "a culture encouraging testing.\n",
    "\n",
    "This [JuliaCon 2021 talk](https://live.juliacon.org/talk/HVSAW9) gives a nice overview: more than 90% of all registered\n",
    "packages have at least some tests, with the median package having about 25% of the code being tests."
   ],
   "metadata": {
    "name": "A slide ",
    "slideshow": {
     "slide_type": "slide"
    }
   }
  },
  {
   "cell_type": "markdown",
   "source": [
    "Terms:\n",
    "- \"unit test\": small tests, usually on a per-function basis\n",
    "- \"integration test\": test large part of the code base\n",
    "- \"reference test\": test against a previous output (not necessarily known whether \"good\" or \"bad\")\n",
    "- \"Continuous Integration\" (CI): running of the tests automatically on push to github/gitlab/etc"
   ],
   "metadata": {
    "name": "A slide ",
    "slideshow": {
     "slide_type": "fragment"
    }
   }
  },
  {
   "cell_type": "markdown",
   "source": [
    "### The goals of this lecture are\n",
    "- how to assess CI-run tests for packages of the Julia ecosystem (registered packages)\n",
    "- how to run tests for registered packages on your computer\n",
    "- how to use tests of packages as \"documentation\"\n",
    "- create a test-suite for a small project of your\n",
    "- learn to use [ReferenceTests.jl](https://github.com/JuliaTesting/ReferenceTests.jl)\n",
    "\n",
    "(How to setup CI as part of a project of yours will be taught later)"
   ],
   "metadata": {
    "name": "A slide ",
    "slideshow": {
     "slide_type": "slide"
    }
   }
  },
  {
   "cell_type": "markdown",
   "source": [
    "## Registered Packages: CI tests & using as documentation\n",
    "\n",
    "Let's look at a simple package: [UnPack.jl](https://github.com/mauro3/UnPack.jl)\n",
    "\n",
    "![UnPack.jl](./figures/l6_UnPack.png)\n",
    "\n",
    "- the CI-results are often displayed in form of _badges_\n",
    "- there are different CI-services, most used is GitHub-Actions\n",
    "- often the tests are a fairly good source of documentation by example\n",
    "\n",
    "-> \"demo\""
   ],
   "metadata": {
    "name": "A slide ",
    "slideshow": {
     "slide_type": "slide"
    }
   }
  },
  {
   "cell_type": "markdown",
   "source": [
    "## Registered Packages: test locally\n",
    "\n",
    "Using: [UnPack.jl](https://github.com/mauro3/UnPack.jl)\n",
    "\n",
    "`dev` the package:\n",
    "```julia\n",
    "pkg> dev UnPack\n",
    "```\n",
    "This will checkout the package to `~/.julia/dev/UnPack`.\n",
    "\n",
    "Re-Start Julia with this package activated:\n",
    "```\n",
    "$ cd ~/.julia/dev/UnPack\n",
    "$ julia --project\n",
    "```\n",
    "In package mode run the tests:\n",
    "```\n",
    "(UnPack) pkg> test\n",
    "    Testing UnPack\n",
    "      Status `/tmp/jl_LgpabA/Project.toml`\n",
    "  [3a884ed6] UnPack v1.0.2 `~/julia/dot-julia-dev/UnPack`\n",
    "...\n",
    "```\n",
    "If you edit the source, e.g. to fix a bug, re-run the tests before submitting a PR."
   ],
   "metadata": {
    "name": "A slide ",
    "slideshow": {
     "slide_type": "slide"
    }
   }
  },
  {
   "cell_type": "markdown",
   "source": [
    "## Write your own tests\n",
    "\n",
    "Start easy:\n",
    "- add test just to a script\n",
    "\n",
    "Step up:\n",
    "- move tests to `test/runtests.jl`, the standard location\n",
    "- include scripts to just run-through\n",
    "- use ReferenceTests.jl as integration tests\n",
    "\n",
    "Another day:\n",
    "- setup CI on Github\n",
    "\n",
    "**NOTE**: floating-point comparisons should only be done approximately:\n",
    "```\n",
    "julia> ℯ + π - ℯ == π\n",
    "false\n",
    "```"
   ],
   "metadata": {
    "name": "A slide ",
    "slideshow": {
     "slide_type": "slide"
    }
   }
  },
  {
   "cell_type": "markdown",
   "source": [
    "## Write your own tests: demo with \"car_travel.jl\" from Lecture 1"
   ],
   "metadata": {
    "name": "A slide ",
    "slideshow": {
     "slide_type": "slide"
    }
   }
  },
  {
   "outputs": [],
   "cell_type": "code",
   "source": [
    "using Plots\n",
    "pyplot()\n",
    "\n",
    "@views function car_travel_1D()\n",
    "    # Physical parameters\n",
    "    V     = 113.0          # speed, km/h\n",
    "    L     = 200.0          # length of segment, km\n",
    "    dir   = 1              # switch 1 = go right, -1 = go left\n",
    "    ttot  = 16.0           # total time, h\n",
    "    # Numerical parameters\n",
    "    dt    = 0.1            # time step, h\n",
    "    nt    = Int(cld(ttot, dt))  # number of time steps\n",
    "    # Array initialisation\n",
    "    T     = zeros(nt)\n",
    "    X     = zeros(nt)\n",
    "    # Time loop\n",
    "    for it = 2:nt\n",
    "        T[it] = T[it-1] + dt\n",
    "        X[it] = X[it-1] + dir*V*dt  # move the car\n",
    "        if X[it] > L\n",
    "            dir = -1      # if beyond L, go back (left)\n",
    "        elseif X[it] < 0\n",
    "            dir = 1       # if beyond 0, go back (right)\n",
    "        end\n",
    "    end\n",
    "    # Visualisation\n",
    "    # display(scatter(T, X, markersize=5, xlabel=\"time, hrs\", ylabel=\"distance, km\", framestyle=:box, legend=:none))\n",
    "    return T, X\n",
    "end\n",
    "\n",
    "T, X = car_travel_1D()"
   ],
   "metadata": {},
   "execution_count": null
  },
  {
   "cell_type": "markdown",
   "source": [
    "## Write your own tests: demo with \"car_travel.jl\" from Lecture 1\n",
    "\n",
    "Steps:\n",
    "- make it a project\n",
    "- add some unit tests in-line\n",
    "- move tests to `test/`\n",
    "- use ReferenceTests.jl"
   ],
   "metadata": {}
  }
 ],
 "nbformat_minor": 3,
 "metadata": {
  "language_info": {
   "file_extension": ".jl",
   "mimetype": "application/julia",
   "name": "julia",
   "version": "1.6.3"
  },
  "kernelspec": {
   "name": "julia-1.6",
   "display_name": "Julia 1.6.3",
   "language": "julia"
  }
 },
 "nbformat": 4
}
