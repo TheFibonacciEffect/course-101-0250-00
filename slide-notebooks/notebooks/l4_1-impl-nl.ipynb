{
 "cells": [
  {
   "cell_type": "markdown",
   "source": [
    "_Lecture 4_\n",
    "# Modelling multi-physics"
   ],
   "metadata": {
    "name": "A slide ",
    "slideshow": {
     "slide_type": "slide"
    }
   }
  },
  {
   "cell_type": "markdown",
   "source": [
    "### The goal of lecture 4 is to combine the acquired knowledge of numerical modelling and develop the first practical application: thermal porous convection in 2D."
   ],
   "metadata": {
    "name": "A slide ",
    "slideshow": {
     "slide_type": "slide"
    }
   }
  },
  {
   "cell_type": "markdown",
   "source": [
    "### Building upon:\n",
    "- The diffusion equation\n",
    "- Spatial discretisation: 1D and 2D\n",
    "- Finite-differences and staggered grids\n",
    "- Accelerated pseudo-transient method"
   ],
   "metadata": {
    "name": "A slide ",
    "slideshow": {
     "slide_type": "fragment"
    }
   }
  },
  {
   "cell_type": "markdown",
   "source": [
    "## What is convection and why we want to model it\n",
    "\n",
    "Convection is a fluid flow driven by any instability arising from the interaction between the fluid properties such as density, and external forces such as gravity. If a layer of denser fluid lays on top of a layer of fluid with lower density, they will eventually mix and swap. An example of such fluids would be oil and water. In thermal convection, the density difference is caused by the thermal expansion of the fluid, i.e., the dependence of density on temperature. Usually, higher temperatures correspond to the lower densities.\n",
    "\n",
    "~~~\n",
    "<iframe width=\"560\" height=\"315\" src=\"https://www.youtube.com/embed/zbo6jUGrwdk\" title=\"YouTube video player\" frameborder=\"0\" allow=\"accelerometer; autoplay; clipboard-write; encrypted-media; gyroscope; picture-in-picture\" allowfullscreen></iframe>\n",
    "~~~"
   ],
   "metadata": {
    "name": "A slide ",
    "slideshow": {
     "slide_type": "slide"
    }
   }
  },
  {
   "cell_type": "markdown",
   "source": [
    "Fluid flows in porous materials such as rocks and soil could also be a result of convection. In this course, we only consider porous convection since it build on the already acquired knowledge of steady-state and transient diffusion processes. Porous convection often arises in nature and geoengineering. For example, water circulation in hydrothermal systems is caused by thermal convection, and mixing of CO$_2$ with saline water during geological storage results from chemical convection."
   ],
   "metadata": {
    "name": "A slide ",
    "slideshow": {
     "slide_type": "slide"
    }
   }
  },
  {
   "cell_type": "markdown",
   "source": [
    "In the following, we will introduce the equation governing the thermal porous convection, demonstrate that in the simple cases these equations reduce to the already familiar steady-state and transient diffusion equations."
   ],
   "metadata": {
    "name": "A slide ",
    "slideshow": {
     "slide_type": "fragment"
    }
   }
  },
  {
   "cell_type": "markdown",
   "source": [
    "## Thermal porous convection: a physical model\n",
    "\n",
    "Consider a layer of porous material of size $l_x \\times l_y$. We assume that this layer is saturated with fluid, i.e., the pore space is completely filled by fluid. We introduce the _porosity_ $\\varphi$ -- the volume fraction of material taken by pore space. The conservation of mass for the fluid requires:\n",
    "\n",
    "$$\n",
    "\\frac{\\partial\\rho\\varphi}{\\partial t} + \\nabla\\cdot(\\rho\\varphi\\boldsymbol{v}) = 0\n",
    "$$\n",
    "\n",
    "Here $\\rho$ is the density of the fluid, and $\\boldsymbol{v}$ is the fluid velocity. If the porous material is undeformable, i.e. $\\varphi = \\mathrm{const}$ and the fluid is incompressible, i.e., $\\mathrm{d}\\rho/\\mathrm{d}t = \\partial\\rho/\\partial t + \\boldsymbol{v}\\cdot\\nabla\\rho = 0$, the conservation of mass reduces to the following:\n",
    "\n",
    "$$\n",
    "\\nabla\\cdot(\\varphi\\boldsymbol{v}) = 0\n",
    "$$"
   ],
   "metadata": {
    "name": "A slide ",
    "slideshow": {
     "slide_type": "slide"
    }
   }
  },
  {
   "cell_type": "markdown",
   "source": [
    "### Darcy's law\n",
    "\n",
    "We define the quantity $\\boldsymbol{q_D} = \\varphi\\boldsymbol{v}$, which is called the _Darcy flux_ or _Darcy velocity_ and is the volumetric flow rate per unit area of the porous media.\n",
    "Standard approximation is the linear dependence between $\\boldsymbol{q_D}$ and the pressure gradient, known as the [_Darcy's law_](https://en.wikipedia.org/wiki/Darcy's_law):\n",
    "\n",
    "$$\n",
    "\\boldsymbol{q_D} = -\\frac{k}{\\eta}(\\nabla p - \\rho \\boldsymbol{g})\n",
    "$$\n",
    "\n",
    "where $k$ is the proportionality coefficient called _permeability_, $\\eta$ is the fluid viscosity, $p$ is pressure, $\\boldsymbol{g}$ is the gravity vector."
   ],
   "metadata": {
    "name": "A slide ",
    "slideshow": {
     "slide_type": "slide"
    }
   }
  },
  {
   "cell_type": "markdown",
   "source": [
    "### Diffusion equation for pressure\n",
    "Substituting the Darcy's law into the mass conservation law for incompressible fluid, we obtain the steady-state diffusion equation for the pressure $p$:\n",
    "$$\n",
    "\\nabla\\cdot\\left[\\frac{k}{\\eta}(\\nabla p - \\rho\\boldsymbol{g})\\right] = 0\n",
    "$$"
   ],
   "metadata": {
    "name": "A slide ",
    "slideshow": {
     "slide_type": "slide"
    }
   }
  },
  {
   "cell_type": "markdown",
   "source": [
    "### Heat convection in porous media\n",
    "\n",
    "In the following, we assume for simplicity that the porosity is constant: $\\varphi=\\mathrm{const}$.\n",
    "\n",
    "Conservation of energy in the fluid results in the following equation for the temperature $T$:\n",
    "$$\n",
    "\\rho c_p \\frac{\\partial T}{\\partial t} + \\rho c_p\\boldsymbol{v}\\cdot\\nabla T + \\nabla\\cdot\\boldsymbol{q_T} = 0\n",
    "$$\n",
    "Here, $c_p$ is the specific heat capacity of the fluid, and $\\boldsymbol{q_T}$ is the conductive heat flux. Note that the time $t$ here is the physical time."
   ],
   "metadata": {
    "name": "A slide ",
    "slideshow": {
     "slide_type": "slide"
    }
   }
  },
  {
   "cell_type": "markdown",
   "source": [
    "In a very similar manner to the Darcy's law, we relate the heat flux to the gradient of temperature (Fourier's law):\n",
    "\n",
    "$$\n",
    "\\boldsymbol{q_T} = -\\lambda\\nabla T\n",
    "$$\n",
    "\n",
    "where $\\lambda$ is the _thermal conductivity_. Assuming $\\lambda=\\mathrm{const}$, substituting the Fourier's law into the energy equation, and using the definition of the Darcy flux we obtain:\n",
    "$$\n",
    "\\frac{\\partial T}{\\partial t} + \\frac{1}{\\varphi}\\boldsymbol{q_D}\\cdot\\nabla T - \\frac{\\lambda}{\\rho c_p} \\nabla\\cdot\\nabla T = 0\n",
    "$$\n",
    "\n",
    "This is the transient advection-diffusion equation. The temperature is advected with the fluid velocity $\\boldsymbol{q_D}/\\varphi$ and diffused with the diffusion coefficient $\\lambda/(\\rho c_p)$"
   ],
   "metadata": {
    "name": "A slide ",
    "slideshow": {
     "slide_type": "slide"
    }
   }
  },
  {
   "cell_type": "markdown",
   "source": [
    "### Modeling buoyancy: Boussinesq approximaiton\n",
    "\n",
    "Now the transient pressure diffusion and steady pressure diffusion are coupled in a one-way fashion through the Darcy flux in the temperature equation. To model convection, we need to incorporate the dependency of the density on temperature in the equations. The simplest way is to introduce the linear dependency:\n",
    "\n",
    "$$\n",
    "\\rho = \\rho_0\\left[1-\\alpha (T-T_0)\\right]\n",
    "$$\n",
    "where $\\alpha$ is the thermal expansion coefficient.\n",
    "\n",
    "However, the equations were formulated for the incompressible case!"
   ],
   "metadata": {
    "name": "A slide ",
    "slideshow": {
     "slide_type": "slide"
    }
   }
  },
  {
   "cell_type": "markdown",
   "source": [
    "In convection problems, the gravity term $\\rho\\boldsymbol{g}$ makes the dominant contribution to the force balance. Therefore, variations in density due to thermal expansion are often accounted for only in the $\\rho\\boldsymbol{g}$ term and are neglected in other places. This is called the [_Boussinesq approximation_](https://en.wikipedia.org/wiki/Boussinesq_approximation_(buoyancy))."
   ],
   "metadata": {
    "name": "A slide ",
    "slideshow": {
     "slide_type": "slide"
    }
   }
  },
  {
   "cell_type": "markdown",
   "source": [
    "Using the Boussinesq approximation, the incompressible equations remain valid, and the only place where the modified densities is the definition of the Darcy flux:\n",
    "\n",
    "$$\n",
    "\\boldsymbol{q_D} = -\\frac{k}{\\eta}(\\nabla P - \\rho_0\\left[1-\\alpha (T-T_0)\\right]\\boldsymbol{g})\n",
    "$$"
   ],
   "metadata": {
    "name": "A slide ",
    "slideshow": {
     "slide_type": "fragment"
    }
   }
  },
  {
   "cell_type": "markdown",
   "source": [
    "## Solving thermal porous convection using the pseudo-transient method\n",
    "\n",
    "We already discussed how the steady-state and transient equations could be solved efficiently by adding the pseudo-transient terms to the governing equations. Let's do this for the thermal porous convection!"
   ],
   "metadata": {
    "name": "A slide ",
    "slideshow": {
     "slide_type": "slide"
    }
   }
  },
  {
   "cell_type": "markdown",
   "source": [
    "The thermal porous convection is a coupled system of equations. However, the"
   ],
   "metadata": {
    "name": "A slide ",
    "slideshow": {
     "slide_type": "fragment"
    }
   }
  },
  {
   "cell_type": "markdown",
   "source": [
    "But let's first look at the equation, augmenting the Table we just started to fill"
   ],
   "metadata": {
    "name": "A slide ",
    "slideshow": {
     "slide_type": "slide"
    }
   }
  },
  {
   "cell_type": "markdown",
   "source": [
    "|  Physics       |  1D formulation |  2D formulation |\n",
    "| ------------:  | :-------------- | :-------------- |\n",
    "| Diffusion      | $$q_x = -D\\frac{∂C}{∂x}$$  $$\\frac{∂C}{∂t} = -\\frac{∂q_x}{∂x}$$ | $$q_x = -D\\frac{∂C}{∂x}$$  $$q_y = -D\\frac{∂C}{∂y}$$  $$\\frac{∂C}{∂t} = -\\left(\\frac{∂q_x}{∂x} + \\frac{∂q_y}{∂y} \\right)$$ |\n",
    "| Acoustic waves | $$\\frac{∂V_x}{∂t} = -\\frac{1}{ρ}~\\frac{∂P}{∂x}$$  $$\\frac{∂P}{∂t} = -K~\\frac{∂V_x}{∂x}$$ |$$\\frac{∂V_x}{∂t} = -\\frac{1}{ρ}~\\frac{∂P}{∂x}$$  $$\\frac{∂V_y}{∂t} = -\\frac{1}{ρ}~\\frac{∂P}{∂y}$$  $$\\frac{∂P}{∂t} = -K~\\left(\\frac{∂V_x}{∂x} + \\frac{∂V_y}{∂y} \\right)$$ |"
   ],
   "metadata": {}
  },
  {
   "cell_type": "markdown",
   "source": [
    "#### Initialise arrays\n",
    "\n",
    "Recall that we are using conservative finite-differences and thus a _staggered grid_.\n",
    "\n",
    "For 2D grids, we will have to handle scalar quantity and two fluxes as depicted below, taking care about correct staggering:\n",
    "\n",
    "![staggered-grid](./figures/l4_stagg_2D.png)"
   ],
   "metadata": {
    "name": "A slide ",
    "slideshow": {
     "slide_type": "slide"
    }
   }
  },
  {
   "cell_type": "markdown",
   "source": [
    "#### 2D plotting\n",
    "\n",
    "You can use `heatmap()` function from `Plots.jl`, to plot e.g. `C` as function of the spatial coordinates `xc` and `yc`:\n",
    "\n",
    "```julia\n",
    "heatmap(xc, yc, C')\n",
    "```\n",
    "_note the transpose `'`_\n",
    "\n",
    "Use `display()` to force the display of the plot, e.g., in the time loop every `nout`."
   ],
   "metadata": {
    "name": "A slide ",
    "slideshow": {
     "slide_type": "slide"
    }
   }
  },
  {
   "cell_type": "markdown",
   "source": [
    "More advanced implementation, one can define the plotting options and apply them in the `heatmap()` call:\n",
    "\n",
    "```julia\n",
    "opts = (aspect_ratio=1, xlims=(xc[1], xc[end]), ylims=(yc[1], yc[end]), clims=(0.0, 1.0), c=:davos, xlabel=\"Lx\", ylabel=\"Ly\", title=\"time = $(round(it*dt, sigdigits=3))\")\n",
    "display(heatmap(xc, yc, C'; opts...))\n",
    "```"
   ],
   "metadata": {
    "name": "A slide ",
    "slideshow": {
     "slide_type": "fragment"
    }
   }
  },
  {
   "cell_type": "markdown",
   "source": [
    "Let's get started with 2D.\n",
    "\n",
    "**It's time to launch Julia on your computer** 🚀\n",
    "\n",
    "👉 [Download the `diffusion_1D.jl` script](https://github.com/eth-vaw-glaciology/course-101-0250-00/blob/main/scripts/) to get you started"
   ],
   "metadata": {
    "name": "A slide ",
    "slideshow": {
     "slide_type": "fragment"
    }
   }
  },
  {
   "cell_type": "markdown",
   "source": [
    "### That's it for the \"intro\" part on iterative approaches to solve PDEs.\n",
    "\n",
    "💻 Starting next week, we will port codes for (multi-) GPUs implementations"
   ],
   "metadata": {
    "name": "A slide ",
    "slideshow": {
     "slide_type": "slide"
    }
   }
  },
  {
   "cell_type": "markdown",
   "source": [
    "_Lecture 4_\n",
    "# Julia's Project environment"
   ],
   "metadata": {
    "name": "A slide ",
    "slideshow": {
     "slide_type": "slide"
    }
   }
  },
  {
   "cell_type": "markdown",
   "source": [
    "On GitHub, make sure to create a new folder for each week's exercises.\n",
    "\n",
    "Each week's folder should be a Julia project, i.e. contain a `Project.toml` file."
   ],
   "metadata": {
    "name": "A slide ",
    "slideshow": {
     "slide_type": "fragment"
    }
   }
  },
  {
   "cell_type": "markdown",
   "source": [
    "This can be achieved by typing entering the Pkg mode from the Julia REPL in the target folder\n",
    "\n",
    "```julia-repl\n",
    "julia> ]\n",
    "\n",
    "(@v1.8) pkg> activate .\n",
    "\n",
    "(lectureXX) pkg> add Plots\n",
    "```\n",
    "\n",
    "and adding at least one package."
   ],
   "metadata": {
    "name": "A slide ",
    "slideshow": {
     "slide_type": "slide"
    }
   }
  },
  {
   "cell_type": "markdown",
   "source": [
    "In addition, it is recommended to have the following structure and content:\n",
    "- lectureXX\n",
    "  - `README.md`\n",
    "  - `Project.toml`\n",
    "  - `Manifest.toml`\n",
    "  - docs/\n",
    "  - scripts/"
   ],
   "metadata": {
    "name": "A slide ",
    "slideshow": {
     "slide_type": "slide"
    }
   }
  },
  {
   "cell_type": "markdown",
   "source": [
    "Codes could be placed in the `scripts/` folder. Output material to be displayed in the `README.md` could be placed in the `docs/` folder."
   ],
   "metadata": {
    "name": "A slide ",
    "slideshow": {
     "slide_type": "fragment"
    }
   }
  },
  {
   "cell_type": "markdown",
   "source": [
    "> 💡 note: The `Manifest.toml` file should be kept local. An automated way of doing so is to add it as entry to a `.gitignore` file in the root of your repo. Mac users may also add `.DS_Store` to their `.gitignore`.`"
   ],
   "metadata": {}
  }
 ],
 "nbformat_minor": 3,
 "metadata": {
  "language_info": {
   "file_extension": ".jl",
   "mimetype": "application/julia",
   "name": "julia",
   "version": "1.8.1"
  },
  "kernelspec": {
   "name": "julia-1.8",
   "display_name": "Julia 1.8.1",
   "language": "julia"
  }
 },
 "nbformat": 4
}
