{
 "cells": [
  {
   "cell_type": "markdown",
   "source": [
    "_Lecture 4_\n",
    "# Modelling multi-physics"
   ],
   "metadata": {
    "name": "A slide ",
    "slideshow": {
     "slide_type": "slide"
    }
   }
  },
  {
   "cell_type": "markdown",
   "source": [
    "### The goal of lecture 4 is to combine the acquired knowledge of numerical modelling and develop the first practical application: thermal porous convection in 2D."
   ],
   "metadata": {
    "name": "A slide ",
    "slideshow": {
     "slide_type": "slide"
    }
   }
  },
  {
   "cell_type": "markdown",
   "source": [
    "### Building upon:\n",
    "- The diffusion equation\n",
    "- Spatial discretisation: 1D and 2D\n",
    "- Finite-differences and staggered grids\n",
    "- Accelerated pseudo-transient method"
   ],
   "metadata": {
    "name": "A slide ",
    "slideshow": {
     "slide_type": "fragment"
    }
   }
  },
  {
   "cell_type": "markdown",
   "source": [
    "## From 1D to 2D\n",
    "\n",
    "Let's discuss how to implement the acoustic wave equation (and the diffusion equation from last week's material) in 2D."
   ],
   "metadata": {
    "name": "A slide ",
    "slideshow": {
     "slide_type": "slide"
    }
   }
  },
  {
   "cell_type": "markdown",
   "source": [
    "We want the $x$ and $y$ axis to represent spatial extend, and solve in each grid point for the pressure or the concentration, for the acoustic and diffusion process, respectively."
   ],
   "metadata": {
    "name": "A slide ",
    "slideshow": {
     "slide_type": "fragment"
    }
   }
  },
  {
   "cell_type": "markdown",
   "source": [
    "But let's first look at the equation, augmenting the Table we just started to fill"
   ],
   "metadata": {
    "name": "A slide ",
    "slideshow": {
     "slide_type": "slide"
    }
   }
  },
  {
   "cell_type": "markdown",
   "source": [
    "|  Physics       |  1D formulation |  2D formulation |\n",
    "| ------------:  | :-------------- | :-------------- |\n",
    "| Diffusion      | $$q_x = -D\\frac{∂C}{∂x}$$  $$\\frac{∂C}{∂t} = -\\frac{∂q_x}{∂x}$$ | $$q_x = -D\\frac{∂C}{∂x}$$  $$q_y = -D\\frac{∂C}{∂y}$$  $$\\frac{∂C}{∂t} = -\\left(\\frac{∂q_x}{∂x} + \\frac{∂q_y}{∂y} \\right)$$ |\n",
    "| Acoustic waves | $$\\frac{∂V_x}{∂t} = -\\frac{1}{ρ}~\\frac{∂P}{∂x}$$  $$\\frac{∂P}{∂t} = -K~\\frac{∂V_x}{∂x}$$ |$$\\frac{∂V_x}{∂t} = -\\frac{1}{ρ}~\\frac{∂P}{∂x}$$  $$\\frac{∂V_y}{∂t} = -\\frac{1}{ρ}~\\frac{∂P}{∂y}$$  $$\\frac{∂P}{∂t} = -K~\\left(\\frac{∂V_x}{∂x} + \\frac{∂V_y}{∂y} \\right)$$ |"
   ],
   "metadata": {}
  },
  {
   "cell_type": "markdown",
   "source": [
    "For both physics\n",
    "- The fluxes which are directional or vector quantities have a new $y$-direction component\n",
    "- The balance equation or divergence, now balances the sum of the fluxes from all dimensions"
   ],
   "metadata": {
    "name": "A slide ",
    "slideshow": {
     "slide_type": "slide"
    }
   }
  },
  {
   "cell_type": "markdown",
   "source": [
    "Let's get started first with the diffusion equation, then the wave equation (as homework)."
   ],
   "metadata": {
    "name": "A slide ",
    "slideshow": {
     "slide_type": "fragment"
    }
   }
  },
  {
   "cell_type": "markdown",
   "source": [
    "### To dos:\n",
    "- Add $y$-direction physics and numerics\n",
    "- Update time step definition\n",
    "- Update initial Gaussian condition\n",
    "- Initialise all new arrays\n",
    "- Update physics calculations in the time loop\n",
    "- Update plotting"
   ],
   "metadata": {
    "name": "A slide ",
    "slideshow": {
     "slide_type": "slide"
    }
   }
  },
  {
   "cell_type": "markdown",
   "source": [
    "#### $y$-direction physics and numerics\n",
    "\n",
    "You can make multi-statement lines for scalars:\n",
    "\n",
    "```julia\n",
    "Lx, Ly = 10.0, 10.0\n",
    "```"
   ],
   "metadata": {
    "name": "A slide ",
    "slideshow": {
     "slide_type": "slide"
    }
   }
  },
  {
   "cell_type": "markdown",
   "source": [
    "#### Time step definition\n",
    "\n",
    "Take now the most restrictive condition, e.g.:\n",
    "\n",
    "```julia\n",
    "dt = min(dx, dy)/...\n",
    "```"
   ],
   "metadata": {
    "name": "A slide ",
    "slideshow": {
     "slide_type": "fragment"
    }
   }
  },
  {
   "cell_type": "markdown",
   "source": [
    "#### Initialise arrays\n",
    "\n",
    "Recall that we are using conservative finite-differences and thus a _staggered grid_.\n",
    "\n",
    "For 2D grids, we will have to handle scalar quantity and two fluxes as depicted below, taking care about correct staggering:\n",
    "\n",
    "![staggered-grid](./figures/l4_stagg_2D.png)"
   ],
   "metadata": {
    "name": "A slide ",
    "slideshow": {
     "slide_type": "slide"
    }
   }
  },
  {
   "cell_type": "markdown",
   "source": [
    "#### 2D plotting\n",
    "\n",
    "You can use `heatmap()` function from `Plots.jl`, to plot e.g. `C` as function of the spatial coordinates `xc` and `yc`:\n",
    "\n",
    "```julia\n",
    "heatmap(xc, yc, C')\n",
    "```\n",
    "_note the transpose `'`_\n",
    "\n",
    "Use `display()` to force the display of the plot, e.g., in the time loop every `nout`."
   ],
   "metadata": {
    "name": "A slide ",
    "slideshow": {
     "slide_type": "slide"
    }
   }
  },
  {
   "cell_type": "markdown",
   "source": [
    "More advanced implementation, one can define the plotting options and apply them in the `heatmap()` call:\n",
    "\n",
    "```julia\n",
    "opts = (aspect_ratio=1, xlims=(xc[1], xc[end]), ylims=(yc[1], yc[end]), clims=(0.0, 1.0), c=:davos, xlabel=\"Lx\", ylabel=\"Ly\", title=\"time = $(round(it*dt, sigdigits=3))\")\n",
    "display(heatmap(xc, yc, C'; opts...))\n",
    "```"
   ],
   "metadata": {
    "name": "A slide ",
    "slideshow": {
     "slide_type": "fragment"
    }
   }
  },
  {
   "cell_type": "markdown",
   "source": [
    "That's how the 2D diffusion looks like:\n",
    "\n",
    "![diffusion](./figures/l4_diffusion_2D_1.gif)"
   ],
   "metadata": {
    "name": "A slide ",
    "slideshow": {
     "slide_type": "slide"
    }
   }
  },
  {
   "cell_type": "markdown",
   "source": [
    "Let's get started with 2D.\n",
    "\n",
    "**It's time to launch Julia on your computer** 🚀\n",
    "\n",
    "👉 [Download the `diffusion_1D.jl` script](https://github.com/eth-vaw-glaciology/course-101-0250-00/blob/main/scripts/) to get you started"
   ],
   "metadata": {
    "name": "A slide ",
    "slideshow": {
     "slide_type": "fragment"
    }
   }
  },
  {
   "cell_type": "markdown",
   "source": [
    "### That's it for the \"intro\" part on iterative approaches to solve PDEs.\n",
    "\n",
    "💻 Starting next week, we will port codes for (multi-) GPUs implementations"
   ],
   "metadata": {
    "name": "A slide ",
    "slideshow": {
     "slide_type": "slide"
    }
   }
  },
  {
   "cell_type": "markdown",
   "source": [
    "_Lecture 4_\n",
    "# Julia's Project environment"
   ],
   "metadata": {
    "name": "A slide ",
    "slideshow": {
     "slide_type": "slide"
    }
   }
  },
  {
   "cell_type": "markdown",
   "source": [
    "On GitHub, make sure to create a new folder for each week's exercises.\n",
    "\n",
    "Each week's folder should be a Julia project, i.e. contain a `Project.toml` file."
   ],
   "metadata": {
    "name": "A slide ",
    "slideshow": {
     "slide_type": "fragment"
    }
   }
  },
  {
   "cell_type": "markdown",
   "source": [
    "This can be achieved by typing entering the Pkg mode from the Julia REPL in the tatrget folder\n",
    "\n",
    "```julia-repl\n",
    "julia> ]\n",
    "\n",
    "(@v1.8) pkg> activate .\n",
    "\n",
    "(lectureXX) pkg> add Plots\n",
    "```\n",
    "\n",
    "and adding at least one package."
   ],
   "metadata": {
    "name": "A slide ",
    "slideshow": {
     "slide_type": "slide"
    }
   }
  },
  {
   "cell_type": "markdown",
   "source": [
    "In addition, it is recommended to have the following structure and content:\n",
    "- lectureXX\n",
    "  - `README.md`\n",
    "  - `Project.toml`\n",
    "  - `Manifest.toml`\n",
    "  - docs/\n",
    "  - scripts/"
   ],
   "metadata": {
    "name": "A slide ",
    "slideshow": {
     "slide_type": "slide"
    }
   }
  },
  {
   "cell_type": "markdown",
   "source": [
    "Codes could be placed in the `scripts/` folder. Output material to be displayed in the `README.md` could be placed in the `docs/` folder.\n",
    "\n",
    "The `Manifest.toml` file should be kept local. An automated way of doing so is to add it as entry to a `.gitignore` file in the root of your repo. Mac users may also add `.DS_Store` to their `.gitignore`."
   ],
   "metadata": {
    "name": "A slide ",
    "slideshow": {
     "slide_type": "fragment"
    }
   }
  }
 ],
 "nbformat_minor": 3,
 "metadata": {
  "language_info": {
   "file_extension": ".jl",
   "mimetype": "application/julia",
   "name": "julia",
   "version": "1.8.2"
  },
  "kernelspec": {
   "name": "julia-1.8",
   "display_name": "Julia 1.8.2",
   "language": "julia"
  }
 },
 "nbformat": 4
}
