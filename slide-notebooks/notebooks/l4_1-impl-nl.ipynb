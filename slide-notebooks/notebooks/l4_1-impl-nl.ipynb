{
 "cells": [
  {
   "cell_type": "markdown",
   "source": [
    "_Lecture 4_\n",
    "# Nonlinear and implicit solutions"
   ],
   "metadata": {
    "name": "A slide ",
    "slideshow": {
     "slide_type": "slide"
    }
   }
  },
  {
   "cell_type": "markdown",
   "source": [
    "### The goal of this lecture 4 is to explore:\n",
    "- Nonlinear solutions\n",
    "- Steady-state and implicit iterative solutions"
   ],
   "metadata": {
    "name": "A slide ",
    "slideshow": {
     "slide_type": "slide"
    }
   }
  },
  {
   "cell_type": "markdown",
   "source": [
    "### Building upon:\n",
    "- The diffusion equation\n",
    "- Spatial discretisation: 1D and 2D\n",
    "- Finite-differences and staggered grids"
   ],
   "metadata": {
    "name": "A slide ",
    "slideshow": {
     "slide_type": "fragment"
    }
   }
  },
  {
   "cell_type": "markdown",
   "source": [
    "## Nonlinear solutions\n",
    "\n",
    "Until now we investigated linear and transient processes using a forward Euler explicit time integration."
   ],
   "metadata": {
    "name": "A slide ",
    "slideshow": {
     "slide_type": "slide"
    }
   }
  },
  {
   "cell_type": "markdown",
   "source": [
    "However many interesting applications may exhibit nonlinear behaviours, e.g.,\n",
    "\n",
    "$$\\frac{∂H}{∂t}=\\frac{∂}{∂x}\\left(H^n\\frac{∂H}{∂x}\\right)~,$$\n",
    "\n",
    "where $H$ could be the ice thickness and $n$ a power-law exponent ($n=3-5$), as in depth-integrated or shallow ice approximation (SIA) models:"
   ],
   "metadata": {
    "name": "A slide ",
    "slideshow": {
     "slide_type": "fragment"
    }
   }
  },
  {
   "cell_type": "markdown",
   "source": [
    "![SIA](./figures/diffusion_nl_1D_1.gif)\n",
    "\n",
    "> So-called depth-integrated or shallow approximation equations are, e.g., the shallow ice equations or the [shallow water equations](https://en.wikipedia.org/wiki/Shallow_water_equations)"
   ],
   "metadata": {
    "name": "A slide ",
    "slideshow": {
     "slide_type": "slide"
    }
   }
  },
  {
   "cell_type": "markdown",
   "source": [
    "Adding nonlinearities in the explicit time integration approach is fairly straight forward.\n",
    "\n",
    "Let's turn the [linear 1D diffusion from lecture 2](/lecture2/#pdes_-_diffusion) into a shallow ice-like solver as push-up exercise.\n",
    "\n",
    "👉 [Download the `diffusion_1D.jl` script](https://github.com/eth-vaw-glaciology/course-101-0250-00/blob/main/scripts/) to get you started."
   ],
   "metadata": {
    "name": "A slide ",
    "slideshow": {
     "slide_type": "slide"
    }
   }
  },
  {
   "cell_type": "markdown",
   "source": [
    "We want to modify the linear 1D diffusion equation\n",
    "\n",
    "$$\\frac{∂C}{∂t}=-\\frac{∂}{∂x}\\left(-D\\frac{∂H}{∂x}\\right)~,$$\n",
    "\n",
    "into\n",
    "\n",
    "$$\\frac{∂H}{∂t}=-\\frac{∂}{∂x}\\left(-D_H\\frac{∂H}{∂x}\\right)~,$$\n",
    "\n",
    "where $D_H = (D_0~H)^n$ is the effective diffusion coefficient, and $H$ the, e.g., the ice thickness."
   ],
   "metadata": {
    "name": "A slide ",
    "slideshow": {
     "slide_type": "slide"
    }
   }
  },
  {
   "cell_type": "markdown",
   "source": [
    "Starting from the linear 1D diffusion code, we need to:\n",
    "- change `C` to `H`\n",
    "- implement the `H`-dependent diffusion coefficient\n",
    "- update `dt` definition\n",
    "\n",
    "Using the following parameters:\n",
    "\n",
    "```julia\n",
    "D0   = 5.0\n",
    "n    = 5\n",
    "```"
   ],
   "metadata": {
    "name": "A slide ",
    "slideshow": {
     "slide_type": "slide"
    }
   }
  },
  {
   "cell_type": "markdown",
   "source": [
    "💻 Let's get started 🚀"
   ],
   "metadata": {
    "name": "A slide ",
    "slideshow": {
     "slide_type": "fragment"
    }
   }
  },
  {
   "cell_type": "markdown",
   "source": [
    "> 💡 hint: Think about the staggering of the `H`-dependent effective diffusion coefficient. Since D is no longer constant, special care is needed for the time step definition `dt`."
   ],
   "metadata": {
    "name": "A slide ",
    "slideshow": {
     "slide_type": "slide"
    }
   }
  },
  {
   "cell_type": "markdown",
   "source": [
    "## Steady-state and implicit iterative solutions\n",
    "\n",
    "Let's now discuss how to implement steady-state and implicit iterative solvers."
   ],
   "metadata": {
    "name": "A slide ",
    "slideshow": {
     "slide_type": "slide"
    }
   }
  },
  {
   "cell_type": "markdown",
   "source": [
    "_But why?_\n",
    "\n",
    "- One may only be interested in the final distribution, or \"steady-state\"."
   ],
   "metadata": {
    "name": "A slide ",
    "slideshow": {
     "slide_type": "fragment"
    }
   }
  },
  {
   "cell_type": "markdown",
   "source": [
    "- Strong nonlinearities may not be captured with sufficient accuracy in explicit time integration."
   ],
   "metadata": {
    "name": "A slide ",
    "slideshow": {
     "slide_type": "fragment"
    }
   }
  },
  {
   "cell_type": "markdown",
   "source": [
    "## Steady-state\n",
    "\n",
    "Let's assume we are interested in a steady-state reached by a time-dependent diffusive processes\n",
    "\n",
    "$$\\frac{∂A}{∂t}=D~∇^2A~,$$\n",
    "\n",
    "for time $t→∞$ (or $∂t→∞$). This parabolic PDE then turns into an elliptic PDE as $∂A/∂t → 0$,\n",
    "\n",
    "$$0=D~∇^2A~.$$"
   ],
   "metadata": {
    "name": "A slide ",
    "slideshow": {
     "slide_type": "slide"
    }
   }
  },
  {
   "cell_type": "markdown",
   "source": [
    "How to solve $0=D~∇^2 A$ ?"
   ],
   "metadata": {
    "name": "A slide ",
    "slideshow": {
     "slide_type": "fragment"
    }
   }
  },
  {
   "cell_type": "markdown",
   "source": [
    "#### Solution 1\n",
    "Use a direct sparse solver approach: build a system of linear equations in the form $K~a=b$, where $a$ is the solution vector ($A$ from the Laplacian notation) and $K$ the finite-difference coefficient matrix ($D~∇^2$), then apply the inverse of $K$, $K^{-1}$, on $b$ to retrieve $a$ (you may be familiar with `a = K \\ b`)."
   ],
   "metadata": {
    "name": "A slide ",
    "slideshow": {
     "slide_type": "slide"
    }
   }
  },
  {
   "cell_type": "markdown",
   "source": [
    "#### Solution 2\n",
    "Use an iterative matrix-free approach: introduce (or bring back) the transient term (from explicit time integration) $∂a/∂t$ such that $∂a/∂t=b - K~a$ and use it to iteratively reach the steady state, i.e. when $∂a/∂t→0$."
   ],
   "metadata": {
    "name": "A slide ",
    "slideshow": {
     "slide_type": "fragment"
    }
   }
  },
  {
   "cell_type": "markdown",
   "source": [
    "#### Pros and cons Solution 1 _(non-exhaustive)_\n",
    "\n",
    "- +unconditionally stable\n",
    "- +insensitive to variation in material parameters (e.g. $D$)\n",
    "- +fast for \"few\" degrees of freedom (dofs)\n",
    "- -nonlinear growth of memory usage\n",
    "- -slow or impossible to apply to large systems (many dofs)\n",
    "- -complex to implement"
   ],
   "metadata": {
    "name": "A slide ",
    "slideshow": {
     "slide_type": "slide"
    }
   }
  },
  {
   "cell_type": "markdown",
   "source": [
    "#### Pros and cons Solution 2 _(non-exhaustive)_\n",
    "\n",
    "- +unconditionally stable for physical time (in the residual)\n",
    "- +simple to implement\n",
    "- +low memory usage linearly growing with problem size\n",
    "- -somewhat sensitive to variation in material parameters\n",
    "- -needs tuning of numerical parameters ($∂t$)\n",
    "- 👉 **needs second order implementation**"
   ],
   "metadata": {
    "name": "A slide ",
    "slideshow": {
     "slide_type": "slide"
    }
   }
  },
  {
   "cell_type": "markdown",
   "source": [
    "### Investigating _Solution 2_:\n",
    "- the limitations from the \"naive\" first order implementation\n",
    "- the second order implementation and its benefits."
   ],
   "metadata": {
    "name": "A slide ",
    "slideshow": {
     "slide_type": "slide"
    }
   }
  },
  {
   "cell_type": "markdown",
   "source": [
    "We will first implement\n",
    "\n",
    "$$0=D~∇^2A~,$$\n",
    "\n",
    "which we will use as \"smoother\", applying it to diffuse away initial random noise distribution."
   ],
   "metadata": {
    "name": "A slide ",
    "slideshow": {
     "slide_type": "fragment"
    }
   }
  },
  {
   "cell_type": "markdown",
   "source": [
    "💻 Let's get started implementing the 2D Laplacian\n",
    "\n",
    "```julia\n",
    "# Laplacian 2D\n",
    "using Plots\n",
    "\n",
    "@views function laplacian2D()\n",
    "\n",
    "    return\n",
    "end\n",
    "\n",
    "@time laplacian2D()\n",
    "```"
   ],
   "metadata": {
    "name": "A slide ",
    "slideshow": {
     "slide_type": "slide"
    }
   }
  },
  {
   "cell_type": "markdown",
   "source": [
    "We can use the following model configuration\n",
    "\n",
    "```julia\n",
    "fact    = 1\n",
    "# Physics\n",
    "lx, ly  = 10, 10\n",
    "D       = 1\n",
    "# Numerics\n",
    "nx, ny  = fact*50, fact*50\n",
    "dx, dy  = lx/nx, ly/ny\n",
    "niter   = 20*nx\n",
    "dt      = dx^2/D/4.1\n",
    "```"
   ],
   "metadata": {
    "name": "A slide ",
    "slideshow": {
     "slide_type": "slide"
    }
   }
  },
  {
   "cell_type": "markdown",
   "source": [
    "and initial conditions\n",
    "```julia\n",
    "# Initial conditions\n",
    "A       = ...\n",
    "dAdt    = ...\n",
    "A[...] .= rand(...)\n",
    "```"
   ],
   "metadata": {
    "name": "A slide ",
    "slideshow": {
     "slide_type": "slide"
    }
   }
  },
  {
   "cell_type": "markdown",
   "source": [
    "To display the initial condition:\n",
    "```julia\n",
    "display(heatmap(A', aspect_ratio=1, xlims=(1,nx), ylims=(1,ny)))\n",
    "```\n",
    "\n",
    "![init_rnd](./figures/init_rnd.png)"
   ],
   "metadata": {
    "name": "A slide ",
    "slideshow": {
     "slide_type": "slide"
    }
   }
  },
  {
   "cell_type": "markdown",
   "source": [
    "Second, we can implement the time loop.\n",
    "\n",
    "_But, is it iteration loop or time loop?_"
   ],
   "metadata": {
    "name": "A slide ",
    "slideshow": {
     "slide_type": "slide"
    }
   }
  },
  {
   "cell_type": "markdown",
   "source": [
    "If we were to solve a physical transient problem (parabolic PDE), this would be the physical time loop.\n",
    "\n",
    "However, we are here interested in minimising the residual function $D~∇^2A$ (such that $∂A/∂t→0$). Thus, we are speaking about **iterations or pseudo-time (i.e. numerics)**.\n",
    "\n",
    "This means that actually, $t$ has the meaning of $τ$, pseudo-time or numerics."
   ],
   "metadata": {
    "name": "A slide ",
    "slideshow": {
     "slide_type": "fragment"
    }
   }
  },
  {
   "cell_type": "markdown",
   "source": [
    "```julia\n",
    "errv = [] # storage for error\n",
    "# iteration loop\n",
    "for it = 1:niter\n",
    "   dAdt[...] .= ...\n",
    "   A         .= ...\n",
    "    if it % nx == 0\n",
    "        err = maximum(abs.(A)); push!(errv, err)\n",
    "       # visualisation (error evol plot + heatmap(A))\n",
    "    end\n",
    "end\n",
    "```"
   ],
   "metadata": {
    "name": "A slide ",
    "slideshow": {
     "slide_type": "slide"
    }
   }
  },
  {
   "cell_type": "markdown",
   "source": [
    "Hint for visualisation\n",
    "\n",
    "```julia\n",
    "p1=plot(nx:nx:it,log10.(errv), linewidth=3, markersize=4,\n",
    "        markershape=:circle, framestyle=:box, legend=false,\n",
    "        xlabel=\"iter\", ylabel=\"log10(max(|A|))\", title=\"iter=$it\")\n",
    "p2=heatmap(A', aspect_ratio=1, xlims=(1,nx), ylims=(1,ny),\n",
    "           title=\"max(|A|)=$(round(err,sigdigits=3))\")\n",
    "display(plot(p1,p2, dpi=150))\n",
    "```"
   ],
   "metadata": {
    "name": "A slide ",
    "slideshow": {
     "slide_type": "slide"
    }
   }
  },
  {
   "cell_type": "markdown",
   "source": [
    "Running the `Laplacian.jl` code with `nx, ny = 50, 50` (thus `niter = 1000`) produces the following output\n",
    "\n",
    "![Laplacian2D](./figures/Laplacian2D.png)"
   ],
   "metadata": {
    "name": "A slide ",
    "slideshow": {
     "slide_type": "slide"
    }
   }
  },
  {
   "cell_type": "markdown",
   "source": [
    "So over 1000 iterations, the magnitude of the error ($\\max(|A|)$) only dropped about 1/2 an order of magnitude.\n",
    "\n",
    "How can we improve this?"
   ],
   "metadata": {
    "name": "A slide ",
    "slideshow": {
     "slide_type": "slide"
    }
   }
  },
  {
   "cell_type": "markdown",
   "source": [
    "#### 👉 One needs a second order implementation"
   ],
   "metadata": {
    "name": "A slide ",
    "slideshow": {
     "slide_type": "fragment"
    }
   }
  },
  {
   "cell_type": "markdown",
   "source": [
    "The goal is to reach a steady-state, we thus seek the left-hand-side of the \"numerical\" parabolic equation\n",
    "\n",
    "$$\\frac{∂A}{∂t}=D~∇^2A~,$$\n",
    "\n",
    "to vanish upon convergence, i.e., $∂A/∂t→0$. To this end, we are free to add any additional terms as long as they will also tend towards 0 with iterations."
   ],
   "metadata": {
    "name": "A slide ",
    "slideshow": {
     "slide_type": "slide"
    }
   }
  },
  {
   "cell_type": "markdown",
   "source": [
    "We could thus add a second order term:\n",
    "\n",
    "$$\\frac{∂^2A}{∂t^2} + α \\frac{∂A}{∂t}=D~∇^2A~,$$\n",
    "\n",
    "where $α$ is a numerical parameter to optimise."
   ],
   "metadata": {
    "name": "A slide ",
    "slideshow": {
     "slide_type": "fragment"
    }
   }
  },
  {
   "cell_type": "markdown",
   "source": [
    "Adding specifically this second order term makes the parabolic PDE to switch to an hyperbolic system, e.g., the acoustic wave propagation."
   ],
   "metadata": {
    "name": "A slide ",
    "slideshow": {
     "slide_type": "slide"
    }
   }
  },
  {
   "cell_type": "markdown",
   "source": [
    "Even better, we actually have now a **damped wave equation**!\n",
    "\n",
    "_So what's exciting about it?_"
   ],
   "metadata": {
    "name": "A slide ",
    "slideshow": {
     "slide_type": "fragment"
    }
   }
  },
  {
   "cell_type": "markdown",
   "source": [
    "The first order method, a diffusion-like process (parabolic PDE), converges really slowly because the speed at which information travels during smoothing steps is limited by the diffusive CFL, function of $1/dx^2$. This limitation will also make the method scale **quadratically** with numerical resolution increase."
   ],
   "metadata": {
    "name": "A slide ",
    "slideshow": {
     "slide_type": "slide"
    }
   }
  },
  {
   "cell_type": "markdown",
   "source": [
    "A non-damped wave equation (hyperbolic PDE) features information travelling using the wave CFL, functrion of $1/dx$, and thus the method could scale **linearly** with numerical resolution increase. However, it would never converge."
   ],
   "metadata": {
    "name": "A slide ",
    "slideshow": {
     "slide_type": "fragment"
    }
   }
  },
  {
   "cell_type": "markdown",
   "source": [
    "The second order method is actually a damped wave equation; the damping introduces a dissipative term that allows to reach a steady state."
   ],
   "metadata": {
    "name": "A slide ",
    "slideshow": {
     "slide_type": "fragment"
    }
   }
  },
  {
   "cell_type": "markdown",
   "source": [
    "We can now tune the damping parameter to minimise the iteration count, finding the sweet spot between slowly converging diffusion and non-dissipative waves.\n",
    "\n",
    "> One classical reference to this method can be found in [Frankel (1950)](https://doi.org/10.2307/2002770), reported as _**the second order Richardson method**_.\\\n",
    "> In the coming weeks, a preprint will be made available that further discusses the second-order method, also named _**pseudo-transient method**_, and the optimal damping parameter selection."
   ],
   "metadata": {
    "name": "A slide ",
    "slideshow": {
     "slide_type": "slide"
    }
   }
  },
  {
   "cell_type": "markdown",
   "source": [
    "💻 Let's try it out. Starting from the `Laplacian.jl` script we just made, we'll turn it into a `Laplacian_damped.jl`."
   ],
   "metadata": {
    "name": "A slide ",
    "slideshow": {
     "slide_type": "fragment"
    }
   }
  },
  {
   "cell_type": "markdown",
   "source": [
    "Changes include now the addition of an `order` flag, damping term `dmp`, a wave-like time step definition,\n",
    "```julia\n",
    "order   = 2\n",
    "dmp     = 2.0/nx\n",
    "dt      = dx/sqrt(D)/2.1\n",
    "```\n",
    "\n",
    "and the second order pseudo-physics\n",
    "```julia\n",
    "dAdt[2:end-1,2:end-1] .= ... .*(1-dmp).*(order-1) .+\n",
    "A                     .= ...\n",
    "```"
   ],
   "metadata": {
    "name": "A slide ",
    "slideshow": {
     "slide_type": "slide"
    }
   }
  },
  {
   "cell_type": "markdown",
   "source": [
    "Running the `Laplacian_damped.jl` code with `nx, ny = 50, 50` (thus `niter = 1000`) produces the following output\n",
    "\n",
    "![Laplacian2D damped](./figures/Laplacian2D_damped.png)"
   ],
   "metadata": {
    "name": "A slide ",
    "slideshow": {
     "slide_type": "slide"
    }
   }
  },
  {
   "cell_type": "markdown",
   "source": [
    "Yay, over the same 1000 iterations, the magnitude of the error ($\\max(|A|)$) now dropped about 8 orders of magnitude.\n",
    "\n",
    "This is a massive improvement over the first order method for minor changes in code 🙂"
   ],
   "metadata": {
    "name": "A slide ",
    "slideshow": {
     "slide_type": "slide"
    }
   }
  },
  {
   "cell_type": "markdown",
   "source": [
    "Also the second order method:\n",
    "- only adds 1 array read (`dAdt`), and\n",
    "- is fully local (no global reduction is needed)"
   ],
   "metadata": {
    "name": "A slide ",
    "slideshow": {
     "slide_type": "fragment"
    }
   }
  },
  {
   "cell_type": "markdown",
   "source": [
    "Finally, we can verify that the second order method iteration count scales linearly with increase in numerical grid resolution."
   ],
   "metadata": {
    "name": "A slide ",
    "slideshow": {
     "slide_type": "slide"
    }
   }
  },
  {
   "cell_type": "markdown",
   "source": [
    "Note that various formulations of the second-order implementation exist and lead to a linear scaling of iteration count with resolution increase."
   ],
   "metadata": {
    "name": "A slide ",
    "slideshow": {
     "slide_type": "slide"
    }
   }
  },
  {
   "cell_type": "markdown",
   "source": [
    "## Implicit solutions\n",
    "\n",
    "The usage of _implicit_ may be confusing as it often lacks of clear definition and context.\n",
    "\n",
    "In a physics-based PDE world, an _implicit solution_ most often refers to:\n",
    "- a time-independent solution (steady-state), or\n",
    "- a time-dependant solution where the spatial derivatives are evaluated for the new time integration layer one is actually solving for."
   ],
   "metadata": {
    "name": "A slide ",
    "slideshow": {
     "slide_type": "slide"
    }
   }
  },
  {
   "cell_type": "markdown",
   "source": [
    "Achieving an implicit solution of following time-dependent diffusive (parabolic) PDE,\n",
    "\n",
    "$$\\frac{∂C}{∂t}=D~∇^2C~,$$\n",
    "\n",
    "implies a time discretisation as\n",
    "\n",
    "$$C^{t+∆t}=C^{t} + ∆t~D~∇^2C^{t+∆t}~.$$"
   ],
   "metadata": {
    "name": "A slide ",
    "slideshow": {
     "slide_type": "slide"
    }
   }
  },
  {
   "cell_type": "markdown",
   "source": [
    "In the iterative framework we previously discussed, a solution of this physical time-dependent diffusion equation can be achieved by:\n",
    "- collecting all physical terms in the right-hand-side (spatial and temporal derivatives),"
   ],
   "metadata": {
    "name": "A slide ",
    "slideshow": {
     "slide_type": "slide"
    }
   }
  },
  {
   "cell_type": "markdown",
   "source": [
    "- augmenting the system, on the left-hand-side, by a numerical or pseudo-time integration $∂C/∂τ$:\n",
    "\n",
    "$$\\frac{∂C}{∂τ}=-\\frac{∂C}{∂t} + D~∇^2C~.$$"
   ],
   "metadata": {
    "name": "A slide ",
    "slideshow": {
     "slide_type": "fragment"
    }
   }
  },
  {
   "cell_type": "markdown",
   "source": [
    "This system can now be solved using the second order method we previously introduced, the physical time derivative acting as a reaction term with $∆t$ the physical time-step acting as a \"reaction rate\" analogous:\n",
    "\n",
    "$$C^{τ+∆τ}=C^{τ} + ∆τ~\\left( -\\frac{C^{τ}-C^{t}}{∆t} + ~D~∇^2C^{τ} \\right)~,$$\n",
    "\n",
    "where $C^{τ} = C^{τ+∆τ} = C^{t+∆t}$ upon convergence, i.e., upon $∂C/∂τ → 0$."
   ],
   "metadata": {
    "name": "A slide ",
    "slideshow": {
     "slide_type": "slide"
    }
   }
  },
  {
   "cell_type": "markdown",
   "source": [
    "This approach is also known as the \"dual-time stepping\"."
   ],
   "metadata": {
    "name": "A slide ",
    "slideshow": {
     "slide_type": "fragment"
    }
   }
  },
  {
   "cell_type": "markdown",
   "source": [
    "### That's it for the \"intro\" part on iterative approaches to solve PDEs.\n",
    "\n",
    "💻 Starting next week, we will port codes for (multi-) GPUs implementations"
   ],
   "metadata": {
    "name": "A slide ",
    "slideshow": {
     "slide_type": "slide"
    }
   }
  },
  {
   "cell_type": "markdown",
   "source": [
    "_Lecture 4_\n",
    "# Julia's Project environment"
   ],
   "metadata": {
    "name": "A slide ",
    "slideshow": {
     "slide_type": "slide"
    }
   }
  },
  {
   "cell_type": "markdown",
   "source": [
    "On GitHub, make sure to create a new folder for each week's exercises.\n",
    "\n",
    "Each week's folder should be a Julia project, i.e. contain a `Project.toml` file."
   ],
   "metadata": {
    "name": "A slide ",
    "slideshow": {
     "slide_type": "fragment"
    }
   }
  },
  {
   "cell_type": "markdown",
   "source": [
    "This can be achieved by typing entering the Pkg mode from the Julia REPL in the tatrget folder\n",
    "\n",
    "```julia-repl\n",
    "julia> ]\n",
    "\n",
    "(@v1.6) pkg> activate .\n",
    "\n",
    "(lectureXX) pkg> add Plots\n",
    "```\n",
    "\n",
    "and adding at least one package."
   ],
   "metadata": {
    "name": "A slide ",
    "slideshow": {
     "slide_type": "slide"
    }
   }
  },
  {
   "cell_type": "markdown",
   "source": [
    "In addition, it is recommended to have the following structure and content:\n",
    "- lectureXX\n",
    "  - `README.md`\n",
    "  - `Project.toml`\n",
    "  - `Manifest.toml`\n",
    "  - docs/\n",
    "  - scripts/"
   ],
   "metadata": {
    "name": "A slide ",
    "slideshow": {
     "slide_type": "slide"
    }
   }
  },
  {
   "cell_type": "markdown",
   "source": [
    "Codes could be placed in the `scripts/` folder. Output material to be displayed in the `README.md` could be placed in the `docs/` folder.\n",
    "\n",
    "The `Manifest.toml` file should be kept local. An automated way of doing so is to add it as entry to a `.gitignore` file in the root of your repo. Mac users may also add `.DS_Store` to their `.gitignore`."
   ],
   "metadata": {
    "name": "A slide ",
    "slideshow": {
     "slide_type": "fragment"
    }
   }
  }
 ],
 "nbformat_minor": 3,
 "metadata": {
  "language_info": {
   "file_extension": ".jl",
   "mimetype": "application/julia",
   "name": "julia",
   "version": "1.7.3"
  },
  "kernelspec": {
   "name": "julia-1.7",
   "display_name": "Julia 1.7.3",
   "language": "julia"
  }
 },
 "nbformat": 4
}
