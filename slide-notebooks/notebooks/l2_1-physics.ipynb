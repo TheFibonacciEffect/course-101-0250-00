{
 "cells": [
  {
   "cell_type": "markdown",
   "source": [
    "_Lecture 2_\n",
    "# ODEs & PDEs: advection - diffusion - reaction"
   ],
   "metadata": {
    "name": "A slide ",
    "slideshow": {
     "slide_type": "slide"
    }
   }
  },
  {
   "cell_type": "markdown",
   "source": [
    "Reaction - Diffusion - Advection gifs"
   ],
   "metadata": {
    "name": "A slide ",
    "slideshow": {
     "slide_type": "slide"
    }
   }
  },
  {
   "cell_type": "markdown",
   "source": [
    "### The goal of this lecture 2 is to familiarise (or refresh) with\n",
    "- Ordinary differential equations - ODEs (e.g. reaction equation)\n",
    "- Partial differential equations - PDEs (e.g. diffusion and advection equations)"
   ],
   "metadata": {
    "name": "A slide ",
    "slideshow": {
     "slide_type": "slide"
    }
   }
  },
  {
   "cell_type": "markdown",
   "source": [
    "- Finite-difference discretisation\n",
    "- Explicit solutions\n",
    "- Multi-process (physics) coupling"
   ],
   "metadata": {
    "name": "A slide ",
    "slideshow": {
     "slide_type": "fragment"
    }
   }
  },
  {
   "cell_type": "markdown",
   "source": [
    "> A partial differential equation (PDE) is an equation which imposes relations between the various partial derivatives of a multivariable function.\n",
    "\n",
    "> Ordinary differential equations form a subclass of partial differential equations, corresponding to functions of a single variable\".\n",
    "\n",
    "[_Wikipedia_](https://en.wikipedia.org/wiki/Partial_differential_equation)"
   ],
   "metadata": {
    "name": "A slide ",
    "slideshow": {
     "slide_type": "slide"
    }
   }
  },
  {
   "cell_type": "markdown",
   "source": [
    "## ODEs\n",
    "Simple reaction equations, finite-difference method and explicit solution"
   ],
   "metadata": {
    "name": "A slide ",
    "slideshow": {
     "slide_type": "slide"
    }
   }
  },
  {
   "cell_type": "markdown",
   "source": [
    "Let's take-off 🚀"
   ],
   "metadata": {
    "name": "A slide ",
    "slideshow": {
     "slide_type": "fragment"
    }
   }
  },
  {
   "cell_type": "markdown",
   "source": [
    "Our first task is to design a numerical solution approach for the following reaction process (e.g. [reaction kinetics](https://en.wikipedia.org/wiki/Chemical_kinetics))\n",
    "\n",
    "$$\n",
    "\\frac{∂C}{∂t} = -\\frac{C-C_{eq}}{ξ}~,\n",
    "$$"
   ],
   "metadata": {
    "name": "A slide ",
    "slideshow": {
     "slide_type": "slide"
    }
   }
  },
  {
   "cell_type": "markdown",
   "source": [
    "where $C$ is the concentration of ,e.g. a specific chemical quantity, $t$ is time, $C_{eq}$ is the equilibrium concentration of $C$ and $ξ$ is the reaction rate."
   ],
   "metadata": {
    "name": "A slide ",
    "slideshow": {
     "slide_type": "fragment"
    }
   }
  },
  {
   "cell_type": "markdown",
   "source": [
    "Suppose the reaction kinetics process occurs in a spatial domain (x-direction) of $Lx=10.0$, consider a reaction rate $ξ=10.0$ and an equilibrium concentration $C_{eq}=0.5$.\n",
    "\n",
    "The goal is now to predict the evolution of a system with initial random distribution of concentration $C$ in the range $[0, 1]$ for non-dimensional total time of $20.0$."
   ],
   "metadata": {
    "name": "A slide ",
    "slideshow": {
     "slide_type": "slide"
    }
   }
  },
  {
   "outputs": [],
   "cell_type": "code",
   "source": [
    "# Physics\n",
    "Lx   = 10.0\n",
    "ξ    = 10.0\n",
    "Ceq  = 0.5\n",
    "ttot = 20.0"
   ],
   "metadata": {},
   "execution_count": null
  },
  {
   "cell_type": "markdown",
   "source": [
    "As next step, one needs to discretise the continuum problem in both space and time. We will use a [finite-difference](https://en.wikipedia.org/wiki/Finite_difference) spatial discretisation and an explicit ([forward Euler](https://en.wikipedia.org/wiki/Euler_method)) time integration scheme."
   ],
   "metadata": {
    "name": "A slide ",
    "slideshow": {
     "slide_type": "slide"
    }
   }
  },
  {
   "cell_type": "markdown",
   "source": [
    "In a new `# Numerics` section we define the number of grid points we will use to discretise our physical domain $Lx$."
   ],
   "metadata": {
    "name": "A slide ",
    "slideshow": {
     "slide_type": "fragment"
    }
   }
  },
  {
   "cell_type": "markdown",
   "source": [
    "Then, in a `# Derived numerics` section, we compute the grid size `dx`, the time-step `dt`, the number of time-steps `nt` and the vector containing the coordinate of all cell centres `xc`."
   ],
   "metadata": {
    "name": "A slide ",
    "slideshow": {
     "slide_type": "slide"
    }
   }
  },
  {
   "outputs": [],
   "cell_type": "code",
   "source": [
    "# Numerics\n",
    "nx   = 128\n",
    "# Derived numerics\n",
    "dx   = Lx/nx\n",
    "dt   = ξ/2.0\n",
    "nt   = cld(ttot, dt)\n",
    "xc   = LinRange(dx/2, Lx-dx/2, nx)"
   ],
   "metadata": {},
   "execution_count": null
  },
  {
   "cell_type": "markdown",
   "source": [
    "> 💡 hint:\n",
    "> type `?` in the Julia REPL followed by the function you want to know more about to display infos"
   ],
   "metadata": {
    "name": "A slide ",
    "slideshow": {
     "slide_type": "fragment"
    }
   }
  },
  {
   "cell_type": "markdown",
   "source": [
    "We now need to initialise 3 1D arrays to hold information about concentration `C`, initial concentration distribution `Ci`, and rate of change of concentration `dCdt`."
   ],
   "metadata": {
    "name": "A slide ",
    "slideshow": {
     "slide_type": "slide"
    }
   }
  },
  {
   "outputs": [],
   "cell_type": "code",
   "source": [
    "# Array initialisation\n",
    "C    =  rand(Float64, nx)\n",
    "Ci   =  copy(C)\n",
    "dCdt = zeros(Float64, nx)"
   ],
   "metadata": {},
   "execution_count": null
  },
  {
   "cell_type": "markdown",
   "source": [
    "> 💡 hint: note we here work with double precision arithmetic `Float64`"
   ],
   "metadata": {
    "name": "A slide ",
    "slideshow": {
     "slide_type": "fragment"
    }
   }
  },
  {
   "cell_type": "markdown",
   "source": [
    "Remains the most important part, the `# Time loop` where _predictive_ action should take place. We will loop from `it=1` to `nt` computing the rate of change of `C`, `dCdt`, and then updating `C`. We also want to visualise the evolution of the concentration distribution."
   ],
   "metadata": {
    "name": "A slide ",
    "slideshow": {
     "slide_type": "slide"
    }
   }
  },
  {
   "outputs": [],
   "cell_type": "code",
   "source": [
    "using Plots\n",
    "\n",
    "# Time loop\n",
    "for it = 1:nt\n",
    "  #dCdt = ...\n",
    "  #C    = ...\n",
    "  display(plot(xc, C, lw=2, xlims=(xc[1], xc[end]), ylims=(0.0, 1.0),\n",
    "                xlabel=\"Lx\", ylabel=\"Concentration\", title=\"time = $(it*dt)\",\n",
    "                framestyle=:box, label=\"Concentration\"))\n",
    "end"
   ],
   "metadata": {},
   "execution_count": null
  },
  {
   "cell_type": "markdown",
   "source": [
    "- Make sure to update the arrays `dCdt` and `C` using the [dot syntax](https://docs.julialang.org/en/v1/manual/functions/#man-vectorized) for vectorised functions."
   ],
   "metadata": {
    "name": "A slide ",
    "slideshow": {
     "slide_type": "slide"
    }
   }
  },
  {
   "cell_type": "markdown",
   "source": [
    "- The `display()` function will force to update the figure within the loop. Note that in Jupyter notebooks, you can use following syntax to avoid the creation of a new figure at each step."
   ],
   "metadata": {
    "name": "A slide ",
    "slideshow": {
     "slide_type": "fragment"
    }
   }
  },
  {
   "outputs": [],
   "cell_type": "code",
   "source": [
    "using IJulia\n",
    "IJulia.clear_output(true)\n",
    "display(plot(...))"
   ],
   "metadata": {},
   "execution_count": null
  },
  {
   "cell_type": "markdown",
   "source": [
    "After the time loop, we can also display the initial concentration we stored `Ci` and the equilibrium concentration `Ceq`:"
   ],
   "metadata": {
    "name": "A slide ",
    "slideshow": {
     "slide_type": "slide"
    }
   }
  },
  {
   "outputs": [],
   "cell_type": "code",
   "source": [
    "plot!(xc, Ci, lw=2, label=\"C initial\")\n",
    "display(plot!(xc, Ceq*ones(nx), lw=2, label=\"Ceq\"))"
   ],
   "metadata": {},
   "execution_count": null
  },
  {
   "cell_type": "markdown",
   "source": [
    "We may want to write a single \"monolithic\" code to perform these steps that looks as following"
   ],
   "metadata": {
    "name": "A slide ",
    "slideshow": {
     "slide_type": "slide"
    }
   }
  },
  {
   "outputs": [],
   "cell_type": "code",
   "source": [
    "using Plots\n",
    "\n",
    "@views function reaction_1D()\n",
    "    # Physics\n",
    "    Lx   = 10.0\n",
    "    ξ    = 10.0\n",
    "    Ceq  = 0.5\n",
    "    ttot = 20.0\n",
    "    # Numerics\n",
    "    nx   = 128\n",
    "    # Derived numerics\n",
    "    dx   = Lx/nx\n",
    "    dt   = ξ/2.0\n",
    "    nt   = cld(ttot, dt)\n",
    "    xc   = LinRange(dx/2, Lx-dx/2, nx)\n",
    "    # Array initialisation\n",
    "    C    =  rand(Float64, nx)\n",
    "    Ci   =  copy(C)\n",
    "    dCdt = zeros(Float64, nx)\n",
    "    # Time loop\n",
    "    for it = 1:nt\n",
    "        #dCdt\n",
    "        #C\n",
    "        display(plot(xc, C, lw=2, xlims=(xc[1], xc[end]), ylims=(0.0, 1.0),\n",
    "                xlabel=\"Lx\", ylabel=\"Concentration\", title=\"time = $(it*dt)\",\n",
    "                framestyle=:box, label=\"Concentration\"))\n",
    "    end\n",
    "    plot!(xc, Ci, lw=2, label=\"C initial\")\n",
    "    display(plot!(xc, Ceq*ones(nx), lw=2, label=\"Ceq\"))\n",
    "    return\n",
    "end\n",
    "\n",
    "reaction_1D()"
   ],
   "metadata": {},
   "execution_count": null
  },
  {
   "cell_type": "markdown",
   "source": [
    "So, excellent, we have our first 1D ODE solver up and running in Julia :-)"
   ],
   "metadata": {
    "name": "A slide ",
    "slideshow": {
     "slide_type": "slide"
    }
   }
  },
  {
   "cell_type": "markdown",
   "source": [
    "## PDEs\n",
    "\n",
    "From reactions to diffusion and advection - involving neighbouring cells."
   ],
   "metadata": {
    "name": "A slide ",
    "slideshow": {
     "slide_type": "slide"
    }
   }
  }
 ],
 "nbformat_minor": 3,
 "metadata": {
  "language_info": {
   "file_extension": ".jl",
   "mimetype": "application/julia",
   "name": "julia",
   "version": "1.6.1"
  },
  "kernelspec": {
   "name": "julia-1.6",
   "display_name": "Julia 1.6.1",
   "language": "julia"
  }
 },
 "nbformat": 4
}
