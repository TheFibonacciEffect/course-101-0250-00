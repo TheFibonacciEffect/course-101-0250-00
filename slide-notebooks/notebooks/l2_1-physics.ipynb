{
 "cells": [
  {
   "cell_type": "markdown",
   "source": [
    "_Lecture 2_\n",
    "# PDEs and physical processes - diffusion, wave propagation, advection"
   ],
   "metadata": {
    "name": "A slide ",
    "slideshow": {
     "slide_type": "slide"
    }
   }
  },
  {
   "cell_type": "markdown",
   "source": [
    "### The goal of this lecture 2 is to familiarise (or refresh) with\n",
    "- Ordinary differential equations - ODEs (e.g. reaction equation)\n",
    "- Partial differential equations - PDEs (e.g. diffusion and advection equations)"
   ],
   "metadata": {
    "name": "A slide ",
    "slideshow": {
     "slide_type": "slide"
    }
   }
  },
  {
   "cell_type": "markdown",
   "source": [
    "- Finite-difference discretisation\n",
    "- Explicit solutions\n",
    "- Multi-process (physics) coupling"
   ],
   "metadata": {
    "name": "A slide ",
    "slideshow": {
     "slide_type": "fragment"
    }
   }
  },
  {
   "cell_type": "markdown",
   "source": [
    "A **partial differential equation (PDE)** is an equation which imposes relations between the various partial derivatives of a multivariable function. [_Wikipedia_](https://en.wikipedia.org/wiki/Partial_differential_equation)"
   ],
   "metadata": {
    "name": "A slide ",
    "slideshow": {
     "slide_type": "slide"
    }
   }
  },
  {
   "cell_type": "markdown",
   "source": [
    "> _**Classification of second-order PDEs:**_\n",
    ">  - **Parabolic:**\\\n",
    ">    $∂u/∂t - α ∇^2 u - b = 0$ (e.g. transient heat diffusion)\n",
    ">  - **Hyperbolic:**\\\n",
    ">    $∂^2u/∂t^2 - c^2 ∇^2 u = 0$ (e.g. acoustic wave equation)\n",
    ">  - **Elliptic:**\\\n",
    ">    $∇^2 u - b = 0$ (e.g. steady state diffusion, Laplacian)"
   ],
   "metadata": {}
  },
  {
   "cell_type": "markdown",
   "source": [
    "## Parabolic PDEs - diffusion"
   ],
   "metadata": {
    "name": "A slide ",
    "slideshow": {
     "slide_type": "slide"
    }
   }
  },
  {
   "cell_type": "markdown",
   "source": [
    "<center>\n",
    "  <video width=\"80%\" autoplay loop controls src=\"./figures/diffusion_1D.mp4\"/>\n",
    "</center>"
   ],
   "metadata": {}
  },
  {
   "cell_type": "markdown",
   "source": [
    "The [diffusion equation](https://en.wikipedia.org/wiki/Diffusion_equation) was introduced by Fourier in 1822 to understand heat distribution ([heat equation](https://en.wikipedia.org/wiki/Heat_equation)) in various materials.\n",
    "\n",
    "Diffusive processes were also employed by Fick in 1855 with application to chemical and particle diffusion ([Fick's law](https://en.wikipedia.org/wiki/Fick%27s_laws_of_diffusion))."
   ],
   "metadata": {
    "name": "A slide ",
    "slideshow": {
     "slide_type": "slide"
    }
   }
  },
  {
   "cell_type": "markdown",
   "source": [
    "The diffusion equation is often reported as a second order parabolic PDE, here for a multivariable function $C(x,t)$ showing derivatives in both temporal $∂t$ and spatial $∂x$ derivatives (here for the 1D case)\n",
    "\n",
    "$$\n",
    "\\frac{∂C}{∂t} = D\\frac{∂^2 C}{∂ x^2}~,\n",
    "$$\n",
    "\n",
    "where $D$ is the diffusion coefficient."
   ],
   "metadata": {
    "name": "A slide ",
    "slideshow": {
     "slide_type": "slide"
    }
   }
  },
  {
   "cell_type": "markdown",
   "source": [
    "A more general description combines a diffusive flux:\n",
    "\n",
    "$$ q = -D\\frac{∂C}{∂x}~,$$"
   ],
   "metadata": {
    "name": "A slide ",
    "slideshow": {
     "slide_type": "slide"
    }
   }
  },
  {
   "cell_type": "markdown",
   "source": [
    "and a conservation or flux balance equations:\n",
    "\n",
    "$$ \\frac{∂C}{∂t} = -\\frac{∂q}{∂x}~. $$"
   ],
   "metadata": {
    "name": "A slide ",
    "slideshow": {
     "slide_type": "fragment"
    }
   }
  },
  {
   "cell_type": "markdown",
   "source": [
    "To discretise the diffusion equation, we will keep the explicit forward Euler method as temporal discretisation and use [finite-differences](https://en.wikipedia.org/wiki/Finite_difference) for the spatial discretisation.\n",
    "\n",
    "Finite-differences discretisation on regular staggered grid allows for concise and performance oriented algorithms, because only neighbouring cell access is needed to evaluate gradient and data alignment is natively pretty optimal."
   ],
   "metadata": {
    "name": "A slide ",
    "slideshow": {
     "slide_type": "slide"
    }
   }
  },
  {
   "cell_type": "markdown",
   "source": [
    "A long story short, we will approximate the gradient of concentration $C$ over a distance $∂x$, a first derivative $\\frac{∂C}{∂x}$, we will perform following discrete operation\n",
    "\n",
    "$$ \\frac{C_{x+dx} - C_{x}}{dx}~, $$\n",
    "\n",
    "where $dx$ is the discrete size of the cell.\n",
    "\n",
    "The same reasoning also applies to the flux balance equation."
   ],
   "metadata": {
    "name": "A slide ",
    "slideshow": {
     "slide_type": "slide"
    }
   }
  },
  {
   "cell_type": "markdown",
   "source": [
    "We can use Julia's `diff()` operator to apply the $ C_{x+dx} - C_{x} $,\n",
    "```julia\n",
    "C[ix+1] - C[ix]\n",
    "```\n",
    "in a vectorised fashion to our entire `C` vector as\n",
    "```julia\n",
    "diff(C)\n",
    "```"
   ],
   "metadata": {
    "name": "A slide ",
    "slideshow": {
     "slide_type": "slide"
    }
   }
  },
  {
   "cell_type": "markdown",
   "source": [
    "So, we are ready to solve the 1D diffusion equation."
   ],
   "metadata": {
    "name": "A slide ",
    "slideshow": {
     "slide_type": "slide"
    }
   }
  },
  {
   "cell_type": "markdown",
   "source": [
    "We introduce the physical parameters that are relevant for the considered problem, i.e., the domain length `lx` and the diffusion coefficient `dc`:\n",
    "\n",
    "```julia\n",
    "# Physics\n",
    "lx   = 10.0\n",
    "dc   = 1.0\n",
    "```"
   ],
   "metadata": {
    "name": "A slide ",
    "slideshow": {
     "slide_type": "fragment"
    }
   }
  },
  {
   "cell_type": "markdown",
   "source": [
    "Then we declare numerical parameters: the number of grid cells used to discretize the computational domain `nx`, and the frequency of updating the visualisation:\n",
    "\n",
    "```julia\n",
    "# numerics\n",
    "nx   = 200\n",
    "nvis = 5\n",
    "```"
   ],
   "metadata": {
    "name": "A slide ",
    "slideshow": {
     "slide_type": "fragment"
    }
   }
  },
  {
   "cell_type": "markdown",
   "source": [
    "In the `# array initialisation` section, we need to initialise one array to store the concentration field `C`, and the diffusive flux in the x direction `qx`:\n",
    "\n",
    "```julia\n",
    "# array initialisation\n",
    "C    = @. sin(10π*xc/lx); C_i = copy(C)\n",
    "qx   = zeros(Float64, nx) # won't work\n",
    "```"
   ],
   "metadata": {
    "name": "A slide ",
    "slideshow": {
     "slide_type": "slide"
    }
   }
  },
  {
   "cell_type": "markdown",
   "source": [
    "Wait... why it wouldn't work?"
   ],
   "metadata": {
    "name": "A slide ",
    "slideshow": {
     "slide_type": "fragment"
    }
   }
  },
  {
   "cell_type": "markdown",
   "source": [
    "👉 Your turn. Let's implement our first diffusion solver trying to think about how to solve the staggering issue."
   ],
   "metadata": {
    "name": "A slide ",
    "slideshow": {
     "slide_type": "fragment"
    }
   }
  },
  {
   "cell_type": "markdown",
   "source": [
    "The initialisation steps of the diffusion code should contain"
   ],
   "metadata": {
    "name": "A slide ",
    "slideshow": {
     "slide_type": "slide"
    }
   }
  },
  {
   "outputs": [],
   "cell_type": "code",
   "source": [
    "# physics\n",
    "lx   = 20.0\n",
    "dc   = 1.0\n",
    "# numerics\n",
    "nx   = 200\n",
    "nvis = 5\n",
    "# derived numerics\n",
    "dx   = lx/nx\n",
    "dt   = dx^2/dc/2\n",
    "nt   = nx^2 ÷ 100\n",
    "xc   = LinRange(dx/2,lx-dx/2,nx)\n",
    "# array initialisation\n",
    "C    = @. sin(10π*xc/lx); C_i = copy(C)\n",
    "qx   = zeros(Float64, nx) # won't work"
   ],
   "metadata": {},
   "execution_count": null
  },
  {
   "cell_type": "markdown",
   "source": [
    "Followed by the 3 physics computations (lines) in the time loop"
   ],
   "metadata": {
    "name": "A slide ",
    "slideshow": {
     "slide_type": "slide"
    }
   }
  },
  {
   "outputs": [],
   "cell_type": "code",
   "source": [
    "# Time loop\n",
    "for it = 1:nt\n",
    "    #q x         .= # add solution\n",
    "    #C[2:end-1] .-= # add solution\n",
    "    # Visualisation\n",
    "end"
   ],
   "metadata": {},
   "execution_count": null
  },
  {
   "cell_type": "markdown",
   "source": [
    "One can examine the size of the various vectors ..."
   ],
   "metadata": {
    "name": "A slide ",
    "slideshow": {
     "slide_type": "slide"
    }
   }
  },
  {
   "outputs": [],
   "cell_type": "code",
   "source": [
    "# check sizes and staggering\n",
    "@show size(qx)\n",
    "@show size(C)\n",
    "@show size(C[2:end-1])"
   ],
   "metadata": {},
   "execution_count": null
  },
  {
   "cell_type": "markdown",
   "source": [
    "... and visualise it"
   ],
   "metadata": {
    "name": "A slide ",
    "slideshow": {
     "slide_type": "slide"
    }
   }
  },
  {
   "outputs": [],
   "cell_type": "code",
   "source": [
    "using Plots\n",
    "plot(xc               , C   , label=\"Concentration\", linewidth=:1.0, markershape=:circle, markersize=5, framestyle=:box)\n",
    "plot!(xc[1:end-1].+dx/2, qx  , label=\"flux of concentration\", linewidth=:1.0, markershape=:circle, markersize=5, framestyle=:box)"
   ],
   "metadata": {},
   "execution_count": null
  },
  {
   "cell_type": "markdown",
   "source": [
    "Let's implement the diffusion solver"
   ],
   "metadata": {
    "name": "A slide ",
    "slideshow": {
     "slide_type": "slide"
    }
   }
  },
  {
   "outputs": [],
   "cell_type": "code",
   "source": [
    "using Plots\n",
    "\n",
    "@views function diffusion_1D()\n",
    "    # Physics\n",
    "    Lx   = 10.0\n",
    "    D    = 1.0\n",
    "    ttot = 2.0\n",
    "    # Numerics\n",
    "    nx   = 128\n",
    "    nout = 10\n",
    "    # Derived numerics\n",
    "    dx   = Lx/nx\n",
    "    dt   = dx^2/D/2.1\n",
    "    nt   = cld(ttot, dt)\n",
    "    xc   = LinRange(dx/2, Lx-dx/2, nx)\n",
    "    # Array initialisation\n",
    "    C    =  rand(Float64, nx)\n",
    "    Ci   =  copy(C)\n",
    "    dCdt = zeros(Float64, nx-2)\n",
    "    qx   = zeros(Float64, nx-1)\n",
    "    # Time loop\n",
    "    for it = 1:nt\n",
    "        #qx         .= # add solution\n",
    "        #dCdt       .= # add solution\n",
    "        C[2:end-1] .= C[2:end-1] .+ dt.*dCdt\n",
    "        if it % nout == 0\n",
    "            IJulia.clear_output(true); plot(xc, Ci, lw=2, label=\"C initial\")\n",
    "            display(plot!(xc, C, lw=2, xlims=(xc[1], xc[end]), ylims=(0.0, 1.0), xlabel=\"Lx\", ylabel=\"Concentration\", title=\"time = $(round(it*dt, sigdigits=3))\", framestyle=:box, label=\"concentration\"))\n",
    "            sleep(0.1)\n",
    "        end\n",
    "    end\n",
    "    return\n",
    "end"
   ],
   "metadata": {},
   "execution_count": null
  },
  {
   "cell_type": "markdown",
   "source": [
    "And execute it"
   ],
   "metadata": {
    "name": "A slide ",
    "slideshow": {
     "slide_type": "slide"
    }
   }
  },
  {
   "outputs": [],
   "cell_type": "code",
   "source": [
    "diffusion_1D()"
   ],
   "metadata": {},
   "execution_count": null
  },
  {
   "cell_type": "markdown",
   "source": [
    "Note: plotting and visualisation is slow. A convenient workaround is to only visualise or render the figure every `nout` iteration within the time loop\n",
    "\n",
    "```julia\n",
    "if it % nout == 0\n",
    "    plot()\n",
    "end\n",
    "```"
   ],
   "metadata": {
    "name": "A slide ",
    "slideshow": {
     "slide_type": "slide"
    }
   }
  },
  {
   "cell_type": "markdown",
   "source": [
    "## Hyperbolic PDEs - acoustic wave propagation"
   ],
   "metadata": {
    "name": "A slide ",
    "slideshow": {
     "slide_type": "slide"
    }
   }
  },
  {
   "cell_type": "markdown",
   "source": [
    "<center>\n",
    "  <video width=\"80%\" autoplay loop controls src=\"./figures/acoustic_1D.mp4\"/>\n",
    "</center>"
   ],
   "metadata": {}
  },
  {
   "cell_type": "markdown",
   "source": [
    "## The wave equation\n",
    "\n",
    "The wave equation is a second-order partial differential equation."
   ],
   "metadata": {
    "name": "A slide ",
    "slideshow": {
     "slide_type": "slide"
    }
   }
  },
  {
   "cell_type": "markdown",
   "source": [
    "> The [wave equation](https://en.wikipedia.org/wiki/Wave_equation) is a second-order linear partial differential equation for the description of waves—as they occur in classical physics—such as mechanical waves (e.g. water waves, sound waves and seismic waves) or light waves. [_Wikipedia_](https://en.wikipedia.org/wiki/Wave_equation)"
   ],
   "metadata": {
    "name": "A slide ",
    "slideshow": {
     "slide_type": "slide"
    }
   }
  },
  {
   "cell_type": "markdown",
   "source": [
    "The hyperbolic equation reads\n",
    "\n",
    "$$ \\frac{∂^2u}{∂t^2} = c^2 ∇^2 u~,$$\n",
    "\n",
    "where\n",
    "- $u$ is pressure, displacement (or another scalar quantity)\n",
    "- $c$ a non-negative real constant (speed of sound, stiffness, ...)"
   ],
   "metadata": {
    "name": "A slide ",
    "slideshow": {
     "slide_type": "fragment"
    }
   }
  },
  {
   "cell_type": "markdown",
   "source": [
    "The wave equation can be elegantly derived, e.g., from [Hooke's law](https://en.wikipedia.org/wiki/Wave_equation#From_Hooke's_law) and second law of Newton considering masses interconnected with springs.\n",
    "\n",
    "![hook](./figures/hooke.png)\n",
    "\n",
    "$$ F_\\mathrm{Newton}~~=~~F_\\mathrm{Hook}~,$$\n",
    "\n",
    "$$ m⋅a(t)~~=~~k x_+ - k x_-~,$$\n",
    "\n",
    "where $m$ is the mass, $k$ de spring stiffness, and $x_+$, $x_-$ the oscillations of the masses (small distances). The acceleration $a(t)$ can be substituted by the second derivative of displacement $u$ as function of time $t$, $∂^2u/∂t^2$, while balancing $x_+ - x_-$ and taking the limit leads to $∂^2u/∂x^2$."
   ],
   "metadata": {
    "name": "A slide ",
    "slideshow": {
     "slide_type": "slide"
    }
   }
  },
  {
   "cell_type": "markdown",
   "source": [
    "### Back to the wave equation\n",
    "\n",
    "The the first objective of this lecture is to implement the wave equation in 1D (spatial discretisation) using an explicit time integration (forward Euler) as seen in lecture 2 for the advection-diffusion-reaction physics."
   ],
   "metadata": {
    "name": "A slide ",
    "slideshow": {
     "slide_type": "slide"
    }
   }
  },
  {
   "cell_type": "markdown",
   "source": [
    "Also, we will consider acoustic or pressure waves. We can thus rewrite the wave equation as\n",
    "\n",
    "$$ \\frac{∂^2 P}{∂t^2} = c^2 ∇^2 P~,$$\n",
    "\n",
    "where\n",
    "- $P$ is pressure\n",
    "- $c$ is the speed of sound"
   ],
   "metadata": {
    "name": "A slide ",
    "slideshow": {
     "slide_type": "fragment"
    }
   }
  },
  {
   "cell_type": "markdown",
   "source": [
    "## First-order PDEs - advection"
   ],
   "metadata": {
    "name": "A slide ",
    "slideshow": {
     "slide_type": "slide"
    }
   }
  },
  {
   "cell_type": "markdown",
   "source": [
    "<center>\n",
    "  <video width=\"80%\" autoplay loop controls src=\"./figures/advection_1D.mp4\"/>\n",
    "</center>"
   ],
   "metadata": {}
  },
  {
   "cell_type": "markdown",
   "source": [
    "> Advection is a partial differential equation that governs the motion of a conserved scalar field as it is advected by a known velocity vector field. [_Wikipedia_](https://en.wikipedia.org/wiki/Advection)"
   ],
   "metadata": {
    "name": "A slide ",
    "slideshow": {
     "slide_type": "fragment"
    }
   }
  },
  {
   "cell_type": "markdown",
   "source": [
    "We will here briefly discuss advection of a quantity $C$ by a constant velocity $v_x$ in the one-dimensional x-direction.\n",
    "\n",
    "$$ \\frac{∂C}{∂t} = -\\frac{∂(v_x~C)}{∂x} ~.$$"
   ],
   "metadata": {
    "name": "A slide ",
    "slideshow": {
     "slide_type": "slide"
    }
   }
  },
  {
   "cell_type": "markdown",
   "source": [
    "In case the flow is incompressible ($∇⋅v = 0$ - here $\\frac{∂v_x}{∂x}=0$), the advection equation can be rewritten as\n",
    "\n",
    "$$ \\frac{∂C}{∂t} = -v_x \\frac{∂C}{∂x} ~.$$"
   ],
   "metadata": {
    "name": "A slide ",
    "slideshow": {
     "slide_type": "fragment"
    }
   }
  },
  {
   "cell_type": "markdown",
   "source": [
    "Let's once more start from the simple 1D reaction code, modifying it to implement the advection equation."
   ],
   "metadata": {
    "name": "A slide ",
    "slideshow": {
     "slide_type": "slide"
    }
   }
  },
  {
   "cell_type": "markdown",
   "source": [
    "Starting from the reaction code, turn `ξ` into `vx=1.0`, the advection velocity, remove `C_eq`, set total simulation time `ttot = 5.0`\n",
    "\n",
    "```julia\n",
    "# Physics\n",
    "Lx   = 10.0\n",
    "vx   = 1.0\n",
    "ttot = 5.0\n",
    "```"
   ],
   "metadata": {
    "name": "A slide ",
    "slideshow": {
     "slide_type": "fragment"
    }
   }
  },
  {
   "cell_type": "markdown",
   "source": [
    "The only change in the `# Derived numerics` section is the stable advection time step definition, to comply with the [CFL stability condition](https://en.wikipedia.org/wiki/Courant–Friedrichs–Lewy_condition) for explicit time integration.\n",
    "\n",
    "```julia\n",
    "# Derived numerics\n",
    "dt   = dx/vx\n",
    "```"
   ],
   "metadata": {
    "name": "A slide ",
    "slideshow": {
     "slide_type": "fragment"
    }
   }
  },
  {
   "cell_type": "markdown",
   "source": [
    "In the `# Array initialisation` section, initialise the quantity `C` as a Gaussian profile of amplitude 1, standard deviation 1, with centre located at $c = 0.3 Lx$.\n",
    "\n",
    "```julia\n",
    "C = exp.( ... )\n",
    "```"
   ],
   "metadata": {
    "name": "A slide ",
    "slideshow": {
     "slide_type": "slide"
    }
   }
  },
  {
   "cell_type": "markdown",
   "source": [
    "> 💡 hint: Gaussian distribution as function of coordinate $x_c$, $ C = \\exp(x_c - c)^2 $"
   ],
   "metadata": {
    "name": "A slide ",
    "slideshow": {
     "slide_type": "fragment"
    }
   }
  },
  {
   "cell_type": "markdown",
   "source": [
    "One should also pay attention regarding the correct initialisation of `dCdt` in terms of vector dimension, since the rate of change of `C`, `dCdt`, is the derivative of `C`."
   ],
   "metadata": {
    "name": "A slide ",
    "slideshow": {
     "slide_type": "fragment"
    }
   }
  },
  {
   "cell_type": "markdown",
   "source": [
    "Defining `dCdt` as following\n",
    "\n",
    "```julia\n",
    "dCdt     .= .-vx.*diff(C)./dx\n",
    "```\n",
    "\n",
    "implements the right and side of the 1D advection equation."
   ],
   "metadata": {
    "name": "A slide ",
    "slideshow": {
     "slide_type": "slide"
    }
   }
  },
  {
   "cell_type": "markdown",
   "source": [
    "Now, the question is how to add `dCdt` to `C` within the update rule ?"
   ],
   "metadata": {
    "name": "A slide ",
    "slideshow": {
     "slide_type": "fragment"
    }
   }
  },
  {
   "cell_type": "markdown",
   "source": [
    "3 (main) possibilities exist.\n",
    "\n",
    "👉 Your turn. Try it out yourself and motivate your best choice."
   ],
   "metadata": {
    "name": "A slide ",
    "slideshow": {
     "slide_type": "fragment"
    }
   }
  },
  {
   "cell_type": "markdown",
   "source": [
    "Initialise the simulation"
   ],
   "metadata": {
    "name": "A slide ",
    "slideshow": {
     "slide_type": "slide"
    }
   }
  },
  {
   "outputs": [],
   "cell_type": "code",
   "source": [
    "using Plots, IJulia\n",
    "# Physics\n",
    "Lx   = 10.0\n",
    "vx   = 1.0\n",
    "ttot = 5.0\n",
    "# Numerics\n",
    "nx   = 128\n",
    "nout = 10\n",
    "# Derived numerics\n",
    "dx   = Lx/nx\n",
    "dt   = dx/vx\n",
    "nt   = cld(ttot, dt)\n",
    "xc   = LinRange(dx/2, Lx-dx/2, nx)\n",
    "# Array initialisation\n",
    "#C    =  exp.(  )\n",
    "Ci   =  copy(C)\n",
    "#dCdt = zeros ..."
   ],
   "metadata": {},
   "execution_count": null
  },
  {
   "cell_type": "markdown",
   "source": [
    "Execute the time loop"
   ],
   "metadata": {
    "name": "A slide ",
    "slideshow": {
     "slide_type": "slide"
    }
   }
  },
  {
   "outputs": [],
   "cell_type": "code",
   "source": [
    "# Time loop\n",
    "for it = 1:nt\n",
    "    #dCdt .= ...\n",
    "    #C    .= ...\n",
    "    # add solution\n",
    "    if it % nout == 0\n",
    "        IJulia.clear_output(true); plot(xc, Ci, lw=2, label=\"C initial\")\n",
    "        display(plot!(xc, C, lw=2, xlims=(xc[1], xc[end]), ylims=(0.0, 1.0), xlabel=\"Lx\", ylabel=\"Concentration\", title=\"time = $(round(it*dt, sigdigits=3))\", framestyle=:box, label=\"C\"))\n",
    "        sleep(0.1)\n",
    "    end\n",
    "end"
   ],
   "metadata": {},
   "execution_count": null
  },
  {
   "cell_type": "markdown",
   "source": [
    "Here we go, an upwind approach is needed to implement a stable advection algorithm\n",
    "\n",
    "```julia\n",
    "C[2:end]   .= C[2:end]   .+ dt.*dCdt # if vx>0\n",
    "C[1:end-1] .= C[1:end-1] .+ dt.*dCdt # if vx<0\n",
    "```"
   ],
   "metadata": {
    "name": "A slide ",
    "slideshow": {
     "slide_type": "slide"
    }
   }
  },
  {
   "cell_type": "markdown",
   "source": [
    "## Wrapping-up\n",
    "\n",
    "- We implemented and solved PDEs for reaction, diffusion and advection processes in 1D"
   ],
   "metadata": {
    "name": "A slide ",
    "slideshow": {
     "slide_type": "slide"
    }
   }
  },
  {
   "cell_type": "markdown",
   "source": [
    "- We used conservative staggered grid finite-differences, explicit forward Euler time stepping and upwind scheme (advection)."
   ],
   "metadata": {
    "name": "A slide ",
    "slideshow": {
     "slide_type": "fragment"
    }
   }
  },
  {
   "cell_type": "markdown",
   "source": [
    "Note that this is far from being the only way to tackle numerical solutions to these PDEs. In this course, we will stick to those concepts as they will allow for efficient GPU (parallel) implementations."
   ],
   "metadata": {
    "name": "A slide ",
    "slideshow": {
     "slide_type": "fragment"
    }
   }
  }
 ],
 "nbformat_minor": 3,
 "metadata": {
  "language_info": {
   "file_extension": ".jl",
   "mimetype": "application/julia",
   "name": "julia",
   "version": "1.7.3"
  },
  "kernelspec": {
   "name": "julia-1.7",
   "display_name": "Julia 1.7.3",
   "language": "julia"
  }
 },
 "nbformat": 4
}
