{
 "cells": [
  {
   "cell_type": "markdown",
   "source": [
    "_Lecture 2_\n",
    "# ODEs & PDEs: reaction - diffusion - advection"
   ],
   "metadata": {
    "name": "A slide ",
    "slideshow": {
     "slide_type": "slide"
    }
   }
  },
  {
   "cell_type": "markdown",
   "source": [
    "Reaction - Diffusion - Advection gifs"
   ],
   "metadata": {
    "name": "A slide ",
    "slideshow": {
     "slide_type": "slide"
    }
   }
  },
  {
   "cell_type": "markdown",
   "source": [
    "### The goal of this lecture 2 is to familiarise (or refresh) with\n",
    "- Ordinary differential equations - ODEs (e.g. reaction equation)\n",
    "- Partial differential equations - PDEs (e.g. diffusion and advection equations)"
   ],
   "metadata": {
    "name": "A slide ",
    "slideshow": {
     "slide_type": "slide"
    }
   }
  },
  {
   "cell_type": "markdown",
   "source": [
    "- Finite-difference discretisation\n",
    "- Explicit solutions\n",
    "- Multi-process (physics) coupling"
   ],
   "metadata": {
    "name": "A slide ",
    "slideshow": {
     "slide_type": "fragment"
    }
   }
  },
  {
   "cell_type": "markdown",
   "source": [
    "> A **partial differential equation (PDE)** is an equation which imposes relations between the various partial derivatives of a multivariable function.\\\n",
    "> **Ordinary differential equations (ODE)** form a subclass of partial differential equations, corresponding to functions of a single variable. [_Wikipedia_](https://en.wikipedia.org/wiki/Partial_differential_equation)"
   ],
   "metadata": {
    "name": "A slide ",
    "slideshow": {
     "slide_type": "slide"
    }
   }
  },
  {
   "cell_type": "markdown",
   "source": [
    "## ODEs - reaction\n",
    "Simple reaction equation, finite-difference method and explicit solution"
   ],
   "metadata": {
    "name": "A slide ",
    "slideshow": {
     "slide_type": "slide"
    }
   }
  },
  {
   "cell_type": "markdown",
   "source": [
    "Let's take-off 🚀"
   ],
   "metadata": {
    "name": "A slide ",
    "slideshow": {
     "slide_type": "fragment"
    }
   }
  },
  {
   "cell_type": "markdown",
   "source": [
    "Our first task is to design a numerical solution approach for the following reaction process (e.g. [reaction kinetics](https://en.wikipedia.org/wiki/Chemical_kinetics))\n",
    "\n",
    "$$\n",
    "\\frac{∂C}{∂t} = -\\frac{C-C_{eq}}{ξ}~,\n",
    "$$"
   ],
   "metadata": {
    "name": "A slide ",
    "slideshow": {
     "slide_type": "slide"
    }
   }
  },
  {
   "cell_type": "markdown",
   "source": [
    "where $C$ is the concentration of ,e.g. a specific chemical quantity, $t$ is time, $C_{eq}$ is the equilibrium concentration of $C$ and $ξ$ is the reaction rate."
   ],
   "metadata": {
    "name": "A slide ",
    "slideshow": {
     "slide_type": "fragment"
    }
   }
  },
  {
   "cell_type": "markdown",
   "source": [
    "Suppose the reaction kinetics process occurs in a spatial domain (x-direction) of $Lx=10.0$, consider a reaction rate $ξ=10.0$ and an equilibrium concentration $C_{eq}=0.5$.\n",
    "\n",
    "The goal is now to predict the evolution of a system with initial random distribution of concentration $C$ in the range $[0, 1]$ for non-dimensional total time of $20.0$.\n",
    "\n",
    "```julia\n",
    "# Physics\n",
    "Lx   = 10.0\n",
    "ξ    = 10.0\n",
    "Ceq  = 0.5\n",
    "ttot = 20.0\n",
    "```"
   ],
   "metadata": {
    "name": "A slide ",
    "slideshow": {
     "slide_type": "slide"
    }
   }
  },
  {
   "cell_type": "markdown",
   "source": [
    "As next step, one needs to discretise the continuum problem in both space and time. We will use a [finite-difference](https://en.wikipedia.org/wiki/Finite_difference) spatial discretisation and an explicit ([forward Euler](https://en.wikipedia.org/wiki/Euler_method)) time integration scheme."
   ],
   "metadata": {
    "name": "A slide ",
    "slideshow": {
     "slide_type": "slide"
    }
   }
  },
  {
   "cell_type": "markdown",
   "source": [
    "In a new `# Numerics` section we define the number of grid points we will use to discretise our physical domain $Lx$."
   ],
   "metadata": {
    "name": "A slide ",
    "slideshow": {
     "slide_type": "fragment"
    }
   }
  },
  {
   "cell_type": "markdown",
   "source": [
    "Then, in a `# Derived numerics` section, we compute the grid size `dx`, the time-step `dt`, the number of time-steps `nt` and the vector containing the coordinate of all cell centres `xc`.\n",
    "\n",
    "```julia\n",
    "# Numerics\n",
    "nx   = 128\n",
    "# Derived numerics\n",
    "dx   = Lx/nx\n",
    "dt   = ξ/2.0\n",
    "nt   = cld(ttot, dt)\n",
    "xc   = LinRange(dx/2, Lx-dx/2, nx)\n",
    "```"
   ],
   "metadata": {
    "name": "A slide ",
    "slideshow": {
     "slide_type": "slide"
    }
   }
  },
  {
   "cell_type": "markdown",
   "source": [
    "> 💡 hint:\n",
    "> Type `?` in the Julia REPL followed by the function you want to know more about to display infos"
   ],
   "metadata": {
    "name": "A slide ",
    "slideshow": {
     "slide_type": "fragment"
    }
   }
  },
  {
   "cell_type": "markdown",
   "source": [
    "We now need to initialise 3 1D arrays to hold information about concentration `C`, initial concentration distribution `Ci`, and rate of change of concentration `dCdt`.\n",
    "\n",
    "```julia\n",
    "# Array initialisation\n",
    "C    =  rand(Float64, nx)\n",
    "Ci   =  copy(C)\n",
    "dCdt = zeros(Float64, nx)\n",
    "```"
   ],
   "metadata": {
    "name": "A slide ",
    "slideshow": {
     "slide_type": "slide"
    }
   }
  },
  {
   "cell_type": "markdown",
   "source": [
    "> 💡 hint: Note we here work with double precision arithmetic `Float64`"
   ],
   "metadata": {
    "name": "A slide ",
    "slideshow": {
     "slide_type": "fragment"
    }
   }
  },
  {
   "cell_type": "markdown",
   "source": [
    "Remains the most important part, the `# Time loop` where _predictive_ action should take place. We will loop from `it=1` to `nt` computing the rate of change of `C`, `dCdt`, and then updating `C`. We also want to visualise the evolution of the concentration distribution.\n",
    "\n",
    "```julia\n",
    "using Plots\n",
    "\n",
    "# Time loop\n",
    "for it = 1:nt\n",
    "  dCdt = ...\n",
    "  C    = ...\n",
    "  display(plot(xc, C, lw=2, xlims=(xc[1], xc[end]), ylims=(0.0, 1.0),\n",
    "               xlabel=\"Lx\", ylabel=\"Concentration\", title=\"time = $(it*dt)\",\n",
    "               framestyle=:box, label=\"Concentration\"))\n",
    "end\n",
    "```"
   ],
   "metadata": {
    "name": "A slide ",
    "slideshow": {
     "slide_type": "slide"
    }
   }
  },
  {
   "cell_type": "markdown",
   "source": [
    "- Make sure to update the arrays `dCdt` and `C` using the [dot syntax](https://docs.julialang.org/en/v1/manual/functions/#man-vectorized) for vectorised functions."
   ],
   "metadata": {
    "name": "A slide ",
    "slideshow": {
     "slide_type": "slide"
    }
   }
  },
  {
   "cell_type": "markdown",
   "source": [
    "- The `display()` function will force to update the figure within the loop. Note that in Jupyter notebooks, you can use following syntax to avoid the creation of a new figure at each step.\n",
    "\n",
    "```julia\n",
    "using IJulia\n",
    "IJulia.clear_output(true)\n",
    "display(plot(...))\n",
    "```"
   ],
   "metadata": {
    "name": "A slide ",
    "slideshow": {
     "slide_type": "fragment"
    }
   }
  },
  {
   "cell_type": "markdown",
   "source": [
    "👉 Your turn. Let's implement the reaction physics."
   ],
   "metadata": {
    "name": "A slide ",
    "slideshow": {
     "slide_type": "fragment"
    }
   }
  },
  {
   "cell_type": "markdown",
   "source": [
    "After the time loop, we can also display the initial concentration we stored `Ci` and the equilibrium concentration `Ceq`:\n",
    "\n",
    "```julia\n",
    "plot!(xc, Ci, lw=2, label=\"C initial\")\n",
    "display(plot!(xc, Ceq*ones(nx), lw=2, label=\"Ceq\"))\n",
    "```\n",
    "\n",
    "Note that calling further instances of `plot!()` will act as \"hold-on\" and allow to display multiple objects on top of each other."
   ],
   "metadata": {
    "name": "A slide ",
    "slideshow": {
     "slide_type": "slide"
    }
   }
  },
  {
   "cell_type": "markdown",
   "source": [
    "We may want to write a single \"monolithic\" `reaction_1D.jl` code to perform these steps that looks as following"
   ],
   "metadata": {
    "name": "A slide ",
    "slideshow": {
     "slide_type": "slide"
    }
   }
  },
  {
   "outputs": [],
   "cell_type": "code",
   "source": [
    "using Plots\n",
    "@views function reaction_1D()\n",
    "    # Physics\n",
    "    Lx   = 10.0\n",
    "    ξ    = 10.0\n",
    "    Ceq  = 0.5\n",
    "    ttot = 20.0\n",
    "    # Numerics\n",
    "    nx   = 128\n",
    "    # Derived numerics\n",
    "    dx   = Lx/nx\n",
    "    dt   = ξ/2.0\n",
    "    nt   = cld(ttot, dt)\n",
    "    xc   = LinRange(dx/2, Lx-dx/2, nx)\n",
    "    # Array initialisation\n",
    "    C    =  rand(Float64, nx)\n",
    "    Ci   =  copy(C)\n",
    "    dCdt = zeros(Float64, nx)\n",
    "    # Time loop\n",
    "    for it = 1:nt\n",
    "        dCdt .= # add solution\n",
    "        C    .= # add solution\n",
    "        IJulia.clear_output(true); display(plot(xc, C, lw=2, xlims=(xc[1], xc[end]), ylims=(0.0, 1.0), xlabel=\"Lx\", ylabel=\"Concentration\", title=\"time = $(it*dt)\", framestyle=:box, label=\"Concentration\"))\n",
    "        sleep(0.1)\n",
    "    end\n",
    "    IJulia.clear_output(true); plot!(xc, Ci, lw=2, label=\"C initial\")\n",
    "    IJulia.clear_output(true); display(plot!(xc, Ceq*ones(nx), lw=2, label=\"Ceq\"))\n",
    "    return\n",
    "end"
   ],
   "metadata": {},
   "execution_count": null
  },
  {
   "cell_type": "markdown",
   "source": [
    "Let's execute it and visualise output"
   ],
   "metadata": {
    "name": "A slide ",
    "slideshow": {
     "slide_type": "slide"
    }
   }
  },
  {
   "outputs": [],
   "cell_type": "code",
   "source": [
    "reaction_1D()"
   ],
   "metadata": {},
   "execution_count": null
  },
  {
   "cell_type": "markdown",
   "source": [
    "So, excellent, we have our first 1D ODE solver up and running in Julia :-)"
   ],
   "metadata": {
    "name": "A slide ",
    "slideshow": {
     "slide_type": "slide"
    }
   }
  },
  {
   "cell_type": "markdown",
   "source": [
    "## PDEs - diffusion\n",
    "\n",
    "From reactions to diffusion and advection - involving gradients (neighbouring cells)."
   ],
   "metadata": {
    "name": "A slide ",
    "slideshow": {
     "slide_type": "slide"
    }
   }
  },
  {
   "cell_type": "markdown",
   "source": [
    "Starting from the reaction script that we just finalised, we will now do as few as possible changes to solve the diffusion equation."
   ],
   "metadata": {
    "name": "A slide ",
    "slideshow": {
     "slide_type": "fragment"
    }
   }
  },
  {
   "cell_type": "markdown",
   "source": [
    "The [diffusion equation](https://en.wikipedia.org/wiki/Diffusion_equation) was introduced by Fourier in 1822 to understand heat distribution ([heat equation](https://en.wikipedia.org/wiki/Heat_equation)) in various materials.\n",
    "\n",
    "Diffusive processes were also employed by Fick in 1855 with application to chemical and particle diffusion ([Fick's law](https://en.wikipedia.org/wiki/Fick%27s_laws_of_diffusion))."
   ],
   "metadata": {
    "name": "A slide ",
    "slideshow": {
     "slide_type": "slide"
    }
   }
  },
  {
   "cell_type": "markdown",
   "source": [
    "The diffusion equation is often reported as a second order parabolic PDE, here for a multivariable function $C(x,t)$ showing derivatives in both temporal $∂t$ and spatial $∂x$ derivatives (here for the 1D case)\n",
    "\n",
    "$$\n",
    "\\frac{∂C}{∂t} = D\\frac{∂^2 C}{∂ x^2}~,\n",
    "$$\n",
    "\n",
    "where $D$ is the diffusion coefficient."
   ],
   "metadata": {
    "name": "A slide ",
    "slideshow": {
     "slide_type": "slide"
    }
   }
  },
  {
   "cell_type": "markdown",
   "source": [
    "The second order formulation is only possible if the diffusion coefficient D is a single value valid in all the considered domain.\n",
    "\n",
    "A more general description allowing for non-uniform, non-linear diffusion coefficient combines a diffusive flux:\n",
    "\n",
    "$$ q = -D\\frac{∂C}{∂x}~,$$"
   ],
   "metadata": {
    "name": "A slide ",
    "slideshow": {
     "slide_type": "slide"
    }
   }
  },
  {
   "cell_type": "markdown",
   "source": [
    "and a conservation or flux balance equations:\n",
    "\n",
    "$$ \\frac{∂C}{∂t} = -\\frac{∂q}{∂x}~. $$"
   ],
   "metadata": {
    "name": "A slide ",
    "slideshow": {
     "slide_type": "fragment"
    }
   }
  },
  {
   "cell_type": "markdown",
   "source": [
    "To discretise the diffusion equation, we will keep the explicit forward Euler method as temporal discretisation and use [finite-differences](https://en.wikipedia.org/wiki/Finite_difference) for the spatial discretisation.\n",
    "\n",
    "Finite-differences discretisation on regular staggered grid allows for concise and performance oriented algorithms, because only neighbouring cell access is needed to evaluate gradient and data alignment is natively pretty optimal."
   ],
   "metadata": {
    "name": "A slide ",
    "slideshow": {
     "slide_type": "slide"
    }
   }
  },
  {
   "cell_type": "markdown",
   "source": [
    "A long story short, we will approximate the gradient of concentration $C$ over a distance $∂x$, a first derivative $\\frac{∂C}{∂x}$, we will perform following discrete operation\n",
    "\n",
    "$$ \\frac{C_{x+dx} - C_{x}}{dx}~, $$\n",
    "\n",
    "where $dx$ is the discrete size of the cell.\n",
    "\n",
    "The same reasoning also applies to the flux balance equation."
   ],
   "metadata": {
    "name": "A slide ",
    "slideshow": {
     "slide_type": "slide"
    }
   }
  },
  {
   "cell_type": "markdown",
   "source": [
    "We can use Julia's `diff()` operator to apply the $ C_{x+dx} - C_{x} $,\n",
    "```julia\n",
    "C[ix+1] - C[ix]\n",
    "```\n",
    "in a vectorised fashion to our entire `C` vector as\n",
    "```julia\n",
    "diff(C)\n",
    "```"
   ],
   "metadata": {
    "name": "A slide ",
    "slideshow": {
     "slide_type": "slide"
    }
   }
  },
  {
   "cell_type": "markdown",
   "source": [
    "So, we are ready to solve the 1D diffusion equation."
   ],
   "metadata": {
    "name": "A slide ",
    "slideshow": {
     "slide_type": "slide"
    }
   }
  },
  {
   "cell_type": "markdown",
   "source": [
    "Starting from the reaction code, turn `ξ` into `D=1.0`, the diffusion coefficient, remove `C_eq`, set total simulation time `ttot = 2.0`\n",
    "\n",
    "```julia\n",
    "# Physics\n",
    "Lx   = 10.0\n",
    "D    = 1.0\n",
    "ttot = 2.0\n",
    "```"
   ],
   "metadata": {
    "name": "A slide ",
    "slideshow": {
     "slide_type": "fragment"
    }
   }
  },
  {
   "cell_type": "markdown",
   "source": [
    "The only change in the `# Derived numerics` section is the diffusive stable time step definition, to comply with the [CFL stability condition](https://en.wikipedia.org/wiki/Courant–Friedrichs–Lewy_condition) for explicit time integration\n",
    "\n",
    "```julia\n",
    "# Derived numerics\n",
    "dt   = dx^2/D/2.1\n",
    "```"
   ],
   "metadata": {
    "name": "A slide ",
    "slideshow": {
     "slide_type": "fragment"
    }
   }
  },
  {
   "cell_type": "markdown",
   "source": [
    "In the `# Array initialisation` section, we need a new object to hold the diffusive flux in x direction `qx`\n",
    "\n",
    "```julia\n",
    "dCdt = zeros(Float64, nx) # wrong size - will fail because of staggering\n",
    "qx   = zeros(Float64, nx) # wrong size - will fail because of staggering\n",
    "```"
   ],
   "metadata": {
    "name": "A slide ",
    "slideshow": {
     "slide_type": "slide"
    }
   }
  },
  {
   "cell_type": "markdown",
   "source": [
    "Wait... what about the staggering ?\n",
    "\n",
    "No surprise `C .= diff(C)` won't work ..."
   ],
   "metadata": {
    "name": "A slide ",
    "slideshow": {
     "slide_type": "fragment"
    }
   }
  },
  {
   "cell_type": "markdown",
   "source": [
    "👉 Your turn. Let's implement our first diffusion solver trying to think about how to solve the staggering issue."
   ],
   "metadata": {
    "name": "A slide ",
    "slideshow": {
     "slide_type": "fragment"
    }
   }
  },
  {
   "cell_type": "markdown",
   "source": [
    "The initialisation steps of the diffusion code should contain"
   ],
   "metadata": {
    "name": "A slide ",
    "slideshow": {
     "slide_type": "slide"
    }
   }
  },
  {
   "outputs": [],
   "cell_type": "code",
   "source": [
    "# Physics\n",
    "Lx   = 10.0\n",
    "D    = 1.0\n",
    "ttot = 2.0\n",
    "# Numerics\n",
    "nx   = 12\n",
    "nout = 10\n",
    "# Derived numerics\n",
    "dx   = Lx/nx\n",
    "dt   = dx^2/D/2.1\n",
    "nt   = cld(ttot, dt)\n",
    "xc   = LinRange(dx/2, Lx-dx/2, nx)\n",
    "# Array initialisation\n",
    "C    =  rand(Float64, nx)\n",
    "Ci   =  copy(C)\n",
    "dCdt = zeros(Float64, nx-2)\n",
    "qx   = zeros(Float64, nx-1);"
   ],
   "metadata": {},
   "execution_count": null
  },
  {
   "cell_type": "markdown",
   "source": [
    "Followed by the 3 physics computations (lines) in the time loop"
   ],
   "metadata": {
    "name": "A slide ",
    "slideshow": {
     "slide_type": "slide"
    }
   }
  },
  {
   "outputs": [],
   "cell_type": "code",
   "source": [
    "# Time loop\n",
    "for it = 1:nt\n",
    "    #qx         .= # add solution\n",
    "    #dCdt       .= # add solution\n",
    "    C[2:end-1] .= C[2:end-1] .+ dt.*dCdt\n",
    "    # Visualisation\n",
    "end"
   ],
   "metadata": {},
   "execution_count": null
  },
  {
   "cell_type": "markdown",
   "source": [
    "One can examine the size of the various vectors ..."
   ],
   "metadata": {
    "name": "A slide ",
    "slideshow": {
     "slide_type": "slide"
    }
   }
  },
  {
   "outputs": [],
   "cell_type": "code",
   "source": [
    "# check sizes and staggering\n",
    "@show size(qx)\n",
    "@show size(dCdt)\n",
    "@show size(C)\n",
    "@show size(C[2:end-1]);"
   ],
   "metadata": {},
   "execution_count": null
  },
  {
   "cell_type": "markdown",
   "source": [
    "... and visualise it"
   ],
   "metadata": {
    "name": "A slide ",
    "slideshow": {
     "slide_type": "slide"
    }
   }
  },
  {
   "outputs": [],
   "cell_type": "code",
   "source": [
    "using Plots\n",
    " plot(xc               , C   , label=\"Concentration\", linewidth=:1.0, markershape=:circle, markersize=5, framestyle=:box)\n",
    "plot!(xc[1:end-1].+dx/2, qx  , label=\"flux of concentration\", linewidth=:1.0, markershape=:circle, markersize=5, framestyle=:box)\n",
    "plot!(xc[2:end-1]      , dCdt, label=\"rate of change\", linewidth=:1.0, markershape=:circle, markersize=5, framestyle=:box)"
   ],
   "metadata": {},
   "execution_count": null
  },
  {
   "cell_type": "markdown",
   "source": [
    "Let's implement the diffusion solver"
   ],
   "metadata": {
    "name": "A slide ",
    "slideshow": {
     "slide_type": "slide"
    }
   }
  },
  {
   "outputs": [],
   "cell_type": "code",
   "source": [
    "using Plots\n",
    "\n",
    "@views function diffusion_1D()\n",
    "    # Physics\n",
    "    Lx   = 10.0\n",
    "    D    = 1.0\n",
    "    ttot = 2.0\n",
    "    # Numerics\n",
    "    nx   = 128\n",
    "    nout = 10\n",
    "    # Derived numerics\n",
    "    dx   = Lx/nx\n",
    "    dt   = dx^2/D/2.1\n",
    "    nt   = cld(ttot, dt)\n",
    "    xc   = LinRange(dx/2, Lx-dx/2, nx)\n",
    "    # Array initialisation\n",
    "    C    =  rand(Float64, nx)\n",
    "    Ci   =  copy(C)\n",
    "    dCdt = zeros(Float64, nx-2)\n",
    "    qx   = zeros(Float64, nx-1)\n",
    "    # Time loop\n",
    "    for it = 1:nt\n",
    "        qx         .= # add solution\n",
    "        dCdt       .= # add solution\n",
    "        C[2:end-1] .= C[2:end-1] .+ dt.*dCdt\n",
    "        if it % nout == 0\n",
    "            IJulia.clear_output(true); plot(xc, Ci, lw=2, label=\"C initial\")\n",
    "            display(plot!(xc, C, lw=2, xlims=(xc[1], xc[end]), ylims=(0.0, 1.0), xlabel=\"Lx\", ylabel=\"Concentration\", title=\"time = $(round(it*dt, sigdigits=3))\", framestyle=:box, label=\"concentration\"))\n",
    "            sleep(0.1)\n",
    "        end\n",
    "    end\n",
    "    return\n",
    "end"
   ],
   "metadata": {},
   "execution_count": null
  },
  {
   "cell_type": "markdown",
   "source": [
    "And execute it"
   ],
   "metadata": {
    "name": "A slide ",
    "slideshow": {
     "slide_type": "slide"
    }
   }
  },
  {
   "outputs": [],
   "cell_type": "code",
   "source": [
    "diffusion_1D()"
   ],
   "metadata": {},
   "execution_count": null
  },
  {
   "cell_type": "markdown",
   "source": [
    "Note: plotting and visualisation is slow. A convenient workaround is to only visualise or render the figure every `nout` iteration within the time loop\n",
    "\n",
    "```julia\n",
    "if it % nout == 0\n",
    "    plot()\n",
    "end\n",
    "```"
   ],
   "metadata": {
    "name": "A slide ",
    "slideshow": {
     "slide_type": "slide"
    }
   }
  },
  {
   "cell_type": "markdown",
   "source": [
    "## PDEs - advection"
   ],
   "metadata": {
    "name": "A slide ",
    "slideshow": {
     "slide_type": "slide"
    }
   }
  },
  {
   "cell_type": "markdown",
   "source": [
    "> Advection is a partial differential equation that governs the motion of a conserved scalar field as it is advected by a known velocity vector field. [_Wikipedia_](https://en.wikipedia.org/wiki/Advection)"
   ],
   "metadata": {
    "name": "A slide ",
    "slideshow": {
     "slide_type": "fragment"
    }
   }
  },
  {
   "cell_type": "markdown",
   "source": [
    "We will here briefly discuss advection of a quantity $C$ by a constant velocity $v_x$ in the one-dimensional x-direction.\n",
    "\n",
    "$$ \\frac{∂C}{∂t} = -\\frac{∂(v_x~C)}{∂x} ~.$$"
   ],
   "metadata": {
    "name": "A slide ",
    "slideshow": {
     "slide_type": "slide"
    }
   }
  },
  {
   "cell_type": "markdown",
   "source": [
    "In case the flow is incompressible ($∇⋅v = 0$ -- here $\\frac{∂v_x}{∂x}=0$), the advection equation can be rewritten as\n",
    "\n",
    "$$ \\frac{∂C}{∂t} = -v_x \\frac{∂C}{∂x} ~.$$"
   ],
   "metadata": {
    "name": "A slide ",
    "slideshow": {
     "slide_type": "fragment"
    }
   }
  },
  {
   "cell_type": "markdown",
   "source": [
    "Let's once more start from the simple 1D reaction code, modifying it to implement the advection equation."
   ],
   "metadata": {
    "name": "A slide ",
    "slideshow": {
     "slide_type": "slide"
    }
   }
  },
  {
   "cell_type": "markdown",
   "source": [
    "Starting from the reaction code, turn `ξ` into `vx=1.0`, the advection velocity, remove `C_eq`, set total simulation time `ttot = 5.0`\n",
    "\n",
    "```julia\n",
    "# Physics\n",
    "Lx   = 10.0\n",
    "vx   = 1.0\n",
    "ttot = 5.0\n",
    "```"
   ],
   "metadata": {
    "name": "A slide ",
    "slideshow": {
     "slide_type": "fragment"
    }
   }
  },
  {
   "cell_type": "markdown",
   "source": [
    "The only change in the `# Derived numerics` section is the stable advection time step definition, to comply with the [CFL stability condition](https://en.wikipedia.org/wiki/Courant–Friedrichs–Lewy_condition) for explicit time integration.\n",
    "\n",
    "```julia\n",
    "# Derived numerics\n",
    "dt   = dx/vx\n",
    "```"
   ],
   "metadata": {
    "name": "A slide ",
    "slideshow": {
     "slide_type": "fragment"
    }
   }
  },
  {
   "cell_type": "markdown",
   "source": [
    "In the `# Array initialisation` section, initialise the quantity `C` as a Gaussian profile of amplitude 1, standard deviation 1, with centre located at $c = 0.3 Lx$.\n",
    "\n",
    "```julia\n",
    "C = exp.( ... )\n",
    "```"
   ],
   "metadata": {
    "name": "A slide ",
    "slideshow": {
     "slide_type": "slide"
    }
   }
  },
  {
   "cell_type": "markdown",
   "source": [
    "> 💡 hint: Gaussian distribution as function of coordinate $x_c$, $ C = \\exp(xc - c)^2 $"
   ],
   "metadata": {
    "name": "A slide ",
    "slideshow": {
     "slide_type": "fragment"
    }
   }
  },
  {
   "cell_type": "markdown",
   "source": [
    "One should also pay attention regarding the correct initialisation of `dCdt` in terms of vector dimension, since the rate of change of `C`, `dCdt`, is the derivative of `C`."
   ],
   "metadata": {
    "name": "A slide ",
    "slideshow": {
     "slide_type": "fragment"
    }
   }
  },
  {
   "cell_type": "markdown",
   "source": [
    "Defining `dCdt` as following\n",
    "\n",
    "```julia\n",
    "dCdt     .= .-vx.*diff(C)./dx\n",
    "```\n",
    "\n",
    "implements the right and side of the 1D advection equation."
   ],
   "metadata": {
    "name": "A slide ",
    "slideshow": {
     "slide_type": "slide"
    }
   }
  },
  {
   "cell_type": "markdown",
   "source": [
    "Now, the question is how to add `dCdt` to `C` within the update rule ?"
   ],
   "metadata": {
    "name": "A slide ",
    "slideshow": {
     "slide_type": "fragment"
    }
   }
  },
  {
   "cell_type": "markdown",
   "source": [
    "3 (main) possibilities exist.\n",
    "\n",
    "👉 Your turn. Try it out yourself and motivate your best choice."
   ],
   "metadata": {
    "name": "A slide ",
    "slideshow": {
     "slide_type": "fragment"
    }
   }
  },
  {
   "cell_type": "markdown",
   "source": [
    "Initialise the simulation"
   ],
   "metadata": {
    "name": "A slide ",
    "slideshow": {
     "slide_type": "slide"
    }
   }
  },
  {
   "outputs": [],
   "cell_type": "code",
   "source": [
    "using Plots, IJulia\n",
    "# Physics\n",
    "Lx   = 10.0\n",
    "vx   = 1.0\n",
    "ttot = 5.0\n",
    "# Numerics\n",
    "nx   = 128\n",
    "nout = 10\n",
    "# Derived numerics\n",
    "dx   = Lx/nx\n",
    "dt   = dx/vx\n",
    "nt   = cld(ttot, dt)\n",
    "xc   = LinRange(dx/2, Lx-dx/2, nx)\n",
    "# Array initialisation\n",
    "C    =  exp.(.-(xc .- 0.3*Lx).^2)\n",
    "Ci   =  copy(C)\n",
    "dCdt = zeros(Float64, nx-1);"
   ],
   "metadata": {},
   "execution_count": null
  },
  {
   "cell_type": "markdown",
   "source": [
    "Execute the time loop"
   ],
   "metadata": {
    "name": "A slide ",
    "slideshow": {
     "slide_type": "slide"
    }
   }
  },
  {
   "outputs": [],
   "cell_type": "code",
   "source": [
    "# Time loop\n",
    "for it = 1:nt\n",
    "    dCdt     .= .-vx.*diff(C)./dx\n",
    "    # add solution\n",
    "    if it % nout == 0\n",
    "        IJulia.clear_output(true); plot(xc, Ci, lw=2, label=\"C initial\")\n",
    "        display(plot!(xc, C, lw=2, xlims=(xc[1], xc[end]), ylims=(0.0, 1.0), xlabel=\"Lx\", ylabel=\"Concentration\", title=\"time = $(round(it*dt, sigdigits=3))\", framestyle=:box, label=\"C\"))\n",
    "        sleep(0.1)\n",
    "    end\n",
    "end"
   ],
   "metadata": {},
   "execution_count": null
  },
  {
   "cell_type": "markdown",
   "source": [
    "Here we go, an upwind approach is needed to implement a stable advection algorithm\n",
    "\n",
    "```julia\n",
    "C[2:end]   .= C[2:end]   .+ dt.*dCdt # if vx>0\n",
    "C[1:end-1] .= C[1:end-1] .+ dt.*dCdt # if vx<0\n",
    "```"
   ],
   "metadata": {
    "name": "A slide ",
    "slideshow": {
     "slide_type": "slide"
    }
   }
  },
  {
   "cell_type": "markdown",
   "source": [
    "## Wrapping-up\n",
    "\n",
    "- We implemented and solved PDEs for reaction, diffusion and advection processes in 1D"
   ],
   "metadata": {
    "name": "A slide ",
    "slideshow": {
     "slide_type": "slide"
    }
   }
  },
  {
   "cell_type": "markdown",
   "source": [
    "- We used conservative staggered grid finite-differences, explicit forward Euler time stepping and upwind scheme (advection)."
   ],
   "metadata": {
    "name": "A slide ",
    "slideshow": {
     "slide_type": "fragment"
    }
   }
  },
  {
   "cell_type": "markdown",
   "source": [
    "Note that this is far from being the only way to tackle numerical solutions to these PDEs. In this course, we will stick to those concepts as they will allow for efficient GPU (parallel) implementations."
   ],
   "metadata": {
    "name": "A slide ",
    "slideshow": {
     "slide_type": "fragment"
    }
   }
  }
 ],
 "nbformat_minor": 3,
 "metadata": {
  "language_info": {
   "file_extension": ".jl",
   "mimetype": "application/julia",
   "name": "julia",
   "version": "1.6.1"
  },
  "kernelspec": {
   "name": "julia-1.6",
   "display_name": "Julia 1.6.1",
   "language": "julia"
  }
 },
 "nbformat": 4
}
