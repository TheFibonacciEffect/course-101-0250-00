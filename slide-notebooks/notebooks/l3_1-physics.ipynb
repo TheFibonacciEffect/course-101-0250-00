{
 "cells": [
  {
   "cell_type": "markdown",
   "source": [
    "_Lecture 3_\n",
    "# Solving elliptic PDEs"
   ],
   "metadata": {
    "name": "A slide ",
    "slideshow": {
     "slide_type": "slide"
    }
   }
  },
  {
   "cell_type": "markdown",
   "source": [
    "### The goal of this lecture 3 is to familiarise (or refresh) with:\n",
    "- The damped wave equation\n",
    "- Spectral analysis of linear PDEs\n",
    "- Pseudo-transient method for solving elliptic PDEs\n",
    "- Spatial discretisation: 1D and 2D"
   ],
   "metadata": {
    "name": "A slide ",
    "slideshow": {
     "slide_type": "slide"
    }
   }
  },
  {
   "cell_type": "markdown",
   "source": [
    "In the previous lecture, we established that the solution to the elliptic PDE could be obtained through integrating in time a corresponding parabolic PDE:\n",
    "\n",
    "$$\n",
    "\\frac{\\partial C}{\\partial t} - \\frac{\\partial^2 C}{\\partial x^2} = 0\n",
    "$$"
   ],
   "metadata": {
    "name": "A slide ",
    "slideshow": {
     "slide_type": "slide"
    }
   }
  },
  {
   "cell_type": "markdown",
   "source": [
    "and discussed the limitation of this approach, for numerical modelling, i.e., the quadratic dependence of the number of time steps on the number of grid points in spatial discretisation."
   ],
   "metadata": {
    "name": "A slide ",
    "slideshow": {
     "slide_type": "fragment"
    }
   }
  },
  {
   "cell_type": "markdown",
   "source": [
    "<center>\n",
    "  <video width=\"80%\" autoplay loop controls src=\"./figures/diffusion_1D_steady_state.mp4\"/>\n",
    "</center>"
   ],
   "metadata": {}
  },
  {
   "cell_type": "markdown",
   "source": [
    "## Accelerating elliptic solver convergence: intuition\n",
    "\n",
    "In this lecture, we'll improve the convergence rate of the elliptic solver, and consider the generalisation to higher dimensions"
   ],
   "metadata": {
    "name": "A slide ",
    "slideshow": {
     "slide_type": "slide"
    }
   }
  },
  {
   "cell_type": "markdown",
   "source": [
    "Let's recall the stability conditions for diffusion and acoustic wave propagation:\n",
    "\n",
    "```julia\n",
    "dt = dx^2/dc/2      # diffusion\n",
    "dt = dx/sqrt(1/β/ρ) # acoustic wave propagation\n",
    "```"
   ],
   "metadata": {
    "name": "A slide ",
    "slideshow": {
     "slide_type": "fragment"
    }
   }
  },
  {
   "cell_type": "markdown",
   "source": [
    "We can see that the acceptable time step for an acoustic problem is proportional to the grid spacing `dx`, and not `dx^2` as for the diffusion."
   ],
   "metadata": {
    "name": "A slide ",
    "slideshow": {
     "slide_type": "slide"
    }
   }
  },
  {
   "cell_type": "markdown",
   "source": [
    "The number of time steps required for the wave to propagate through the domain is only proportional to the number of grid points `nx`."
   ],
   "metadata": {
    "name": "A slide ",
    "slideshow": {
     "slide_type": "fragment"
    }
   }
  },
  {
   "cell_type": "markdown",
   "source": [
    "Can we use that information to reduce the time required for the elliptic solver to converge?\n",
    "In the solution to the wave equation, the waves do not attenuate with time: _there is no steady state!_"
   ],
   "metadata": {
    "name": "A slide ",
    "slideshow": {
     "slide_type": "fragment"
    }
   }
  },
  {
   "cell_type": "markdown",
   "source": [
    "<center>\n",
    "  <video width=\"80%\" autoplay loop controls src=\"./figures/acoustic_1D.mp4\"/>\n",
    "</center>"
   ],
   "metadata": {}
  },
  {
   "cell_type": "markdown",
   "source": [
    "## Damped wave equation\n",
    "\n",
    "Let's add diffusive properties to the wave equation by simply combining the physics:\n",
    "\n",
    "\\begin{align}\n",
    "\\rho\\frac{\\partial V_x}{\\partial t}                 &= -\\frac{\\partial P}{\\partial x} \\\\\n",
    "\\beta\\frac{\\partial P}{\\partial t} + \\frac{P}{\\eta} &= -\\frac{\\partial V_x}{\\partial x}\n",
    "\\end{align}"
   ],
   "metadata": {
    "name": "A slide ",
    "slideshow": {
     "slide_type": "slide"
    }
   }
  },
  {
   "cell_type": "markdown",
   "source": [
    "Note the addition of the new term $\\frac{Pr}{\\eta}$ to the left-hand side of the mass balance equation, which could be interpreted physically as accounting for the bulk viscosity of the gas."
   ],
   "metadata": {
    "name": "A slide ",
    "slideshow": {
     "slide_type": "fragment"
    }
   }
  },
  {
   "cell_type": "markdown",
   "source": [
    "Equvalently, we could add the time derivative to the diffusion equation\n",
    "\n",
    "\\begin{align}\n",
    "\\rho\\frac{\\partial q}{\\partial t} + \\frac{q}{D} &= -\\frac{\\partial C}{\\partial x} \\\\\n",
    "\\frac{\\partial C}{\\partial t}                   &= -\\frac{\\partial q}{\\partial x}\n",
    "\\end{align}"
   ],
   "metadata": {
    "name": "A slide ",
    "slideshow": {
     "slide_type": "slide"
    }
   }
  },
  {
   "cell_type": "markdown",
   "source": [
    "In that case, the new term would be $\\rho\\frac{\\partial q}{\\partial t}$, which could be interpreted physically as adding the inertia to the momentum equation for diffusive flux."
   ],
   "metadata": {
    "name": "A slide ",
    "slideshow": {
     "slide_type": "fragment"
    }
   }
  },
  {
   "cell_type": "markdown",
   "source": [
    "Note that in 1D the both modifications are equivalent up to renaming the variables. The conceptual difference is that in the former case we add new terms to the vector quantity (diffusive flux $q$), and in the latter case we modify the equation governing the evolution of the scalar quantity (pressure $P$)."
   ],
   "metadata": {
    "name": "A slide ",
    "slideshow": {
     "slide_type": "slide"
    }
   }
  },
  {
   "cell_type": "markdown",
   "source": [
    "Let's eliminate $V_x$ and $q$ in both systems to get one governing equation for $P$ and $C$, respectively:"
   ],
   "metadata": {
    "name": "A slide ",
    "slideshow": {
     "slide_type": "fragment"
    }
   }
  },
  {
   "cell_type": "markdown",
   "source": [
    "\\begin{align}\n",
    "\\beta\\frac{\\partial^2 P}{\\partial t^2} + \\frac{1}{\\eta}\\frac{\\partial P}{\\partial t} &= \\frac{1}{\\rho}\\frac{\\partial^2 P}{\\partial x^2} \\\\\n",
    "\\rho\\frac{\\partial^2 C}{\\partial t^2} + \\frac{1}{D}\\frac{\\partial C}{\\partial t}     &= \\frac{\\partial^2 C}{\\partial x^2}\n",
    "\\end{align}"
   ],
   "metadata": {
    "name": "A slide ",
    "slideshow": {
     "slide_type": "fragment"
    }
   }
  },
  {
   "cell_type": "markdown",
   "source": [
    "We refer to such equations as the _damped wave equations_. They combine wave propagation with diffusion, which manifests as wave attenuation, or decay. The damped wave equation is a hyperbolic PDE."
   ],
   "metadata": {
    "name": "A slide ",
    "slideshow": {
     "slide_type": "fragment"
    }
   }
  },
  {
   "cell_type": "markdown",
   "source": [
    "## Implementing the damped wave equation\n",
    "\n",
    "In the following, we'll use the damped wave equation for concentration $C$ obtained by augmenting the diffusion equation with density $\\rho$."
   ],
   "metadata": {
    "name": "A slide ",
    "slideshow": {
     "slide_type": "slide"
    }
   }
  },
  {
   "cell_type": "markdown",
   "source": [
    "Starting from the existing code implementing time-dependent diffusion, let's add the intertial term $\\rho\\frac{\\partial q}{\\partial t}$."
   ],
   "metadata": {
    "name": "A slide ",
    "slideshow": {
     "slide_type": "fragment"
    }
   }
  },
  {
   "cell_type": "markdown",
   "source": [
    "First step is to add the new physical parameter $\\rho$ to the `# physics` section:\n",
    "\n",
    "```julia\n",
    "# physics\n",
    "...\n",
    "ρ   = 20.0\n",
    "```"
   ],
   "metadata": {
    "name": "A slide ",
    "slideshow": {
     "slide_type": "fragment"
    }
   }
  },
  {
   "cell_type": "markdown",
   "source": [
    "And to change the initial conditions to have more interesting time evolution:\n",
    "\n",
    "```julia\n",
    "# array initialisation\n",
    "C    = @. exp(-(xc-lx/4)^2); C_i = copy(C); C[1] = 1\n",
    "```"
   ],
   "metadata": {
    "name": "A slide ",
    "slideshow": {
     "slide_type": "fragment"
    }
   }
  },
  {
   "cell_type": "markdown",
   "source": [
    "Then we modify the time loop to incorporate the new physics:\n",
    "\n",
    "```julia\n",
    "for it = 1:nt\n",
    "    #qx         .-= ...\n",
    "    C[2:end-1] .-= dt.*diff(qx)./dx\n",
    "    ...\n",
    "end\n",
    "```"
   ],
   "metadata": {
    "name": "A slide ",
    "slideshow": {
     "slide_type": "fragment"
    }
   }
  },
  {
   "cell_type": "markdown",
   "source": [
    "👉 Your turn. Try to add the intertial term."
   ],
   "metadata": {
    "name": "A slide ",
    "slideshow": {
     "slide_type": "fragment"
    }
   }
  },
  {
   "cell_type": "markdown",
   "source": [
    "> Hint: There are two ways of adding the intertial term into the update rule.\n",
    "> - We could either take the known flux `q` in `q/dc` from the previous time step (explicit time integration), or the unknown flux from the next time step (implicit time integration).\n",
    "> - Could we treat the flux implicitly without having to solve the linear system?\n",
    "> - What are the benefits of the implicit time integration compared to the explicit one?"
   ],
   "metadata": {
    "name": "A slide ",
    "slideshow": {
     "slide_type": "fragment"
    }
   }
  },
  {
   "cell_type": "markdown",
   "source": [
    "If the implementation is correct, we should see this:"
   ],
   "metadata": {
    "name": "A slide ",
    "slideshow": {
     "slide_type": "slide"
    }
   }
  },
  {
   "cell_type": "markdown",
   "source": [
    "<center>\n",
    "  <video width=\"80%\" autoplay loop controls src=\"./figures/damped_diffusion_1D.mp4\"/>\n",
    "</center>"
   ],
   "metadata": {}
  },
  {
   "cell_type": "markdown",
   "source": [
    "The waves decay, now there is a steady state! 🎉 The time it takes to converge, however, doesn't seem to improve..."
   ],
   "metadata": {
    "name": "A slide ",
    "slideshow": {
     "slide_type": "fragment"
    }
   }
  },
  {
   "cell_type": "markdown",
   "source": [
    "Now we solve the hyperbolic PDE, and with the implicit flux term treatment, the time step should be now proportional to the grid spacing `dx` instead of `dx^2`. Looking at the damped wave equation for $C$, and recalling the stability condition for wave propagation, we modify the time step, reduce the total number of time steps, and increase the frequency of plotting calls:\n",
    "\n",
    "```julia\n",
    "# numerics\n",
    "...\n",
    "nvis = 5\n",
    "# derived numerics\n",
    "...\n",
    "dt   = dx/sqrt(1/ρ)\n",
    "nt   = 5nx\n",
    "```"
   ],
   "metadata": {
    "name": "A slide ",
    "slideshow": {
     "slide_type": "slide"
    }
   }
  },
  {
   "cell_type": "markdown",
   "source": [
    "Re-run the simulation and see the results:"
   ],
   "metadata": {
    "name": "A slide ",
    "slideshow": {
     "slide_type": "slide"
    }
   }
  },
  {
   "cell_type": "markdown",
   "source": [
    "<center>\n",
    "  <video width=\"80%\" autoplay loop controls src=\"./figures/damped_diffusion_better_1D.mp4\"/>\n",
    "</center>"
   ],
   "metadata": {}
  },
  {
   "cell_type": "markdown",
   "source": [
    "Now, this is much better! However, we introduced the new parameter $\\rho$, does the solution depend on the value of $\\rho$?"
   ],
   "metadata": {
    "name": "A slide ",
    "slideshow": {
     "slide_type": "fragment"
    }
   }
  },
  {
   "cell_type": "markdown",
   "source": [
    "## Problem of finding the iteration parameters\n",
    "\n",
    "👉 Try changing the new parameter `ρ`, increase and decrease it. What happens to the solution?"
   ],
   "metadata": {
    "name": "A slide ",
    "slideshow": {
     "slide_type": "slide"
    }
   }
  },
  {
   "cell_type": "markdown",
   "source": [
    "We noticed that depending on the value of the parameter `ρ`, the convergence to steady-state can be faster or slower. If `ρ` is too small, the process becomes diffusion-dominated, and we're back to the non-accelerated version. If `ρ` is too large, waves decay too slow."
   ],
   "metadata": {
    "name": "A slide ",
    "slideshow": {
     "slide_type": "fragment"
    }
   }
  },
  {
   "cell_type": "markdown",
   "source": [
    "If the parameter `ρ` has optimal value, the convergence to steady-state could be achieved in the number of time steps proportional to the number of grid points `nx` and not `nx^2` as for the parabolic PDE."
   ],
   "metadata": {
    "name": "A slide ",
    "slideshow": {
     "slide_type": "fragment"
    }
   }
  },
  {
   "cell_type": "markdown",
   "source": [
    "## Historical perspective\n",
    "\n",
    "The idea of accelerating the convergence by increasing the order of PDE dates back to the work by [Frankel (1950)](https://doi.org/10.2307/2002770) where he studied the convergence rates of different iterative methods. Frankel noted the analogy between the iteration process and transient physics. In his work, the accelerated method was called the _second-order Richardson method_"
   ],
   "metadata": {
    "name": "A slide ",
    "slideshow": {
     "slide_type": "slide"
    }
   }
  },
  {
   "cell_type": "markdown",
   "source": [
    "In this course, we call this and any method that builds upon the analogy to transient physics... the _pseudo-transient_ method."
   ],
   "metadata": {
    "name": "A slide ",
    "slideshow": {
     "slide_type": "fragment"
    }
   }
  },
  {
   "cell_type": "markdown",
   "source": [
    "Using this analogy proves useful when studying multi-physics and nonlinear processes. The pseudo-transient method isn't restricted to solving the Poisson problems, but can be applied to a wide range of problems that are modeled with PDEs."
   ],
   "metadata": {
    "name": "A slide ",
    "slideshow": {
     "slide_type": "fragment"
    }
   }
  },
  {
   "cell_type": "markdown",
   "source": [
    "## Pseudo-transient method\n",
    "\n",
    "In a pseudo-transient method, we are interested only in a steady-state distributions of the unknown field variables such as concentration, temperature, etc."
   ],
   "metadata": {
    "name": "A slide ",
    "slideshow": {
     "slide_type": "slide"
    }
   }
  },
  {
   "cell_type": "markdown",
   "source": [
    "We consider time steps as iterations in a numerical method. Therefore, we replace the time $t$ in the equations with _pseudo-time_ $\\tau$, and a time step `it` with iteration counter `iter`. When a pseudo-transient method converges, all the pseudo-time derivatives $\\partial/\\partial\\tau$, $\\partial^2/\\partial\\tau^2$ etc., vanish."
   ],
   "metadata": {
    "name": "A slide ",
    "slideshow": {
     "slide_type": "fragment"
    }
   }
  },
  {
   "cell_type": "markdown",
   "source": [
    "We should be careful when introducing the new pseudo-physical terms into the governing equations. We need to make sure that when iterations converge, i.e., if the pseudo-time derivatives are set to 0, the system of equations is identical to the original steady-state formulation."
   ],
   "metadata": {
    "name": "A slide ",
    "slideshow": {
     "slide_type": "slide"
    }
   }
  },
  {
   "cell_type": "markdown",
   "source": [
    "For example, consider the damped acoustic problem that we introduced in the beggining:\n",
    "\n",
    "\\begin{align}\n",
    "\\rho\\frac{\\partial V_x}{\\partial\\tau}                   &= -\\frac{\\partial P}{\\partial x} \\\\\n",
    "\\beta\\frac{\\partial P}{\\partial\\tau} + \\frac{P}{\\eta} &= -\\frac{\\partial V_x}{\\partial x}\n",
    "\\end{align}"
   ],
   "metadata": {
    "name": "A slide ",
    "slideshow": {
     "slide_type": "fragment"
    }
   }
  },
  {
   "cell_type": "markdown",
   "source": [
    "At the steady-state, the second equation reads:\n",
    "\n",
    "$$\n",
    "\\frac{P}{\\eta} = -\\frac{\\partial V_x}{\\partial x}\n",
    "$$\n",
    "\n",
    "The velocity divergence is proportional to the pressure. If we wanted to solve the incompressible problem (i.e. the velocty divergence = 0), and were interested in the velocity distribution, this approach would lead to incorrect results. If we only want to solve the Laplace problem $\\partial^2 P/\\partial x^2 = 0$, we could consider $V_x$ purely as a numerical variable."
   ],
   "metadata": {
    "name": "A slide ",
    "slideshow": {
     "slide_type": "fragment"
    }
   }
  },
  {
   "cell_type": "markdown",
   "source": [
    "In other words: only add those new terms to the governing equations that vanish when the iterations converge!"
   ],
   "metadata": {
    "name": "A slide ",
    "slideshow": {
     "slide_type": "fragment"
    }
   }
  },
  {
   "cell_type": "markdown",
   "source": [
    "## Dispersion analysis of the PDEs\n",
    "\n",
    "We don't want to guess the optimal parameter values for every problem.\n",
    "For linear problems with constant coefficients, there is a way to get an exact optimal value for any combination of phyisics and boundary conditions. Analytics is hard, so we'll consider only the simplest elliptic problem with constant values at boundaries:"
   ],
   "metadata": {
    "name": "A slide ",
    "slideshow": {
     "slide_type": "slide"
    }
   }
  },
  {
   "cell_type": "markdown",
   "source": [
    "Let's try this value:\n",
    "\n",
    "```julia\n",
    "ρ    = (lx/(dc*2π))^2\n",
    "```"
   ],
   "metadata": {
    "name": "A slide ",
    "slideshow": {
     "slide_type": "slide"
    }
   }
  }
 ],
 "nbformat_minor": 3,
 "metadata": {
  "language_info": {
   "file_extension": ".jl",
   "mimetype": "application/julia",
   "name": "julia",
   "version": "1.8.1"
  },
  "kernelspec": {
   "name": "julia-1.8",
   "display_name": "Julia 1.8.1",
   "language": "julia"
  }
 },
 "nbformat": 4
}
