{
 "cells": [
  {
   "cell_type": "markdown",
   "source": [
    "_Lecture 3_\n",
    "# From diffusion to acoustic waves"
   ],
   "metadata": {
    "name": "A slide ",
    "slideshow": {
     "slide_type": "slide"
    }
   }
  },
  {
   "cell_type": "markdown",
   "source": [
    "### The goal of this lecture 3 is to familiarise (or refresh) with\n",
    "- The wave equation\n",
    "- The diffusion equation\n",
    "- Spatial discretisation: 1D and 2D\n",
    "- Finite-differences and staggered grids"
   ],
   "metadata": {
    "name": "A slide ",
    "slideshow": {
     "slide_type": "slide"
    }
   }
  },
  {
   "cell_type": "markdown",
   "source": [
    "## The wave equation\n",
    "\n",
    "The wave equation is a second-order partial differential equation."
   ],
   "metadata": {
    "name": "A slide ",
    "slideshow": {
     "slide_type": "slide"
    }
   }
  },
  {
   "cell_type": "markdown",
   "source": [
    "![acoustic wave](./figures/acoustic2D_2.gif)"
   ],
   "metadata": {
    "name": "A slide ",
    "slideshow": {
     "slide_type": "slide"
    }
   }
  },
  {
   "cell_type": "markdown",
   "source": [
    "> The [wave equation](https://en.wikipedia.org/wiki/Wave_equation) is a second-order linear partial differential equation for the description of waves—as they occur in classical physics—such as mechanical waves (e.g. water waves, sound waves and seismic waves) or light waves. [_Wikipedia_](https://en.wikipedia.org/wiki/Wave_equation)"
   ],
   "metadata": {
    "name": "A slide ",
    "slideshow": {
     "slide_type": "slide"
    }
   }
  },
  {
   "cell_type": "markdown",
   "source": [
    "The hyperbolic equation reads\n",
    "\n",
    "$$ \\frac{∂^2u}{∂t^2} = c^2 ∇^2 u~, $$\n",
    "\n",
    "where\n",
    "- $u$ is pressure, displacement (or another scalar quantity)\n",
    "- $c$ a non-negative real constant (speed of sound, stiffness, ...)"
   ],
   "metadata": {
    "name": "A slide ",
    "slideshow": {
     "slide_type": "fragment"
    }
   }
  },
  {
   "cell_type": "markdown",
   "source": [
    "The wave equation can be elegantly derived, e.g., from [Hooke's law](https://en.wikipedia.org/wiki/Wave_equation#From_Hooke's_law) and second law of Newton considering masses interconnected with springs.\n",
    "\n",
    "![hook](./figures/hook.png)\n",
    "\n",
    "$$ F_\\mathrm{Newton}~~=~~F_\\mathrm{Hook}~,$$\n",
    "\n",
    "$$ m⋅a(t)~~=~~k x_+ - k x_-~,$$\n",
    "\n",
    "where $m$ is the mass, $k$ de spring stiffness, and $x_+$, $x_-$ the oscillations of the masses (small distances)."
   ],
   "metadata": {
    "name": "A slide ",
    "slideshow": {
     "slide_type": "slide"
    }
   }
  },
  {
   "cell_type": "markdown",
   "source": [
    "_Note on classification of PDEs:_\n",
    "- **Elliptic:**\\\n",
    "  $∇^2 u - b = 0$ (e.g. steady state diffusion, Laplacian)\n",
    "- **Parabolic:**\\\n",
    "  $∂u/∂t - α ∇^2 u - b = 0$ (e.g. transient heat diffusion)\n",
    "- **Hyperbolic:**\\\n",
    "  $∂^2u/∂t^2 - c^2 ∇^2 u = 0$ (e.g. wave equation)"
   ],
   "metadata": {
    "name": "A slide ",
    "slideshow": {
     "slide_type": "slide"
    }
   }
  },
  {
   "cell_type": "markdown",
   "source": [
    "### Back to the wave equation\n",
    "\n",
    "The the first objective of this lecture is to implement the wave equation in 1D (spatial discretisation) using an explicit time integration (forward Euler) as seen in lecture 2 for the advection-diffusion-reaction physics."
   ],
   "metadata": {
    "name": "A slide ",
    "slideshow": {
     "slide_type": "slide"
    }
   }
  },
  {
   "cell_type": "markdown",
   "source": [
    "Also, we will consider acoustic or pressure waves. We can thus rewrite the wave equation as\n",
    "\n",
    "$$ \\frac{∂^2 P}{∂t^2} = c^2 ∇^2 P~,$$\n",
    "\n",
    "where\n",
    "- $P$ is pressure\n",
    "- $c$ is the speed of sound"
   ],
   "metadata": {
    "name": "A slide ",
    "slideshow": {
     "slide_type": "fragment"
    }
   }
  },
  {
   "cell_type": "markdown",
   "source": [
    "Our first task will be to modify the diffusion equation from lecture 2 ...\n",
    "\n",
    "![diffusion](./figures/diffusion1D.gif)"
   ],
   "metadata": {
    "name": "A slide ",
    "slideshow": {
     "slide_type": "slide"
    }
   }
  },
  {
   "cell_type": "markdown",
   "source": [
    "... in order to obtain and implement the acoustic wave equation\n",
    "\n",
    "![diffusion](./figures/acoustic1D.gif)"
   ],
   "metadata": {
    "name": "A slide ",
    "slideshow": {
     "slide_type": "slide"
    }
   }
  },
  {
   "cell_type": "markdown",
   "source": [
    "### From diffusion to acoustic wave\n",
    "\n",
    "We won't implement first the hyperbolic equation as introduced, but rather start from a flux / update formulation, as we used to implement for the diffusion equation."
   ],
   "metadata": {
    "name": "A slide ",
    "slideshow": {
     "slide_type": "slide"
    }
   }
  },
  {
   "cell_type": "markdown",
   "source": [
    "To this end, we can thus rewrite the second order wave equation\n",
    "\n",
    "$$ \\frac{∂^2 P}{∂t^2} = c^2 ∇^2 P~,$$\n",
    "\n",
    "as two first order equations\n",
    "\n",
    "$$ \\frac{∂V_x}{∂t} = -\\frac{1}{ρ}~\\frac{∂P}{∂x}~,$$\n",
    "\n",
    "$$ \\frac{∂P}{∂t}  = -K~\\frac{∂V_x}{∂x}~.$$"
   ],
   "metadata": {
    "name": "A slide ",
    "slideshow": {
     "slide_type": "fragment"
    }
   }
  },
  {
   "cell_type": "markdown",
   "source": [
    "One can even push the analogy one step further, defining a flux of \"momentum\" as\n",
    "\n",
    "$$ q_x = -\\frac{1}{ρ}~\\frac{∂P}{∂x}~,$$\n",
    "\n",
    "using it to update velocity\n",
    "\n",
    "$$ \\frac{∂V_x}{∂t} = q_x,$$\n",
    "\n",
    "before computing the mass balance (conservation law or divergence of fluxes)\n",
    "\n",
    "$$ \\frac{∂P}{∂t}  = -K~\\frac{∂V_x}{∂x}~.$$"
   ],
   "metadata": {
    "name": "A slide ",
    "slideshow": {
     "slide_type": "slide"
    }
   }
  },
  {
   "cell_type": "markdown",
   "source": [
    "This formulation is very similar to the diffusion equation, as the only addition is the time-dependence (or history) in the fluxes:\n",
    "\n",
    "$$ \\frac{∂V_x}{∂t} = q_x,$$"
   ],
   "metadata": {
    "name": "A slide ",
    "slideshow": {
     "slide_type": "slide"
    }
   }
  },
  {
   "cell_type": "markdown",
   "source": [
    "Let's get started with this. We will do this exercise in a Julia standalone script and run it in from REPL using your local Julia install.\n",
    "\n",
    "It's time to launch Julia on your computer 🚀"
   ],
   "metadata": {
    "name": "A slide ",
    "slideshow": {
     "slide_type": "fragment"
    }
   }
  },
  {
   "cell_type": "markdown",
   "source": [
    "We can start modifying the diffusion code's, changing `ttot=20` in `# Physics`, and taking a Gaussian (centred in `Lx/2`, `σ=1`) as initial condition for the pressure `P`\n",
    "\n",
    "```julia\n",
    "# Physics\n",
    "Lx    = 10.0\n",
    "ρ     = 1.0\n",
    "K     = 1.0\n",
    "ttot  = 20.0\n",
    "\n",
    "# Derived numerics\n",
    "P     =  exp.(...)\n",
    "```\n",
    "\n",
    "Note that the time step needs a new definition: `dt = dx/sqrt(K/ρ)/2.1`"
   ],
   "metadata": {
    "name": "A slide ",
    "slideshow": {
     "slide_type": "slide"
    }
   }
  },
  {
   "cell_type": "markdown",
   "source": [
    "Then, the diffusion physics:\n",
    "\n",
    "```julia\n",
    "qx         .= .-D.*diff(C )./dx\n",
    "dCdt       .= .-   diff(qx)./dx\n",
    "C[2:end-1] .= C[2:end-1] .+ dt.*dCdt\n",
    "```\n",
    "\n",
    "Should be modified to account for pressure `P` instead of concentration `C`, the flux update (`Vx`) added, and the coefficients modified:\n",
    "\n",
    "```julia\n",
    "qx         .= .-1.0/ρ.*diff(...)./dx\n",
    "Vx         .= ...\n",
    "dPdt       .= ...\n",
    "P[2:end-1] .= P[2:end-1] ...\n",
    "```"
   ],
   "metadata": {
    "name": "A slide ",
    "slideshow": {
     "slide_type": "slide"
    }
   }
  },
  {
   "cell_type": "markdown",
   "source": [
    "Comparing diffusive and wave physics, we can summarise following:\n",
    "\n",
    "|  Physics        |  1D formulation |\n",
    "| :------------:  | :-------------: |\n",
    "| Diffusion      | $$qx = -D\\frac{∂C}{∂x}$$  $$\\frac{∂C}{∂t} = -\\frac{∂q}{∂x}$$ |\n",
    "| Acoustic waves | $$\\frac{∂V_x}{∂t} = -\\frac{1}{ρ}~\\frac{∂P}{∂x}$$  $$\\frac{∂P}{∂t} = -K~\\frac{∂V_x}{∂x}$$ |"
   ],
   "metadata": {
    "name": "A slide ",
    "slideshow": {
     "slide_type": "slide"
    }
   }
  }
 ],
 "nbformat_minor": 3,
 "metadata": {
  "language_info": {
   "file_extension": ".jl",
   "mimetype": "application/julia",
   "name": "julia",
   "version": "1.6.3"
  },
  "kernelspec": {
   "name": "julia-1.6",
   "display_name": "Julia 1.6.3",
   "language": "julia"
  }
 },
 "nbformat": 4
}
