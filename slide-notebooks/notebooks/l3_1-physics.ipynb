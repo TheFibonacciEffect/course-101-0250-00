{
 "cells": [
  {
   "cell_type": "markdown",
   "source": [
    "_Lecture 3_\n",
    "# Solving elliptic PDEs"
   ],
   "metadata": {
    "name": "A slide ",
    "slideshow": {
     "slide_type": "slide"
    }
   }
  },
  {
   "cell_type": "markdown",
   "source": [
    "### The goal of this lecture 3 is to familiarise (or refresh) with:\n",
    "- The damped wave equation\n",
    "- Spectral analysis of linear PDEs\n",
    "- Pseudo-transient method for solving elliptic PDEs\n",
    "- Spatial discretisation: 1D and 2D"
   ],
   "metadata": {
    "name": "A slide ",
    "slideshow": {
     "slide_type": "slide"
    }
   }
  },
  {
   "cell_type": "markdown",
   "source": [
    "In the previous lecture, we established that the solution to the elliptic PDE could be obtained through integrating in time a corresponding parabolic PDE:\n",
    "\n",
    "$$\n",
    "\\frac{\\partial C}{\\partial t} - \\frac{\\partial^2 C}{\\partial x^2} = 0\n",
    "$$"
   ],
   "metadata": {
    "name": "A slide ",
    "slideshow": {
     "slide_type": "slide"
    }
   }
  },
  {
   "cell_type": "markdown",
   "source": [
    "and discussed the limitation of this approach, for numerical modelling, i.e., the quadratic dependence of the number of time steps on the number of grid points in spatial discretisation."
   ],
   "metadata": {
    "name": "A slide ",
    "slideshow": {
     "slide_type": "fragment"
    }
   }
  },
  {
   "cell_type": "markdown",
   "source": [
    "<center>\n",
    "  <video width=\"80%\" autoplay loop controls src=\"./figures/diffusion_1D_steady_state.mp4\"/>\n",
    "</center>"
   ],
   "metadata": {}
  },
  {
   "cell_type": "markdown",
   "source": [
    "## Accelerating elliptic solver convergence: intuition\n",
    "\n",
    "In this lecture, we'll improve the convergence rate of the elliptic solver, and consider the generalisation to higher dimensions"
   ],
   "metadata": {
    "name": "A slide ",
    "slideshow": {
     "slide_type": "slide"
    }
   }
  },
  {
   "cell_type": "markdown",
   "source": [
    "Let's recall the stability conditions for diffusion and acoustic wave propagation:\n",
    "\n",
    "```julia\n",
    "dt = dx^2/dc/2      # diffusion\n",
    "dt = dx/sqrt(1/β/ρ) # acoustic wave propagation\n",
    "```"
   ],
   "metadata": {
    "name": "A slide ",
    "slideshow": {
     "slide_type": "fragment"
    }
   }
  },
  {
   "cell_type": "markdown",
   "source": [
    "We can see that the acceptable time step for an acoustic problem is proportional to the grid spacing `dx`, and not `dx^2` as for the diffusion."
   ],
   "metadata": {
    "name": "A slide ",
    "slideshow": {
     "slide_type": "slide"
    }
   }
  },
  {
   "cell_type": "markdown",
   "source": [
    "The number of time steps required for the wave to propagate through the domain is only proportional to the number of grid points `nx`."
   ],
   "metadata": {
    "name": "A slide ",
    "slideshow": {
     "slide_type": "fragment"
    }
   }
  },
  {
   "cell_type": "markdown",
   "source": [
    "Can we use that information to reduce the time required for the elliptic solver to converge?\n",
    "In the solution to the wave equation, the waves do not attenuate with time: _there is no steady state!_"
   ],
   "metadata": {
    "name": "A slide ",
    "slideshow": {
     "slide_type": "fragment"
    }
   }
  },
  {
   "cell_type": "markdown",
   "source": [
    "<center>\n",
    "  <video width=\"80%\" autoplay loop controls src=\"./figures/acoustic_1D.mp4\"/>\n",
    "</center>"
   ],
   "metadata": {}
  },
  {
   "cell_type": "markdown",
   "source": [
    "## Damped wave equation\n",
    "\n",
    "Let's add diffusive properties to the wave equation by simply combining the physics:\n",
    "\n",
    "$$\n",
    "\\rho\\frac{\\partial V_x}{\\partial t} = -\\frac{\\partial Pr}{\\partial x}\n",
    "$$\n",
    "\n",
    "$$\n",
    "\\beta\\frac{\\partial Pr}{\\partial t} + \\frac{Pr}{\\eta} = -\\frac{\\partial Vx}{\\partial x}\n",
    "$$"
   ],
   "metadata": {
    "name": "A slide ",
    "slideshow": {
     "slide_type": "slide"
    }
   }
  },
  {
   "cell_type": "markdown",
   "source": [
    "Note the addition of the new term $\\frac{Pr}{\\eta}$ to the left-hand side of the mass balance equation, which could be interpreted physically as adding the bulk viscosity to the gas."
   ],
   "metadata": {
    "name": "A slide ",
    "slideshow": {
     "slide_type": "fragment"
    }
   }
  },
  {
   "cell_type": "markdown",
   "source": [
    "Equvalently, we could add the time derivatives to the diffusion equation\n",
    "\n",
    "$$\n",
    "\\rho\\frac{\\partial q}{\\partial t} + \\frac{q}{D} = -\\frac{\\partial C}{\\partial x}\n",
    "$$\n",
    "\n",
    "$$\n",
    "\\frac{\\partial C}{\\partial t} = -\\frac{\\partial q}{\\partial x}\n",
    "$$"
   ],
   "metadata": {
    "name": "A slide ",
    "slideshow": {
     "slide_type": "slide"
    }
   }
  },
  {
   "cell_type": "markdown",
   "source": [
    "In that case, the new term would be `\\rho\\frac{\\partial q}{\\partial t}`, which could be interpreted physically as adding inertia to the momentum equation for diffusive flux."
   ],
   "metadata": {
    "name": "A slide ",
    "slideshow": {
     "slide_type": "fragment"
    }
   }
  },
  {
   "cell_type": "markdown",
   "source": [
    "## From 1D to 2D\n",
    "\n",
    "Let's discuss how to implement the acoustic wave equation (and the diffusion equation from last week's material) in 2D."
   ],
   "metadata": {
    "name": "A slide ",
    "slideshow": {
     "slide_type": "slide"
    }
   }
  },
  {
   "cell_type": "markdown",
   "source": [
    "We want the $x$ and $y$ axis to represent spatial extend, and solve in each grid point for the pressure or the concentration, for the acoustic and diffusion process, respectively."
   ],
   "metadata": {
    "name": "A slide ",
    "slideshow": {
     "slide_type": "fragment"
    }
   }
  },
  {
   "cell_type": "markdown",
   "source": [
    "But let's first look at the equation, augmenting the Table we just started to fill"
   ],
   "metadata": {
    "name": "A slide ",
    "slideshow": {
     "slide_type": "slide"
    }
   }
  },
  {
   "cell_type": "markdown",
   "source": [
    "|  Physics       |  1D formulation |  2D formulation |\n",
    "| ------------:  | :-------------- | :-------------- |\n",
    "| Diffusion      | $$q_x = -D\\frac{∂C}{∂x}$$  $$\\frac{∂C}{∂t} = -\\frac{∂q_x}{∂x}$$ | $$q_x = -D\\frac{∂C}{∂x}$$  $$q_y = -D\\frac{∂C}{∂y}$$  $$\\frac{∂C}{∂t} = -\\left(\\frac{∂q_x}{∂x} + \\frac{∂q_y}{∂y} \\right)$$ |\n",
    "| Acoustic waves | $$\\frac{∂V_x}{∂t} = -\\frac{1}{ρ}~\\frac{∂P}{∂x}$$  $$\\frac{∂P}{∂t} = -K~\\frac{∂V_x}{∂x}$$ |$$\\frac{∂V_x}{∂t} = -\\frac{1}{ρ}~\\frac{∂P}{∂x}$$  $$\\frac{∂V_y}{∂t} = -\\frac{1}{ρ}~\\frac{∂P}{∂y}$$  $$\\frac{∂P}{∂t} = -K~\\left(\\frac{∂V_x}{∂x} + \\frac{∂V_y}{∂y} \\right)$$ |"
   ],
   "metadata": {}
  },
  {
   "cell_type": "markdown",
   "source": [
    "For both physics\n",
    "- The fluxes which are directional or vector quantities have a new $y$-direction component\n",
    "- The balance equation or divergence, now balances the sum of the fluxes from all dimensions"
   ],
   "metadata": {
    "name": "A slide ",
    "slideshow": {
     "slide_type": "slide"
    }
   }
  },
  {
   "cell_type": "markdown",
   "source": [
    "Let's get started first with the diffusion equation, then the wave equation (as homework)."
   ],
   "metadata": {
    "name": "A slide ",
    "slideshow": {
     "slide_type": "fragment"
    }
   }
  },
  {
   "cell_type": "markdown",
   "source": [
    "### To dos:\n",
    "- Add $y$-direction physics and numerics\n",
    "- Update time step definition\n",
    "- Update initial Gaussian condition\n",
    "- Initialise all new arrays\n",
    "- Update physics calculations in the time loop\n",
    "- Update plotting"
   ],
   "metadata": {
    "name": "A slide ",
    "slideshow": {
     "slide_type": "slide"
    }
   }
  },
  {
   "cell_type": "markdown",
   "source": [
    "#### $y$-direction physics and numerics\n",
    "\n",
    "You can make multi-statement lines for scalars:\n",
    "\n",
    "```julia\n",
    "Lx, Ly = 10.0, 10.0\n",
    "```"
   ],
   "metadata": {
    "name": "A slide ",
    "slideshow": {
     "slide_type": "slide"
    }
   }
  },
  {
   "cell_type": "markdown",
   "source": [
    "#### Time step definition\n",
    "\n",
    "Take now the most restrictive condition, e.g.:\n",
    "\n",
    "```julia\n",
    "dt = min(dx, dy)/...\n",
    "```"
   ],
   "metadata": {
    "name": "A slide ",
    "slideshow": {
     "slide_type": "fragment"
    }
   }
  },
  {
   "cell_type": "markdown",
   "source": [
    "#### Initialise arrays\n",
    "\n",
    "Recall that we are using conservative finite-differences and thus a _staggered grid_.\n",
    "\n",
    "For 2D grids, we will have to handle scalar quantity and two fluxes as depicted below, taking care about correct staggering:\n",
    "\n",
    "![staggered-grid](./figures/stagg_2D.png)"
   ],
   "metadata": {
    "name": "A slide ",
    "slideshow": {
     "slide_type": "slide"
    }
   }
  },
  {
   "cell_type": "markdown",
   "source": [
    "#### 2D plotting\n",
    "\n",
    "You can use `heatmap()` function from `Plots.jl`, to plot e.g. `C` as function of the spatial coordinates `xc` and `yc`:\n",
    "\n",
    "```julia\n",
    "heatmap(xc, yc, C')\n",
    "```\n",
    "_note the transpose `'`_\n",
    "\n",
    "Use `display()` to force the display of the plot, e.g., in the time loop every `nout`."
   ],
   "metadata": {
    "name": "A slide ",
    "slideshow": {
     "slide_type": "slide"
    }
   }
  },
  {
   "cell_type": "markdown",
   "source": [
    "More advanced implementation, one can define the plotting options and apply them in the `heatmap()` call:\n",
    "\n",
    "```julia\n",
    "opts = (aspect_ratio=1, xlims=(xc[1], xc[end]), ylims=(yc[1], yc[end]), clims=(0.0, 1.0), c=:davos, xlabel=\"Lx\", ylabel=\"Ly\", title=\"time = $(round(it*dt, sigdigits=3))\")\n",
    "display(heatmap(xc, yc, C'; opts...))\n",
    "```"
   ],
   "metadata": {
    "name": "A slide ",
    "slideshow": {
     "slide_type": "fragment"
    }
   }
  },
  {
   "cell_type": "markdown",
   "source": [
    "That's how the 2D diffusion looks like:\n",
    "\n",
    "![diffusion](./figures/diffusion_2D_1.gif)"
   ],
   "metadata": {
    "name": "A slide ",
    "slideshow": {
     "slide_type": "slide"
    }
   }
  },
  {
   "cell_type": "markdown",
   "source": [
    "Let's get started with 2D.\n",
    "\n",
    "**It's time to launch Julia on your computer** 🚀\n",
    "\n",
    "👉 [Download the `diffusion_1D.jl` script](https://github.com/eth-vaw-glaciology/course-101-0250-00/blob/main/scripts/) to get you started"
   ],
   "metadata": {
    "name": "A slide ",
    "slideshow": {
     "slide_type": "fragment"
    }
   }
  },
  {
   "outputs": [],
   "cell_type": "code",
   "source": [
    "#sol #md # 👉 [Download the `diffusion_2D.jl` script](https://github.com/eth-vaw-glaciology/course-101-0250-00/blob/main/scripts/)."
   ],
   "metadata": {},
   "execution_count": null
  }
 ],
 "nbformat_minor": 3,
 "metadata": {
  "language_info": {
   "file_extension": ".jl",
   "mimetype": "application/julia",
   "name": "julia",
   "version": "1.8.1"
  },
  "kernelspec": {
   "name": "julia-1.8",
   "display_name": "Julia 1.8.1",
   "language": "julia"
  }
 },
 "nbformat": 4
}
