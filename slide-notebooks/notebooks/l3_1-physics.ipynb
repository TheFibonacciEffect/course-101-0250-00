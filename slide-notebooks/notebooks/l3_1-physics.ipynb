{
 "cells": [
  {
   "cell_type": "markdown",
   "source": [
    "_Lecture 3_\n",
    "# From diffusion to acoustic waves"
   ],
   "metadata": {
    "name": "A slide ",
    "slideshow": {
     "slide_type": "slide"
    }
   }
  },
  {
   "cell_type": "markdown",
   "source": [
    "### The goal of this lecture 3 is to familiarise (or refresh) with\n",
    "- The wave equation\n",
    "- The diffusion equation\n",
    "- Spatial discretisation: 1D and 2D\n",
    "- Finite-differences and staggered grids"
   ],
   "metadata": {
    "name": "A slide ",
    "slideshow": {
     "slide_type": "slide"
    }
   }
  },
  {
   "cell_type": "markdown",
   "source": [
    "## The wave equation\n",
    "\n",
    "The wave equation is a second-order partial differential equation."
   ],
   "metadata": {
    "name": "A slide ",
    "slideshow": {
     "slide_type": "slide"
    }
   }
  },
  {
   "cell_type": "markdown",
   "source": [
    "![acoustic wave](./figures/acoustic2D_2.gif)"
   ],
   "metadata": {
    "name": "A slide ",
    "slideshow": {
     "slide_type": "fragment"
    }
   }
  },
  {
   "cell_type": "markdown",
   "source": [
    "> The [wave equation](https://en.wikipedia.org/wiki/Wave_equation) is a second-order linear partial differential equation for the description of waves—as they occur in classical physics—such as mechanical waves (e.g. water waves, sound waves and seismic waves) or light waves. [_Wikipedia_](https://en.wikipedia.org/wiki/Wave_equation)"
   ],
   "metadata": {
    "name": "A slide ",
    "slideshow": {
     "slide_type": "slide"
    }
   }
  },
  {
   "cell_type": "markdown",
   "source": [
    "The hyperbolic equation reads\n",
    "\n",
    "$$ \\frac{∂^2u}{∂t^2} = c^2 ∇^2 u~, $$\n",
    "\n",
    "where\n",
    "- $u$ is pressure, displacement (or another scalar quantity)\n",
    "- $c$ a non-negative real constant (speed of sound, stiffness, ...)"
   ],
   "metadata": {
    "name": "A slide ",
    "slideshow": {
     "slide_type": "fragment"
    }
   }
  },
  {
   "cell_type": "markdown",
   "source": [
    "The wave equation can be elegantly derived, e.g., from [Hooke's law](https://en.wikipedia.org/wiki/Wave_equation#From_Hooke's_law) and second law of Newton considering masses interconnected with springs.\n",
    "\n",
    "![hook](./figures/hooke.png)\n",
    "\n",
    "$$ F_\\mathrm{Newton}~~=~~F_\\mathrm{Hook}~,$$\n",
    "\n",
    "$$ m⋅a(t)~~=~~k x_+ - k x_-~,$$\n",
    "\n",
    "where $m$ is the mass, $k$ de spring stiffness, and $x_+$, $x_-$ the oscillations of the masses (small distances). The acceleration $a(t)$ can be substituted by the second derivative of displacement $u$ as function of time $t$, $∂^2u/∂t^2$, while balancing $x_+ - x_-$ and taking the limit leads to $∂^2u/∂x^2$."
   ],
   "metadata": {
    "name": "A slide ",
    "slideshow": {
     "slide_type": "slide"
    }
   }
  },
  {
   "cell_type": "markdown",
   "source": [
    "> _**Note on classification of PDEs:**_\n",
    "> - **Elliptic:**\\\n",
    ">   $∇^2 u - b = 0$ (e.g. steady state diffusion, Laplacian)\n",
    "> - **Parabolic:**\\\n",
    ">   $∂u/∂t - α ∇^2 u - b = 0$ (e.g. transient heat diffusion)\n",
    "> - **Hyperbolic:**\\\n",
    ">   $∂^2u/∂t^2 - c^2 ∇^2 u = 0$ (e.g. wave equation)"
   ],
   "metadata": {
    "name": "A slide ",
    "slideshow": {
     "slide_type": "slide"
    }
   }
  },
  {
   "cell_type": "markdown",
   "source": [
    "### Back to the wave equation\n",
    "\n",
    "The the first objective of this lecture is to implement the wave equation in 1D (spatial discretisation) using an explicit time integration (forward Euler) as seen in lecture 2 for the advection-diffusion-reaction physics."
   ],
   "metadata": {
    "name": "A slide ",
    "slideshow": {
     "slide_type": "slide"
    }
   }
  },
  {
   "cell_type": "markdown",
   "source": [
    "Also, we will consider acoustic or pressure waves. We can thus rewrite the wave equation as\n",
    "\n",
    "$$ \\frac{∂^2 P}{∂t^2} = c^2 ∇^2 P~,$$\n",
    "\n",
    "where\n",
    "- $P$ is pressure\n",
    "- $c$ is the speed of sound"
   ],
   "metadata": {
    "name": "A slide ",
    "slideshow": {
     "slide_type": "fragment"
    }
   }
  },
  {
   "cell_type": "markdown",
   "source": [
    "Our first task will be to modify the diffusion equation from lecture 2 ...\n",
    "\n",
    "![diffusion](./figures/diffusion_0.gif)"
   ],
   "metadata": {
    "name": "A slide ",
    "slideshow": {
     "slide_type": "slide"
    }
   }
  },
  {
   "cell_type": "markdown",
   "source": [
    "... in order to obtain and implement the acoustic wave equation\n",
    "\n",
    "![acoustic](./figures/acoustic_1.gif)"
   ],
   "metadata": {
    "name": "A slide ",
    "slideshow": {
     "slide_type": "slide"
    }
   }
  },
  {
   "cell_type": "markdown",
   "source": [
    "### From diffusion to acoustic wave\n",
    "\n",
    "We won't implement first the hyperbolic equation as introduced, but rather start from a flux/update formulation, as we used to implement for the diffusion equation."
   ],
   "metadata": {
    "name": "A slide ",
    "slideshow": {
     "slide_type": "slide"
    }
   }
  },
  {
   "cell_type": "markdown",
   "source": [
    "To this end, we can rewrite the second order wave equation\n",
    "\n",
    "$$ \\frac{∂^2 P}{∂t^2} = c^2 ∇^2 P~,$$\n",
    "\n",
    "as two first order equations\n",
    "\n",
    "$$ \\frac{∂V_x}{∂t} = -\\frac{1}{ρ}~\\frac{∂P}{∂x}~,$$\n",
    "\n",
    "$$ \\frac{∂P}{∂t}  = -K~\\frac{∂V_x}{∂x}~.$$"
   ],
   "metadata": {
    "name": "A slide ",
    "slideshow": {
     "slide_type": "fragment"
    }
   }
  },
  {
   "cell_type": "markdown",
   "source": [
    "One can even push the analogy one step further, defining a flux of \"momentum\" as\n",
    "\n",
    "$$ q_x = -\\frac{1}{ρ}~\\frac{∂P}{∂x}~,$$\n",
    "\n",
    "using it to update velocity\n",
    "\n",
    "$$ \\frac{∂V_x}{∂t} = q_x,$$\n",
    "\n",
    "before computing the mass balance (conservation law or divergence of fluxes)\n",
    "\n",
    "$$ \\frac{∂P}{∂t}  = -K~\\frac{∂V_x}{∂x}~.$$"
   ],
   "metadata": {
    "name": "A slide ",
    "slideshow": {
     "slide_type": "slide"
    }
   }
  },
  {
   "cell_type": "markdown",
   "source": [
    "This formulation is very similar to the diffusion equation, as the only addition is the time-dependence (or history) in the fluxes:\n",
    "\n",
    "$$ \\frac{∂V_x}{∂t} = q_x,$$"
   ],
   "metadata": {
    "name": "A slide ",
    "slideshow": {
     "slide_type": "slide"
    }
   }
  },
  {
   "cell_type": "markdown",
   "source": [
    "Let's get started with this. We will do this exercise in a Julia standalone script and run it in from the REPL using the local Julia install.\n",
    "\n",
    "**It's time to launch Julia on your computer** 🚀"
   ],
   "metadata": {
    "name": "A slide ",
    "slideshow": {
     "slide_type": "fragment"
    }
   }
  },
  {
   "cell_type": "markdown",
   "source": [
    "We can start modifying the diffusion code's, adding `ρ` and `K` and changing `ttot=20` in `# Physics`, and taking a Gaussian (centred in `Lx/2`, `σ=1`) as initial condition for the pressure `P`\n",
    "\n",
    "```julia\n",
    "# Physics\n",
    "Lx    = 10.0\n",
    "ρ     = 1.0\n",
    "K     = 1.0\n",
    "ttot  = 20.0\n",
    "\n",
    "# Derived numerics\n",
    "P     =  exp.(...)\n",
    "```\n",
    "\n",
    "Note that the time step needs a new definition: `dt = dx/sqrt(K/ρ)/2.1`"
   ],
   "metadata": {
    "name": "A slide ",
    "slideshow": {
     "slide_type": "slide"
    }
   }
  },
  {
   "cell_type": "markdown",
   "source": [
    "Then, the diffusion physics:\n",
    "\n",
    "```julia\n",
    "qx         .= .-D.*diff(C )./dx\n",
    "dCdt       .= .-   diff(qx)./dx\n",
    "C[2:end-1] .= C[2:end-1] .+ dt.*dCdt\n",
    "```\n",
    "\n",
    "Should be modified to account for pressure `P` instead of concentration `C`, the flux update (`Vx`) added, and the coefficients modified:\n",
    "\n",
    "```julia\n",
    "qx         .= .-1.0/ρ.*diff(...)./dx\n",
    "Vx         .= ...\n",
    "dPdt       .= ...\n",
    "P[2:end-1] .= P[2:end-1] ...\n",
    "```"
   ],
   "metadata": {
    "name": "A slide ",
    "slideshow": {
     "slide_type": "slide"
    }
   }
  },
  {
   "cell_type": "markdown",
   "source": [
    "Comparing diffusive and wave physics, we can summarise following:"
   ],
   "metadata": {
    "name": "A slide ",
    "slideshow": {
     "slide_type": "slide"
    }
   }
  },
  {
   "cell_type": "markdown",
   "source": [
    "|  Physics        |  1D formulation |\n",
    "|  ------------:  | :-------------  |\n",
    "| Diffusion      | $$q_x = -D\\frac{∂C}{∂x}$$  $$\\frac{∂C}{∂t} = -\\frac{∂q_x}{∂x}$$ |\n",
    "| Acoustic waves | $$\\frac{∂V_x}{∂t} = -\\frac{1}{ρ}~\\frac{∂P}{∂x}$$  $$\\frac{∂P}{∂t} = -K~\\frac{∂V_x}{∂x}$$ |"
   ],
   "metadata": {}
  },
  {
   "cell_type": "markdown",
   "source": [
    "## From 1D to 2D\n",
    "\n",
    "Let's discuss how to implement the acoustic wave equation (and the diffusion equation from last week's material) in 2D."
   ],
   "metadata": {
    "name": "A slide ",
    "slideshow": {
     "slide_type": "slide"
    }
   }
  },
  {
   "cell_type": "markdown",
   "source": [
    "We want the $x$ and $y$ axis to represent spatial extend, and solve in each grid point for the pressure or the concentration, for the acoustic and diffusion process, respectively."
   ],
   "metadata": {
    "name": "A slide ",
    "slideshow": {
     "slide_type": "fragment"
    }
   }
  },
  {
   "cell_type": "markdown",
   "source": [
    "But let's first look at the equation, augmenting the Table we just started to fill"
   ],
   "metadata": {
    "name": "A slide ",
    "slideshow": {
     "slide_type": "slide"
    }
   }
  },
  {
   "cell_type": "markdown",
   "source": [
    "|  Physics       |  1D formulation |  2D formulation |\n",
    "| ------------:  | :-------------- | :-------------- |\n",
    "| Diffusion      | $$q_x = -D\\frac{∂C}{∂x}$$  $$\\frac{∂C}{∂t} = -\\frac{∂q_x}{∂x}$$ | $$q_x = -D\\frac{∂C}{∂x}$$  $$q_y = -D\\frac{∂C}{∂y}$$  $$\\frac{∂C}{∂t} = -\\left(\\frac{∂q_x}{∂x} + \\frac{∂q_y}{∂y} \\right)$$ |\n",
    "| Acoustic waves | $$\\frac{∂V_x}{∂t} = -\\frac{1}{ρ}~\\frac{∂P}{∂x}$$  $$\\frac{∂P}{∂t} = -K~\\frac{∂V_x}{∂x}$$ |$$\\frac{∂V_x}{∂t} = -\\frac{1}{ρ}~\\frac{∂P}{∂x}$$  $$\\frac{∂V_y}{∂t} = -\\frac{1}{ρ}~\\frac{∂P}{∂y}$$  $$\\frac{∂P}{∂t} = -K~\\left(\\frac{∂V_x}{∂x} + \\frac{∂V_y}{∂y} \\right)$$ |"
   ],
   "metadata": {}
  },
  {
   "cell_type": "markdown",
   "source": [
    "For both physics\n",
    "- The fluxes which are directional or vector quantities have a new $y$-direction component\n",
    "- The balance equation or divergence, now balances the sum of the fluxes from all dimensions"
   ],
   "metadata": {
    "name": "A slide ",
    "slideshow": {
     "slide_type": "slide"
    }
   }
  },
  {
   "cell_type": "markdown",
   "source": [
    "Let's get started first with the diffusion equation, then the wave equation (as homework)."
   ],
   "metadata": {
    "name": "A slide ",
    "slideshow": {
     "slide_type": "fragment"
    }
   }
  },
  {
   "cell_type": "markdown",
   "source": [
    "### To dos:\n",
    "- Add $y$-direction physics and numerics\n",
    "- Update time step definition\n",
    "- Update initial Gaussian condition\n",
    "- Initialise all new arrays\n",
    "- Update physics calculations in the time loop\n",
    "- Update plotting"
   ],
   "metadata": {
    "name": "A slide ",
    "slideshow": {
     "slide_type": "slide"
    }
   }
  },
  {
   "cell_type": "markdown",
   "source": [
    "#### $y$-direction physics and numerics\n",
    "\n",
    "You can make multi-statement lines for scalars:\n",
    "\n",
    "```julia\n",
    "Lx, Ly = 10.0, 10.0\n",
    "```"
   ],
   "metadata": {
    "name": "A slide ",
    "slideshow": {
     "slide_type": "slide"
    }
   }
  },
  {
   "cell_type": "markdown",
   "source": [
    "#### Time step definition\n",
    "\n",
    "Take now the most restrictive condition, e.g.:\n",
    "\n",
    "```julia\n",
    "dt = min(dx, dy)/...\n",
    "```"
   ],
   "metadata": {
    "name": "A slide ",
    "slideshow": {
     "slide_type": "fragment"
    }
   }
  },
  {
   "cell_type": "markdown",
   "source": [
    "#### Initialise arrays\n",
    "\n",
    "Recall that we are using conservative finite-differences and thus a _staggered grid_.\n",
    "\n",
    "For 2D grids, we will have to handle scalar quantity and two fluxes as depicted below, taking care about correct staggering:\n",
    "\n",
    "![staggered-grid](./figures/stagg_2D.png)"
   ],
   "metadata": {
    "name": "A slide ",
    "slideshow": {
     "slide_type": "slide"
    }
   }
  },
  {
   "cell_type": "markdown",
   "source": [
    "#### 2D plotting\n",
    "\n",
    "You can use `heatmap()` function from `PLots.jl`, to plot e.g. `C` as function of the spatial coordinates `xc` and `yc`:\n",
    "\n",
    "```julia\n",
    "heatmap(xc, yc, C')\n",
    "```\n",
    "_note the transpose `'`_\n",
    "\n",
    "Use `display()` to force the display of the plot, e.g., in the time loop every `nout`."
   ],
   "metadata": {
    "name": "A slide ",
    "slideshow": {
     "slide_type": "slide"
    }
   }
  },
  {
   "cell_type": "markdown",
   "source": [
    "More advanced implementation, one can define the plotting options and apply them in the `heatmap()` call:\n",
    "\n",
    "```julia\n",
    "opts = (aspect_ratio=1, xlims=(xc[1], xc[end]), ylims=(yc[1], yc[end]), clims=(0.0, 1.0), c=:davos, xlabel=\"Lx\", ylabel=\"Ly\", title=\"time = $(round(it*dt, sigdigits=3))\")\n",
    "display(heatmap(xc, yc, C'; opts...))\n",
    "```"
   ],
   "metadata": {
    "name": "A slide ",
    "slideshow": {
     "slide_type": "fragment"
    }
   }
  },
  {
   "cell_type": "markdown",
   "source": [
    "That's how the 2D diffusion looks like:\n",
    "\n",
    "![diffusion](./figures/diffusion_2D_1.gif)"
   ],
   "metadata": {
    "name": "A slide ",
    "slideshow": {
     "slide_type": "slide"
    }
   }
  },
  {
   "cell_type": "markdown",
   "source": [
    "Let's get started with 2D.\n",
    "\n",
    "**It's time to launch Julia on your computer** 🚀"
   ],
   "metadata": {
    "name": "A slide ",
    "slideshow": {
     "slide_type": "fragment"
    }
   }
  }
 ],
 "nbformat_minor": 3,
 "metadata": {
  "language_info": {
   "file_extension": ".jl",
   "mimetype": "application/julia",
   "name": "julia",
   "version": "1.6.3"
  },
  "kernelspec": {
   "name": "julia-1.6",
   "display_name": "Julia 1.6.3",
   "language": "julia"
  }
 },
 "nbformat": 4
}
