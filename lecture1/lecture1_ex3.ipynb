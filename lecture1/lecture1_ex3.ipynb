{
 "cells": [
  {
   "cell_type": "markdown",
   "source": [
    "## Exercise 3 - **Car travel in 2 dimensions**\n",
    "\n",
    "The goal of this exercise is to familiarise with:\n",
    "- code structure `# Physics, # Numerics, # Time loop, # Visualisation`\n",
    "- array initialisation\n",
    "- `for` loop\n",
    "- update rule\n",
    "- `if` condition\n",
    "- 2 spatial dimensions"
   ],
   "metadata": {}
  },
  {
   "cell_type": "markdown",
   "source": [
    "Based on the experience you acquired solving the [Exercise 2](#exercise_2_-_car_travel) we can now consider a car moving within a 2-dimensional space. The car still travels at speed $V=113$ km/h, but now in North-East or North-West direction. The car's displacement in the West-East directions ($x$-axis) is limited to $L=200$ km. The speed in the North direction is constant remains constant."
   ],
   "metadata": {}
  },
  {
   "cell_type": "markdown",
   "source": [
    "Starting from the 1D code done in [Exercise 2](#exercise_2_-_car_travel), work towards adding the second spatial dimension. Now, the car's position $(x,y)$ as function of time $t$ has two components."
   ],
   "metadata": {}
  },
  {
   "cell_type": "markdown",
   "source": [
    "> 💡 hint:\n",
    "> - split velocity magnitude $V$ into $x$ and $y$ component\n",
    "> - use `sind()` or `cosd()` functions if passing the angle in _deg_ instead of _rad_\n",
    "> - use two vectors or an array to store the car's coordinates\n",
    "> - define the y-axis extend in the plot `ylims=(0, ttot*Vy)`"
   ],
   "metadata": {}
  },
  {
   "cell_type": "markdown",
   "source": [
    "### Question 1\n",
    "\n",
    "Visualise graphically the trajectory of the travelling car for a simulation with time step parameter defined as `dt = 0.1`."
   ],
   "metadata": {}
  },
  {
   "cell_type": "markdown",
   "source": [
    "---\n",
    "\n",
    "*This notebook was generated using [Literate.jl](https://github.com/fredrikekre/Literate.jl).*"
   ],
   "metadata": {}
  }
 ],
 "nbformat_minor": 3,
 "metadata": {
  "language_info": {
   "file_extension": ".jl",
   "mimetype": "application/julia",
   "name": "julia",
   "version": "1.6.1"
  },
  "kernelspec": {
   "name": "julia-1.6",
   "display_name": "Julia 1.6.1",
   "language": "julia"
  }
 },
 "nbformat": 4
}
