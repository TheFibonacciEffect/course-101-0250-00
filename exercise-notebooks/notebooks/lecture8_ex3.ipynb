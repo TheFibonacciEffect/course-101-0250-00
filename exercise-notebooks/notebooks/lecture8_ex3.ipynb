{
 "cells": [
  {
   "cell_type": "markdown",
   "source": [
    "## Exercise 3 - **Stokes flow**"
   ],
   "metadata": {}
  },
  {
   "cell_type": "markdown",
   "source": [
    "The goal of this exercise is to:\n",
    "- Implement a viscous Stokes flow building upon the Cauchy-Navier elastic wave solver"
   ],
   "metadata": {}
  },
  {
   "cell_type": "markdown",
   "source": [
    "Some more infos soon."
   ],
   "metadata": {}
  }
 ],
 "nbformat_minor": 3,
 "metadata": {
  "language_info": {
   "file_extension": ".jl",
   "mimetype": "application/julia",
   "name": "julia",
   "version": "1.6.3"
  },
  "kernelspec": {
   "name": "julia-1.6",
   "display_name": "Julia 1.6.3",
   "language": "julia"
  }
 },
 "nbformat": 4
}
