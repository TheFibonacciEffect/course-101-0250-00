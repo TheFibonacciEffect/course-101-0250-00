{
 "cells": [
  {
   "cell_type": "markdown",
   "source": [
    "## Exercise 3 - **Navier-Stokes flow**"
   ],
   "metadata": {}
  },
  {
   "cell_type": "markdown",
   "source": [
    "The goal of this exercise is to:\n",
    "- Implement a viscous Stokes flow\n",
    "- Step from the Navier-Cauchy elastic wave solver to en explicit Navier-Stokes solver\n",
    "- Get a glimpse into fluid dynamics"
   ],
   "metadata": {}
  },
  {
   "cell_type": "markdown",
   "source": [
    "### Getting started\n",
    "\n",
    "In this exercise your task will be to modify the elastic wave code `elastic_2D.jl` from [Exercise 3, Lecture 7](/lecture7/#task_4_-_rearranging_the_code), turning it into a weakly compressible viscous Navier-Stokes flow solver with inertia terms.\n",
    "\n",
    "The main task will be to modify the shear rheology, now viscous. Viscosity [Pa.s] defines as the ratio between  stress $τ$ and strain-rate $ε̇$.\n",
    "\n",
    "In this lecture's Git repository, duplicate the `elastic_2D.jl` renaming it `viscous_NS_2D.jl`.\n",
    "\n",
    "### Task 1\n",
    "\n",
    "Modify the physics in order to implement the weakly compressible Navier-Stokes equations:\n",
    "\n",
    "$$ \\frac{∂P}{∂t} = -K ∇_k v_k ~,$$\n",
    "\n",
    "$$ τ = μ\\left(∇_i v_j + ∇_j v_i -\\frac{1}{3} δ_{ij} ∇_k v_k \\right) ~,$$\n",
    "\n",
    "$$ ρ \\frac{∂v_i}{∂t} = ∇_j \\left( τ_{ij} - P δ_{ij} \\right) ~,$$\n",
    "\n",
    "where $P$ is the pressure, $v$ the velocity, $K$ the bulk modulus, $μ$ the viscosity, $τ$ the viscous deviatoric stress tensor, $ρ$ the density, and $\\delta_{ij}$ the Kronecker delta.\n",
    "\n",
    "### Task 2\n",
    "\n",
    "In a new section of the `README.md` add a figure from code featuring 4 subplots depicting pressure $P$, velocity x-component $v_x$, normal and shear stress components, $\\tau_{xx}$ and $\\tau_{xy}$, respectively, and a short description."
   ],
   "metadata": {}
  }
 ],
 "nbformat_minor": 3,
 "metadata": {
  "language_info": {
   "file_extension": ".jl",
   "mimetype": "application/julia",
   "name": "julia",
   "version": "1.6.3"
  },
  "kernelspec": {
   "name": "julia-1.6",
   "display_name": "Julia 1.6.3",
   "language": "julia"
  }
 },
 "nbformat": 4
}
