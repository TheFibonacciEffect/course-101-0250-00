{
 "cells": [
  {
   "cell_type": "markdown",
   "source": [
    "## Exercise 2 - **Acoustic waves in 2D - v2**"
   ],
   "metadata": {}
  },
  {
   "cell_type": "markdown",
   "source": [
    "The goal of this exercise is to:\n",
    "- Implement 2D wave equation\n",
    "- Consolidate the finite-difference discretisation\n",
    "- Familiarise with visualisation"
   ],
   "metadata": {}
  },
  {
   "cell_type": "markdown",
   "source": [
    "In this second exercise, you will implement a more concise version of the 2D wave equation.\n",
    "\n",
    "Start from the 2D wave equation code from exercise 1, and reformulat the physics calculation without the explicit definition of the $q_x, q_y$ terms; only use velocities $V_x, V_y$ and pressure $P$.\n",
    "\n",
    "### Task 1\n",
    "\n",
    "Create a new Julia script `acoustic_2D_v2.jl` for this homework. The script should produce a `heatmap()` plot that update upon time steps, with labelled axes and physical time displayed as title.\n",
    "\n",
    "Use `nx = 128` and `ny = 129` grid points and the same parameters as for exercise 1.\n",
    "\n",
    "### Task 2\n",
    "\n",
    "Create a 3-panels plot that shows the 2D pressure $P$ and the velocity $V_x$ fields, as well as the 1D cross section of the pressure field at $Ly/2$."
   ],
   "metadata": {}
  }
 ],
 "nbformat_minor": 3,
 "metadata": {
  "language_info": {
   "file_extension": ".jl",
   "mimetype": "application/julia",
   "name": "julia",
   "version": "1.6.3"
  },
  "kernelspec": {
   "name": "julia-1.6",
   "display_name": "Julia 1.6.3",
   "language": "julia"
  }
 },
 "nbformat": 4
}
