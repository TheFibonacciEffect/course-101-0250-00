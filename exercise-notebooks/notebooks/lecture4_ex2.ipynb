{
 "cells": [
  {
   "cell_type": "markdown",
   "source": [
    "## Exercise 2 - **Thermal porous convection with implicit temperature update**"
   ],
   "metadata": {}
  },
  {
   "cell_type": "markdown",
   "source": [
    "The goal of this exercise is to:\n",
    "- Investigate second-order acceleration\n",
    "- Derive scaling relation (number of iterations as function of number of grid points)"
   ],
   "metadata": {}
  },
  {
   "cell_type": "markdown",
   "source": [
    "In this exercise you will investigate the scalability of the first and second order iterative schemes discussed during lecture 4.\n",
    "\n",
    "Start from the `Laplacian_damped.jl` script we realised in class, which should contain two \"switches\":\n",
    "- `order` (1st or 2nd order scheme)\n",
    "- `fact` (factor to multiply the number of grid points)\n",
    "\n",
    "👉 Download the `Laplacian_damped.jl` script [here](https://github.com/eth-vaw-glaciology/course-101-0250-00/blob/main/scripts/) if needed (available after the course).\n",
    "\n",
    "Add a copy of the `Laplacian_damped.jl` script we did in class to your exercise folder. Modify that script to perform systematics to assess the scalability of the damped versus the non-damped Laplacian 2D implementation."
   ],
   "metadata": {}
  },
  {
   "cell_type": "markdown",
   "source": [
    "### Task 1\n",
    "Move the temperature update into the iteration loop.\n",
    "\n",
    "```julia\n",
    "# action\n",
    "for it = 1:nt\n",
    "    T_old .= T\n",
    "    # time step\n",
    "    dt = if it == 1\n",
    "        0.1*min(dx,dy)/(αρg*ΔT*k_ηf)\n",
    "    else\n",
    "        ϕ*min(dx/maximum(abs.(qDx)), dy/maximum(abs.(qDy)))/2.1\n",
    "    end\n",
    "    re_therm    = 1.5*(π + sqrt(π^2 + ly^2/λ_ρCp/dt))\n",
    "    θ_dτ_therm  = max(lx,ly)/re_therm/cfl/min(dx,dy)\n",
    "    β_dτ_therm  = (re_therm*λ_ρCp)/(cfl*min(dx,dy)*max(lx,ly))\n",
    "    # iteration loop\n",
    "    iter = 1; err_Pf = 2ϵtol; err_T = 2ϵtol\n",
    "    while max(err_Pf,err_T) >= ϵtol && iter <= maxiter\n",
    "        # hydro\n",
    "        qDx[2:end-1,:] .-= ...\n",
    "        qDy[:,2:end-1] .-= ...\n",
    "        Pf             .-= ...\n",
    "        # thermo\n",
    "        qTx            .-= ...\n",
    "        qTy            .-= ...\n",
    "        dTdt           .= (T[2:end-1,2:end-1] .- T_old[2:end-1,2:end-1])./dt .+ (...)./ϕ\n",
    "        T[2:end-1,2:end-1] .-= ...\n",
    "        T[[1,end],:]        .= T[[2,end-1],:]\n",
    "        if iter % ncheck == 0\n",
    "            r_Pf  .= ...\n",
    "            r_T   .= ...\n",
    "            err_Pf = maximum(abs.(r_Pf))\n",
    "            err_T  = maximum(abs.(r_T))\n",
    "            @printf(\"  iter/nx=%.1f, err_Pf=%1.3e, err_T=%1.3e\\n\",iter/nx,err_Pf,err_T)\n",
    "        end\n",
    "        iter += 1\n",
    "    end\n",
    "    @printf(\"it = %d, iter/nx=%.1f, err_Pf=%1.3e, err_T=%1.3e\\n\",it,iter/nx,err_Pf,err_T)\n",
    "    # visualisation\n",
    "    if it % nvis == 0\n",
    "        qDx_c .= avx(qDx)\n",
    "        qDy_c .= avy(qDy)\n",
    "        qDmag .= sqrt.(qDx_c.^2 .+ qDy_c.^2)\n",
    "        qDx_c ./= qDmag\n",
    "        qDy_c ./= qDmag\n",
    "        qDx_p = qDx_c[1:st:end,1:st:end]\n",
    "        qDy_p = qDy_c[1:st:end,1:st:end]\n",
    "        heatmap(xc,yc,T';xlims=(xc[1],xc[end]),ylims=(yc[1],yc[end]),aspect_ratio=1,c=:turbo)\n",
    "        display(quiver!(Xp[:], Yp[:], quiver=(qDx_p[:], qDy_p[:]), lw=0.5, c=:black))\n",
    "        iframe += 1\n",
    "    end\n",
    "end\n",
    "```\n",
    "\n",
    "### Task 2\n",
    "Introduce the Rayleigh number:\n",
    "```julia\n",
    "Ra = αρg*k_ηf*ΔT*ly/λ_ρCp/ϕ\n",
    "```\n",
    "\n",
    "Calculate the thermal diffusivity `λ_ρCp` using the specified `Ra=2e3` number.\n",
    "Using this modified code, realise a numerical experiment varying the Rayleigh number. Theoretical critical value of `Ra` above which there is convection is approximately `40`. Confirm that `Ra < 40` results in no convection, and values of `Ra > 40` result in convection development. Try the range of values `10`, `40`, `100`, `1000`. Produce the final figure after `nt=100` timesteps."
   ],
   "metadata": {}
  },
  {
   "cell_type": "markdown",
   "source": [
    "> 💡 hint: Use `![fig_name](./<relative-path>/my_fig.png)` to insert a figure in the `README.md`."
   ],
   "metadata": {}
  }
 ],
 "nbformat_minor": 3,
 "metadata": {
  "language_info": {
   "file_extension": ".jl",
   "mimetype": "application/julia",
   "name": "julia",
   "version": "1.8.2"
  },
  "kernelspec": {
   "name": "julia-1.8",
   "display_name": "Julia 1.8.2",
   "language": "julia"
  }
 },
 "nbformat": 4
}
