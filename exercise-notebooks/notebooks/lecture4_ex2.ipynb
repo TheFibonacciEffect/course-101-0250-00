{
 "cells": [
  {
   "cell_type": "markdown",
   "source": [
    "## Exercise 2 - **Damped Laplacian**"
   ],
   "metadata": {}
  },
  {
   "cell_type": "markdown",
   "source": [
    "The goal of this exercise is to:\n",
    "- Investigate second-order acceleration\n",
    "- Derive scaling relation (number of iterations as function of number of grid points)"
   ],
   "metadata": {}
  },
  {
   "cell_type": "markdown",
   "source": [
    "In this exercise you will investigate the scalability of the first and second order iterative schemes discussed during lecture 4.\n",
    "\n",
    "Start from the `Laplacian_damped.jl` script we realised in class, which should contain two \"switches\":\n",
    "- `order` (1st or 2nd order scheme)\n",
    "- `fact` (factor to multiply the number of grid points)\n",
    "\n",
    "👉 Download the `Laplacian_damped.jl` script [here](https://github.com/eth-vaw-glaciology/course-101-0250-00/blob/main/scripts/) if needed (available after the course).\n",
    "\n",
    "Add a copy of the `Laplacian_damped.jl` script we did in class to your exercise folder. Modify that script to perform systematics to assess the scalability of the damped versus the non-damped Laplacian 2D implementation."
   ],
   "metadata": {}
  },
  {
   "cell_type": "markdown",
   "source": [
    "### Task 1\n",
    "As first task, modify the iteration exit criteria such that the you can report the iteration count needed for `maximum(abs.(A))` to hit an absolute tolerance of `ε = 1e-9`.\n",
    "\n",
    "### Task 2\n",
    "Using this modified code, realise a scaling experiment where you report the total number of iterations needed to reach `ε` as function of the number of grid points `nx`, for `nx = 25 * 2 .^ (1:8)`. Repeat the experiment for both the damped and non-damped implementation (using e.g. the `order` flag).\n",
    "\n",
    "### Task 3\n",
    "Report your scaling results on a figure, plotting the number of iterations as function of the number of grid points. Save the figure as `png` and include it to the lecture 4 `README.md`. Comment the trends you observe."
   ],
   "metadata": {}
  },
  {
   "cell_type": "markdown",
   "source": [
    "> 💡 hint: Use `![fig_name](./<relative-path>/my_fig.png)` to insert a figure in the `README.md`."
   ],
   "metadata": {}
  },
  {
   "cell_type": "markdown",
   "source": [
    "### Task 4 *(optional)*\n",
    "Investigate the effect of varying the damping parameter `dmp` on the iteration count, thus on the scaling. Add an additional figure to the `README.md` and comment about it."
   ],
   "metadata": {}
  }
 ],
 "nbformat_minor": 3,
 "metadata": {
  "language_info": {
   "file_extension": ".jl",
   "mimetype": "application/julia",
   "name": "julia",
   "version": "1.8.2"
  },
  "kernelspec": {
   "name": "julia-1.8",
   "display_name": "Julia 1.8.2",
   "language": "julia"
  }
 },
 "nbformat": 4
}
