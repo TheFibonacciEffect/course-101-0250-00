{
 "cells": [
  {
   "cell_type": "markdown",
   "source": [
    "## Exercise 1 - **Implicit transient diffusion using dual timestepping**"
   ],
   "metadata": {}
  },
  {
   "cell_type": "markdown",
   "source": [
    "The goal of this exercise is to:\n",
    "- Implement transient diffusion solver with implicit time integration using pseudo-transient method\n",
    "- Grasp the difference between physical time stepping and pseudo-transient iterations"
   ],
   "metadata": {}
  },
  {
   "cell_type": "markdown",
   "source": [
    "Dual time-stepping. Introduce formal equivalence between diffusion-reaction (that we code on the lecture) and Euler time integration, task to wrap code in the time loop."
   ],
   "metadata": {}
  }
 ],
 "nbformat_minor": 3,
 "metadata": {
  "language_info": {
   "file_extension": ".jl",
   "mimetype": "application/julia",
   "name": "julia",
   "version": "1.8.2"
  },
  "kernelspec": {
   "name": "julia-1.8",
   "display_name": "Julia 1.8.2",
   "language": "julia"
  }
 },
 "nbformat": 4
}
