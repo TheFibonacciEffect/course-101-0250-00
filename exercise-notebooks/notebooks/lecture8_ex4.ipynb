{
 "cells": [
  {
   "cell_type": "markdown",
   "source": [
    "## Exercise 4 - **Automatic documentation in Julia**"
   ],
   "metadata": {}
  },
  {
   "cell_type": "markdown",
   "source": [
    "The goal of this exercise is to:\n",
    "- write some documentation\n",
    "  - using [doc-strings](https://docs.julialang.org/en/v1/manual/documentation/)\n",
    "  - using [Literate.jl](https://github.com/fredrikekre/Literate.jl)\n",
    "\n",
    "One task you've already done, namely to update the README.md of this set of exercises!"
   ],
   "metadata": {}
  },
  {
   "cell_type": "markdown",
   "source": [
    "Tasks:\n",
    "- add doc-string to the functions you created for this exercise\n",
    "- turn the script of Exercise 3 into a Literate.jl script. Compile it to markdown, git-add the output (both `.md`-file and any figures) and push it."
   ],
   "metadata": {}
  }
 ],
 "nbformat_minor": 3,
 "metadata": {
  "language_info": {
   "file_extension": ".jl",
   "mimetype": "application/julia",
   "name": "julia",
   "version": "1.8.2"
  },
  "kernelspec": {
   "name": "julia-1.8",
   "display_name": "Julia 1.8.2",
   "language": "julia"
  }
 },
 "nbformat": 4
}
