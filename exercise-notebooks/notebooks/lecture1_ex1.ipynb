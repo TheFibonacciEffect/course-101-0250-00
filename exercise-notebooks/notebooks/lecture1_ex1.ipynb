{
 "cells": [
  {
   "cell_type": "markdown",
   "source": [
    "## Exercise 1 - **Money in the bank**"
   ],
   "metadata": {}
  },
  {
   "cell_type": "markdown",
   "source": [
    "The goal of this exercise is to familiarise with:\n",
    "- array initialisation\n",
    "- `for` loop\n",
    "- indexing\n",
    "- update rule\n",
    "- basic visualisation\n",
    "\n",
    "You are managing assets from a client which has an initial wealth `M_init` of 20kCHF. Your client's business generates yearly savings `M_save` of 500CHF."
   ],
   "metadata": {}
  },
  {
   "outputs": [],
   "cell_type": "code",
   "source": [
    "M_init  = 20000.0   # initial wealth\n",
    "M_save  = 500.0;    # yearly savings"
   ],
   "metadata": {},
   "execution_count": null
  },
  {
   "cell_type": "markdown",
   "source": [
    "### Question 1\n",
    "\n",
    "Model the wealth evolution of your client for the coming 35 years `tot_yrs`:"
   ],
   "metadata": {}
  },
  {
   "outputs": [],
   "cell_type": "code",
   "source": [
    "tot_yrs = 35;       # number of years"
   ],
   "metadata": {},
   "execution_count": null
  },
  {
   "cell_type": "markdown",
   "source": [
    "To do so, we will first initialise a one dimensional array (vector) to store the wealth evolution of the client and check that the vector `M_evol1` has the correct `length` (or size):"
   ],
   "metadata": {}
  },
  {
   "outputs": [],
   "cell_type": "code",
   "source": [
    "M_evol1 = zeros(tot_yrs)\n",
    "length(M_evol1)"
   ],
   "metadata": {},
   "execution_count": null
  },
  {
   "cell_type": "markdown",
   "source": [
    "We then need to initialise that vector with the initial wealth of the client:"
   ],
   "metadata": {}
  },
  {
   "outputs": [],
   "cell_type": "code",
   "source": [
    "M_evol1[1] = M_init;"
   ],
   "metadata": {},
   "execution_count": null
  },
  {
   "cell_type": "markdown",
   "source": [
    "Now we have to define the core of our simulator; predicting the wealth evolution. To do so, we will define the the wealth fo the current year `it` as the wealth from previous year `it-1` plus the amount of saving `M_save` and repeat this for `tot_yrs` (taking care about the start value of the iterator):"
   ],
   "metadata": {}
  },
  {
   "outputs": [],
   "cell_type": "code",
   "source": [
    "for it=2:tot_yrs\n",
    "    M_evol1[it] =  M_evol1[it-1] + M_save\n",
    "end"
   ],
   "metadata": {},
   "execution_count": null
  },
  {
   "cell_type": "markdown",
   "source": [
    "Now, we want to print the wealth of our client after `tot_yrs`"
   ],
   "metadata": {}
  },
  {
   "outputs": [],
   "cell_type": "code",
   "source": [
    "println(\"Wealth after $(tot_yrs) years: $(M_evol1[end]) CHF\")"
   ],
   "metadata": {},
   "execution_count": null
  },
  {
   "cell_type": "markdown",
   "source": [
    "Perfect. However, the client is interested in a graphical evolution as he needs this to convince future investors."
   ],
   "metadata": {}
  },
  {
   "outputs": [],
   "cell_type": "code",
   "source": [
    "using Plots\n",
    "plot(M_evol1 ./ 1000, linewidth=3,\n",
    "     xlabel=\"time, yrs\", ylabel=\"savings, kchf\", label=\"without interest\",\n",
    "     framestyle=:box, legend=:topleft, foreground_color_legend = nothing)"
   ],
   "metadata": {},
   "execution_count": null
  },
  {
   "cell_type": "markdown",
   "source": [
    "### Question 2\n",
    "\n",
    "The bank you are working for offers actually a yearly interest rate `intrst` of 0.6% for all premium client, a category your client belongs to. Repeat the exercise from Question 1 including now the interest rate.\n",
    "\n",
    "Create a new vector `M_evol2` to store the wealth evolution with interest rate and assign the initial wealth:"
   ],
   "metadata": {}
  },
  {
   "outputs": [],
   "cell_type": "code",
   "source": [
    "intrst     = 0.006     # fixed interest rate\n",
    "M_evol2    = zeros(tot_yrs)\n",
    "M_evol2[1] = M_init;"
   ],
   "metadata": {},
   "execution_count": null
  },
  {
   "cell_type": "markdown",
   "source": [
    "Then, update the prediction formula within the time loop to account for the interest rate (changing the update formula)"
   ],
   "metadata": {}
  },
  {
   "outputs": [],
   "cell_type": "code",
   "source": [
    "# TO DO: add correct formula !\n",
    "for it=2:tot_yrs\n",
    "    M_evol2[it] = M_evol2[it-1] + M_save\n",
    "end"
   ],
   "metadata": {},
   "execution_count": null
  },
  {
   "cell_type": "markdown",
   "source": [
    "> 💡 hint: Each year, the total wealth is the wealth of previous year plus the percentage proportional to the interest rate."
   ],
   "metadata": {}
  },
  {
   "cell_type": "markdown",
   "source": [
    "Report the total wealth of the client after `tot_yrs`:"
   ],
   "metadata": {}
  },
  {
   "outputs": [],
   "cell_type": "code",
   "source": [
    "println(\"Wealth after $(tot_yrs) years with interest rate: $(M_evol2[end]) CHF\")"
   ],
   "metadata": {},
   "execution_count": null
  },
  {
   "cell_type": "markdown",
   "source": [
    "And display the graphical evolution on top of previous one:"
   ],
   "metadata": {}
  },
  {
   "outputs": [],
   "cell_type": "code",
   "source": [
    "plot!(M_evol2 ./ 1000, linewidth=3, label=\"with interest\")"
   ],
   "metadata": {},
   "execution_count": null
  },
  {
   "cell_type": "markdown",
   "source": [
    "Finally, quantify the difference in the final wealth with and without interest rate:"
   ],
   "metadata": {}
  },
  {
   "outputs": [],
   "cell_type": "code",
   "source": [
    "∆evo = M_evol2[end] - M_evol1[end]\n",
    "println(\"∆evo = $(round(∆evo, sigdigits=5))\")"
   ],
   "metadata": {},
   "execution_count": null
  },
  {
   "cell_type": "markdown",
   "source": [
    "### Question 3\n",
    "\n",
    "Great job, your client is very happy and could use the financial prediction you made to convince the investors to further support his business. Your client now wants to know the final wealth after 35 years given the fact he plans a one time expense `expns` of 1125CHF in 20 years. Provide the final wealth and a graphical evolution for both cases with and without interest rate."
   ],
   "metadata": {}
  },
  {
   "cell_type": "markdown",
   "source": [
    "### Question 4\n",
    "\n",
    "The final task you'll have to perform for your client before transferring his dossier to another department within the bank is to predict his wealth evolution taking market's randomness into account."
   ],
   "metadata": {}
  },
  {
   "cell_type": "markdown",
   "source": [
    "Define a yearly variable interest rate of 0.5% +/- 1%. Report the final wealth as well as a graphical evolution of your client's wealth taking the random market evolution into account for the coming 35 years."
   ],
   "metadata": {}
  },
  {
   "cell_type": "markdown",
   "source": [
    "> 💡 hint: You can use `randn()` to generate a normally-distributed random number."
   ],
   "metadata": {}
  },
  {
   "cell_type": "markdown",
   "source": [
    "🎉 Good job! You are done with **Exercise 1**"
   ],
   "metadata": {}
  }
 ],
 "nbformat_minor": 3,
 "metadata": {
  "language_info": {
   "file_extension": ".jl",
   "mimetype": "application/julia",
   "name": "julia",
   "version": "1.6.1"
  },
  "kernelspec": {
   "name": "julia-1.6",
   "display_name": "Julia 1.6.1",
   "language": "julia"
  }
 },
 "nbformat": 4
}
