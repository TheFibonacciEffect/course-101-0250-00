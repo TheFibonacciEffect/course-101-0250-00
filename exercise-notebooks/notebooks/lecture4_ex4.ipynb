{
 "cells": [
  {
   "cell_type": "markdown",
   "source": [
    "## Exercise 4 - **Nonlinear steady-state diffusion 2D**"
   ],
   "metadata": {}
  },
  {
   "cell_type": "markdown",
   "source": [
    "The goal of this exercise is to:\n",
    "- Investigate second-order acceleration\n",
    "- Implement a fast implicit nonlinear diffusion solver in 2D"
   ],
   "metadata": {}
  },
  {
   "cell_type": "markdown",
   "source": [
    "In this exercise you will transform the fast implicit nonlinear diffusion 1D solver from Exercise 3 to 2D.\n",
    "\n",
    "To get started, save a copy of the `diffusion_nl_1D_steady_2.jl` script from [Exercise 3 - Task 2](#task_2__3), and name it `diffusion_nl_2D_steady_2.jl`."
   ],
   "metadata": {}
  },
  {
   "cell_type": "markdown",
   "source": [
    "### Task 1\n",
    "You will port the 1D code to 2D, duplicating, if needed, all parameters from the $x$-dimension to the $y$-dimension.\n",
    "\n",
    "In the `# Array initialisation`, use following functions to initialise 3 ellipses where the subsurface permeability is reduced from 5.0 to 1.5:\n",
    "\n",
    "```julia\n",
    "rad2_1 = (xc .- 2*Lx/3).^2 .* 3 .+ (yc' .-   Ly/3).^2 ./ 4\n",
    "rad2_2 = (xc .- 2*Lx/3).^2 ./ 4 .+ (yc' .- 2*Ly/3).^2 .* 3\n",
    "rad2_3 = (xc .-   Lx/3).^2 .* 1 .+ (yc' .-   Ly/2).^2 ./ 1\n",
    "```\n",
    "\n",
    "Use these \"radius\" functions to set values of `D0` to 1.5 when smaller then 1.0.\n",
    "\n",
    "As boundary conditions, set `C=0.5` at $x=dx/2$ and `C=0.1` at $x=Lx-dx/2$. Implement a \"no-flux\" boundary condition ($∆C$ vanishes in the direction orthogonal to the boundary) at $y=dy/2$ and $y=Ly-dy/2$."
   ],
   "metadata": {}
  },
  {
   "cell_type": "markdown",
   "source": [
    "> 💡 hint: Take care to adapt the iterative time step condition for 2D diffusion and think about how to modify the `maxloc()` function for 2D purposes, taking the local maximum amongst all 8 neighbours for each grid point.`"
   ],
   "metadata": {}
  },
  {
   "cell_type": "markdown",
   "source": [
    "Report graphically the distribution of concentration `C` as function of `x` and `y` using a heatmap plot, adding axes labels and title reporting time, iteration count and current error. Use `mean(dt)` to cumulate numerical time *(note that this measure is no longer relevant)*."
   ],
   "metadata": {}
  }
 ],
 "nbformat_minor": 3,
 "metadata": {
  "language_info": {
   "file_extension": ".jl",
   "mimetype": "application/julia",
   "name": "julia",
   "version": "1.6.3"
  },
  "kernelspec": {
   "name": "julia-1.6",
   "display_name": "Julia 1.6.3",
   "language": "julia"
  }
 },
 "nbformat": 4
}
