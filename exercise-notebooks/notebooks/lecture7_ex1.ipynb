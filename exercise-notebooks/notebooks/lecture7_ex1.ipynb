{
 "cells": [
  {
   "cell_type": "markdown",
   "source": [
    "## Exercise 1 - **Diffusion 2D XPU implementation**"
   ],
   "metadata": {}
  },
  {
   "cell_type": "markdown",
   "source": [
    "The goal of this exercise is to:\n",
    "- Finalise the XPU implementation of the 2D diffusion code started in class\n",
    "- Familiarise with XPU programming, `@parallel` and `@parallel_indices`"
   ],
   "metadata": {}
  },
  {
   "cell_type": "markdown",
   "source": [
    "In this exercise, you will finalise the diffusion 2D scripts started during lecture 7.\n",
    "\n",
    "Create a new folder in your GitHub repository for this week's (lecture 7) exercises. In there, create a new subfolder `diffusion2D_xpu` where you will add following script:\n",
    "- `diffusion_2D_xpu.jl`\n",
    "- `diffusion_2D_perf_xpu.jl`\n",
    "\n",
    "### Task 1\n",
    "\n",
    "Finalise the `diffusion_2D_xpu.jl` script from class.\n",
    "- This version should contain compute functions (kernels) definitions using `@parallel` approach together with using `ParallelStencil.FiniteDifferences2D` submodule.\n",
    "- Include the kwarg `do_visu` to allow disabling plotting when assessing performance.\n",
    "- Also, make sure to include and update the performance evaluation section at the end of the script (as in the previous GPU and CPU script versions).\n",
    "\n",
    "You can get started looking at the [`diffusion_2D_perf_gpu.jl`](https://github.com/eth-vaw-glaciology/course-101-0250-00/blob/main/scripts/) script (available in the [scripts/](https://github.com/eth-vaw-glaciology/course-101-0250-00/blob/main/scripts/) folder in case you don't have it at hand from lecture 6).\n",
    "\n",
    "### Task 2\n",
    "\n",
    "Finalise the `diffusion_2D_perf_xpu.jl` script from class.\n",
    "- This version should contain compute functions (kernels) definitions using `@parallel_indices` approach.\n",
    "- Use a macros for the flux definition to avoid unnecessary memory accesses. Also, make sure to adapt the array you initialise.\n",
    "- Include the kwarg `do_visu` to allow disabling plotting when assessing performance.\n",
    "- Also, make sure to include and update the performance evaluation section at the end of the script (as in the previous GPU and CPU script versions).\n",
    "\n",
    "### Task 3\n",
    "\n",
    "Create a `README.md` file in your lecture 7 GitHub folder, adding a first section about \"Diffusion 2D XPU performance\".\n",
    "\n",
    "In this section, include a figure reporting the performance of both the `diffusion_2D_xpu.jl` and `diffusion_2D_perf_xpu.jl` implementation of the diffusion 2D solver using the $T_\\mathrm{eff}$ metric.\n",
    "\n",
    "Vary the number of grid points `nx = ny = 16 * 2 .^ (1:8)` (or until you run out of memory on the GPU). Report as well the value for memory copy $T_\\mathrm{peak}$ of the given GPU (and arithmetic precision) you are using. Make sure to including figure axis labels and add a short figure caption or description to the `README`."
   ],
   "metadata": {}
  }
 ],
 "nbformat_minor": 3,
 "metadata": {
  "language_info": {
   "file_extension": ".jl",
   "mimetype": "application/julia",
   "name": "julia",
   "version": "1.8.2"
  },
  "kernelspec": {
   "name": "julia-1.8",
   "display_name": "Julia 1.8.2",
   "language": "julia"
  }
 },
 "nbformat": 4
}
