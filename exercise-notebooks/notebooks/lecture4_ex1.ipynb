{
 "cells": [
  {
   "cell_type": "markdown",
   "source": [
    "## Exercise 1 - **Thermal porous convection in 2D**"
   ],
   "metadata": {}
  },
  {
   "cell_type": "markdown",
   "source": [
    "The goal of this exercise is to:\n",
    "- Implement a 2D nonlinear diffusion equation\n",
    "- Consolidate the finite-difference discretisation"
   ],
   "metadata": {}
  },
  {
   "cell_type": "markdown",
   "source": [
    "In this first exercise, you will port the shallow ice-like 1D nonlinear diffusion code we did in class to a 2D implementation.\n",
    "\n",
    "Starting from the 1D nonlinear diffusion equation we discussed in lecture 4, extend the 1D code to a 2D configuration. Use the same parameters for the $y$-dimension quantities as the one you already have for the $x$-dimension."
   ],
   "metadata": {}
  },
  {
   "cell_type": "markdown",
   "source": [
    "> 💡 hint: Don't forget to initialise (pre-allocate) all arrays (vectors) needed in the calculations. You will also need to handle the effective diffusivities in both $x$ and $y$ directions to account for correct staggering."
   ],
   "metadata": {}
  },
  {
   "cell_type": "markdown",
   "source": [
    "### Task 1\n",
    "Create a new folder in your GitHub repository for this week's (lecture 4) exercises. In there, create a new Julia script `porous_convection_2D.jl` for this homework. Take 1D steady diffusion script `l3_steady_diffusion_1D.jl` as a basis. Rename variables so that we solve it for the pressure."
   ],
   "metadata": {}
  },
  {
   "cell_type": "markdown",
   "source": [
    "### Task 2\n",
    "Convert this script to 2D. The script should produce a `heatmap()` plot after the iterations converge.\n",
    "\n",
    "Use `nx = 128` and `ny = 129` grid points."
   ],
   "metadata": {}
  },
  {
   "cell_type": "markdown",
   "source": [
    "### Task 3\n",
    "\n",
    "Wrap the iteration loop into a time loop. Make `nt=10` time steps."
   ],
   "metadata": {}
  },
  {
   "cell_type": "markdown",
   "source": [
    "### Task 4\n",
    "\n",
    "Add new fields for the temperature evolution (advection and diffusion). Add the temperature update after the iteration loop. Don't forget updwind! Implement initial and boundary conditions."
   ],
   "metadata": {}
  },
  {
   "cell_type": "markdown",
   "source": [
    "### Task 5\n",
    "\n",
    "Add two-way coupling using the Boussinesq approximaiton, i.e., the dependence of density on temperature in the Darcy flux. Produce the animation displaying the temperature evolution and arrows for velocities.\n",
    "\n",
    "```julia\n",
    "Vscale = 1/maximum(sqrt.(Vxp.^2 + Vyp.^2)) * dx*(st-1)\n",
    "quiver!(Xp[:], Yp[:], quiver=(Vxp[:]*Vscale, Vyp[:]*Vscale), lw=0.1, c=:blue); frame(anim)\n",
    "```"
   ],
   "metadata": {}
  }
 ],
 "nbformat_minor": 3,
 "metadata": {
  "language_info": {
   "file_extension": ".jl",
   "mimetype": "application/julia",
   "name": "julia",
   "version": "1.8.2"
  },
  "kernelspec": {
   "name": "julia-1.8",
   "display_name": "Julia 1.8.2",
   "language": "julia"
  }
 },
 "nbformat": 4
}
