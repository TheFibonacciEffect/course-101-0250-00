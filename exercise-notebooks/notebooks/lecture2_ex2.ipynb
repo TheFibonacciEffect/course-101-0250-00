{
 "cells": [
  {
   "cell_type": "markdown",
   "source": [
    "## Exercise 2 - **Advection-Diffusion**"
   ],
   "metadata": {}
  },
  {
   "cell_type": "markdown",
   "source": [
    "The goal of this exercise is to consolidate:\n",
    "- 1D advection-diffusion\n",
    "- Non-dimensional numbers"
   ],
   "metadata": {}
  },
  {
   "cell_type": "markdown",
   "source": [
    "The goal of this exercise is to combine advection and diffusion processes acting on the concentration of a quantity $C$.\n",
    "\n",
    "From what you learned in class, write an advection-diffusion code having following physical input parameters:\n",
    "\n",
    "```\n",
    "# Physics\n",
    "Lx    = 10.0  # domain length\n",
    "D     = 0.4   # diffusion coefficient\n",
    "vx    = 1.0   # advection velocity\n",
    "ttot  = 2.0   # total simulation time\n",
    "```\n",
    "\n",
    "Discretise your domain in 128 finite-difference cells such that the first cell centre is located at `dx/2` and the last cell centre at `Lx-dx/2`. Use following explicit time step limiters:\n",
    "\n",
    "```julia\n",
    "dtd   = dx^2/D/2.6\n",
    "dta   = dx/vx\n",
    "dt    = min(dtd, dta)\n",
    "```\n",
    "\n",
    "As initial condition, define a Gaussian profile of concentration `C` of amplitude and standard deviation equal to 1, located at `0.3*Lx`.\n",
    "\n",
    "Keep the concentration at the boundaries at `C=0`."
   ],
   "metadata": {}
  },
  {
   "cell_type": "markdown",
   "source": [
    "> 💡 hint: Don't forget to initialise (pre-allocate) all arrays (vectors) needed in the calculations"
   ],
   "metadata": {}
  },
  {
   "cell_type": "markdown",
   "source": [
    "### Question 1\n",
    "\n",
    "Report the initial and final distribution of concentration on a figure with axis-label, title, and plotted line labels. Also, report on the figure (as text in one label of your choice) the maximal final concentration value and its x location.\n",
    "\n",
    "### Question 2\n",
    "\n",
    "Repeat the exercise but introduce the non-dimensional [Péclet number](https://en.wikipedia.org/wiki/Péclet_number) $Pe = L~vx/D$ as physical quantity defining the diffusion coefficient D as a `# Derived physics` quantity. Confirm the if $Pe << 1$ the diffusion happens in a much longer time compared to the advection, and the opposite for $Pe >> 1$."
   ],
   "metadata": {}
  }
 ],
 "nbformat_minor": 3,
 "metadata": {
  "language_info": {
   "file_extension": ".jl",
   "mimetype": "application/julia",
   "name": "julia",
   "version": "1.6.1"
  },
  "kernelspec": {
   "name": "julia-1.6",
   "display_name": "Julia 1.6.1",
   "language": "julia"
  }
 },
 "nbformat": 4
}
