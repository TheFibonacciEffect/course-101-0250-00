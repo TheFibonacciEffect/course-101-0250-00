{
 "cells": [
  {
   "cell_type": "markdown",
   "source": [
    "## Exercise 3 - **Acoustic waves in 2D - v3**"
   ],
   "metadata": {}
  },
  {
   "cell_type": "markdown",
   "source": [
    "The goal of this exercise is to:\n",
    "- Implement 2D wave equation\n",
    "- Consolidate the finite-difference discretisation\n",
    "- Familiarise with visualisation"
   ],
   "metadata": {}
  },
  {
   "cell_type": "markdown",
   "source": [
    "In this third exercise, implement the second-order wave equation as reported at the [beginning of lecture 3](#the_wave_equation),\n",
    "\n",
    "$$ \\frac{∂^2P}{∂t^2} = c^2 ∇^2 P~, $$\n",
    "\n",
    "where\n",
    "- $P$ is pressure,\n",
    "- $c$ a non-negative real constant, here the speed of sound.\n",
    "\n",
    "Verify that $c=\\sqrt(K/ρ)$ and add `c` as new parameter to a `# Derived physics` section in the code.\n",
    "\n",
    "The challenge here is to implement the second-order time derivative of the pressure $P$, which expands as\n",
    "\n",
    "$$  \\frac{∂^2P}{∂t^2} = P^{t+∆t} - 2~P^{t} + P^{t-∆t}~,$$\n",
    "\n",
    "reason you actually need 3 explicit time integration layer, $P_\\mathrm{new},~P_\\mathrm{current},~P_\\mathrm{old}$, updating $P_\\mathrm{new}$ as from the two others and using $P_\\mathrm{current}$ in the spatial derivatives.\n",
    "\n",
    "Also, make sure to initialise all 3 pressure arrays with the same Gaussian initial condition."
   ],
   "metadata": {}
  },
  {
   "cell_type": "markdown",
   "source": [
    "> 💡 hint: You may need to use 3 arrays for the pressure update, `Pold`, `P` and `Pnew`; in `Pold` you can store the values at time `(it-1)`, while you can use the array `P` for holding current `(it)` pressure values and finally use `Pnew` for prediction at `(it+1)`. Don't forget to assign the appropriate updates at the end of the time loop."
   ],
   "metadata": {}
  },
  {
   "cell_type": "markdown",
   "source": [
    "### Task 1\n",
    "\n",
    "Create a new Julia script `acoustic_2D_v3.jl` for this homework. The script should produce a `heatmap()` plot that updates upon time steps, with labelled axes and physical time displayed as title.\n",
    "\n",
    "Use `nx = 128` and `ny = 129` grid points and the same parameters as for exercise 1 and 2."
   ],
   "metadata": {}
  }
 ],
 "nbformat_minor": 3,
 "metadata": {
  "language_info": {
   "file_extension": ".jl",
   "mimetype": "application/julia",
   "name": "julia",
   "version": "1.8.2"
  },
  "kernelspec": {
   "name": "julia-1.8",
   "display_name": "Julia 1.8.2",
   "language": "julia"
  }
 },
 "nbformat": 4
}
