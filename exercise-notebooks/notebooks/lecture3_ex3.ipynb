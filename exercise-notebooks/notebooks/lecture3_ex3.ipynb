{
 "cells": [
  {
   "cell_type": "markdown",
   "source": [
    "## Exercise 3 - **Advection-diffusion in 2D**"
   ],
   "metadata": {}
  },
  {
   "cell_type": "markdown",
   "source": [
    "Extend the above in 2D with upwinding and constant velocity field"
   ],
   "metadata": {}
  }
 ],
 "nbformat_minor": 3,
 "metadata": {
  "language_info": {
   "file_extension": ".jl",
   "mimetype": "application/julia",
   "name": "julia",
   "version": "1.8.2"
  },
  "kernelspec": {
   "name": "julia-1.8",
   "display_name": "Julia 1.8.2",
   "language": "julia"
  }
 },
 "nbformat": 4
}
