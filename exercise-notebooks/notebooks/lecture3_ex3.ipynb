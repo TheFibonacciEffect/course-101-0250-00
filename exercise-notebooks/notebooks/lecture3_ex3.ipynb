{
 "cells": [
  {
   "cell_type": "markdown",
   "source": [
    "## Exercise 3 - **Acoustic waves in 2D - v3**"
   ],
   "metadata": {}
  },
  {
   "cell_type": "markdown",
   "source": [
    "The goal of this exercise is to:\n",
    "- Implement 2D wave equation\n",
    "- Consolidate the finite-difference discretisation\n",
    "- Familiarise with visualisation"
   ],
   "metadata": {}
  },
  {
   "cell_type": "markdown",
   "source": [
    "In this third exercise, implement the wave equation as reported in the [beginning of lecture 3](#the_wave_equation),\n",
    "\n",
    "$$ \\frac{∂^2P}{∂t^2} = c^2 ∇^2 P~, $$\n",
    "\n",
    "where\n",
    "- $P$ is pressure,\n",
    "- $c$ a non-negative real constant, here the speed of sound.\n",
    "\n",
    "Cross-check that $c=\\sqrt(K/ρ)$ and add `c` as new parameter to a `# Derived physics` section in the code.\n",
    "\n",
    "The challenge here is to implement the second order time derivtive of the pressure $P$."
   ],
   "metadata": {}
  },
  {
   "cell_type": "markdown",
   "source": [
    "> 💡 hint: You may need to use 2 arrays for the pressure update, `Pold` and `P`; in `Pold` you can store the values at time `(it-1)`, while you can use the array `P` for holding current `(it)` pressure values and finally use both to predict `Pnew` `(it+1)`"
   ],
   "metadata": {}
  },
  {
   "cell_type": "markdown",
   "source": [
    "### Task 1\n",
    "\n",
    "Create a new Julia script `acoustic_2D_v3.jl` for this homework. The script should produce a `heatmap()` plot that update upon time steps, with labelled axes and physical time displayed as title.\n",
    "\n",
    "Use `nx = 128` and `ny = 129` grid points and the same parameters as for exercise 1 and 2."
   ],
   "metadata": {}
  }
 ],
 "nbformat_minor": 3,
 "metadata": {
  "language_info": {
   "file_extension": ".jl",
   "mimetype": "application/julia",
   "name": "julia",
   "version": "1.6.3"
  },
  "kernelspec": {
   "name": "julia-1.6",
   "display_name": "Julia 1.6.3",
   "language": "julia"
  }
 },
 "nbformat": 4
}
