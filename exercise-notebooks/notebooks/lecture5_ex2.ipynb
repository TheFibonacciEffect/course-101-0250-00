{
 "cells": [
  {
   "cell_type": "markdown",
   "source": [
    "## Exercise 2 - **Performance implementation: Acoustic 2D**"
   ],
   "metadata": {}
  },
  {
   "cell_type": "markdown",
   "source": [
    "The goal of this exercise is to:\n",
    "- Apply the optimisation steps done for the diffusion 2D to the acoustic wave propagation 2D code (velocity-pressure formulation)"
   ],
   "metadata": {}
  },
  {
   "cell_type": "markdown",
   "source": [
    "For this second exercise, you will implement a performance oriented implementation of the 2D acoustic scripts from lecture 5."
   ],
   "metadata": {}
  },
  {
   "cell_type": "markdown",
   "source": [
    "### Task 1\n",
    "\n",
    "In the folder in your GitHub repository for this week's (lecture 5) exercises, create a new subfolder `acoustic2D` where you will add following script:\n",
    "- `acoustic_2D_Teff.jl`\n",
    "  - Implement the `T_eff` metric to the acoustic wave in 2D. Since we are using the velocity-pressure formulation, think about how many arrays are read / written at every iterations and define `A_Eff` accordingly.\n",
    "  - Use `@printf()` to report `t_toc`, `T_eff` and `niter`.\n",
    "  - Boost the number of grid points to `nx = ny = 512`.\n",
    "  - Implement a flag to deactivate visualisation using kwargs.\n",
    "- `acoustic_2D_perf.jl`\n",
    "  - Replace divisions by multiplications.\n",
    "  - When possible, fuse scalar computations in preprocessing.\n",
    "- `acoustic_2D_perf_loop.jl`\n",
    "  - Perform the computations of `Vx`, `Vy` and `P` in nested loops. Take care of the staggering and loop range.\n",
    "- `acoustic_2D_perf_loop_fun.jl`\n",
    "  - Move the physics computations inside functions (kernels) and call them within the time loop. Use the minimal amount of functions that would ensure correct results.\n",
    "  - Implement multi-threading using both `Threads.@threads` and `@tturbo` (the latter from [LoopVectorization.jl](https://github.com/JuliaSIMD/LoopVectorization.jl))."
   ],
   "metadata": {}
  },
  {
   "cell_type": "markdown",
   "source": [
    "> 💡 hint: Refer to [this section](#timer_and_performance) in lecture 5 to capture the starting point describing which features are specific to each version of the diffusion 2D codes."
   ],
   "metadata": {}
  }
 ],
 "nbformat_minor": 3,
 "metadata": {
  "language_info": {
   "file_extension": ".jl",
   "mimetype": "application/julia",
   "name": "julia",
   "version": "1.8.2"
  },
  "kernelspec": {
   "name": "julia-1.8",
   "display_name": "Julia 1.8.2",
   "language": "julia"
  }
 },
 "nbformat": 4
}
