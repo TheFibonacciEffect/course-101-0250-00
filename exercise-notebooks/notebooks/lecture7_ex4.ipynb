{
 "cells": [
  {
   "cell_type": "markdown",
   "source": [
    "## Exercise 4 - **CI and GitHub Actions**"
   ],
   "metadata": {}
  },
  {
   "cell_type": "markdown",
   "source": [
    "The goal of this exercise is to:\n",
    "- setup Continuous Integration with Github Actions"
   ],
   "metadata": {}
  },
  {
   "cell_type": "markdown",
   "source": [
    "Task:\n",
    "- copy the repository you created for Lecture6-Exercise3 over to your Lecture7 solution folder as `L7CIExercise` (if you did not complete that exercise, use the package https://github.com/mauro3/SimpleTraits.jl instead, make sure to not copy over the `.github` and `.git` folders)\n",
    "- follow/revisit the lecture and in particular look at the example at [https://github.com/eth-vaw-glaciology/course-101-0250-00-L6Testing-subfolder.jl](https://github.com/eth-vaw-glaciology/course-101-0250-00-L6Testing-subfolder.jl) to setup CI\n",
    "- push to github and make sure the CI runs and passes\n",
    "- add the CI-badge to the folder-local README.md"
   ],
   "metadata": {}
  }
 ],
 "nbformat_minor": 3,
 "metadata": {
  "language_info": {
   "file_extension": ".jl",
   "mimetype": "application/julia",
   "name": "julia",
   "version": "1.6.3"
  },
  "kernelspec": {
   "name": "julia-1.6",
   "display_name": "Julia 1.6.3",
   "language": "julia"
  }
 },
 "nbformat": 4
}
