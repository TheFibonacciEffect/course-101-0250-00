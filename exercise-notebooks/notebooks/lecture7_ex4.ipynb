{
 "cells": [
  {
   "cell_type": "markdown",
   "metadata": {},
   "source": [
    "## Exercise 4 - **CI and GitHub Actions**"
   ]
  },
  {
   "cell_type": "markdown",
   "metadata": {},
   "source": [
    "The goal of this exercise is to:\n",
    "- setup Continuous Integration with Github Actions"
   ]
  },
  {
   "cell_type": "markdown",
   "metadata": {},
   "source": [
    "Task:\n",
    "- copy the repository you created for Lecture6-Exercise3 over to your Lecture7 solution folder as `L7CIExercise` (if you did not complete that exercise, use the package https://github.com/mauro3/SimpleTraits.jl instead, make sure to not copy over the `.github` and `.git` folders)\n",
    "- follow/revisit the lecture and in particular look at the example at [https://github.com/eth-vaw-glaciology/course-101-0250-00-L6Testing-subfolder.jl](https://github.com/eth-vaw-glaciology/course-101-0250-00-L6Testing-subfolder.jl)\n",
    "to setup CI\n",
    "- push to github and make sure the CI runs and passes\n",
    "- add the badge to the folder-local README.md\n",
    "\n",
    "*Remember to check-in all the files into the repo; in particular the reference `*.bson`."
   ]
  }
 ],
 "metadata": {
  "kernelspec": {
   "display_name": "Julia 1.6.2",
   "language": "julia",
   "name": "julia-1.6"
  },
  "language_info": {
   "file_extension": ".jl",
   "mimetype": "application/julia",
   "name": "julia",
   "version": "1.6.3"
  }
 },
 "nbformat": 4,
 "nbformat_minor": 3
}
