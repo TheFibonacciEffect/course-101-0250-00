{
 "cells": [
  {
   "cell_type": "markdown",
   "source": [
    "## Exercise 3 - **Cauchy-Navier elastic waves**"
   ],
   "metadata": {}
  },
  {
   "cell_type": "markdown",
   "source": [
    "The goal of this exercise is to:\n",
    "- Familiarise with Cauch-Navier elasticity\n",
    "- Step from acoustic waves to elastic waves\n",
    "- Get a glimpse into solid mechanics"
   ],
   "metadata": {}
  },
  {
   "cell_type": "markdown",
   "source": [
    "### Getting started\n",
    "\n",
    "In this exercises your task will be to terminate the 2D implementation of an elastic wave solver based on the [Cauchy-Navier elasticity as presented in lecture 7](#towards_stokes_flow_i_acoustic_to_elastic).\n",
    "\n",
    "In class, we stopped at [**Task 2**](#task_2_-_adding_normal_stresses), adding normal stress components.\n",
    "\n",
    "The remaining 2 tasks to achieve a full implementation of the 2D elastic wave solver are:\n",
    "- adding shear stresses\n",
    "- re-arranging the order of computation\n",
    "\n",
    "Create a folder titles `elastic2D` within this week's lecture 7 GitHub parent folder. Copy in there the following codes developed in class (refer to the [course section](#towards_stokes_flow_i_acoustic_to_elastic) for directions regarding details implementing these 3 code versions):\n",
    "- `acoustic_2D_elast0.jl`\n",
    "- `acoustic_2D_elast1.jl`\n",
    "- `acoustic_2D_elast2.jl`\n",
    "\n",
    "### Task 3 - adding shear stresses\n",
    "\n",
    "Start by making a new duplicate of the latest `acoustic_2D_elast2.jl` script, renaming it `acoustic_2D_elast3.jl`. In this new script, add the shear stress $xy$ component:\n",
    "```julia\n",
    "τxy  .= τxy .+ ??\n",
    "```\n",
    "\n",
    "Note that the strain(-rate) tensor is symmetric, thus $τ_{xy} = τ_{yx}$.\n",
    "\n",
    "Make sure to correctly interpret [Einstein's notation](https://en.wikipedia.org/wiki/Einstein_notation) - normal $(τ_{xx}, τ_{yy})$ and shear $(τ_{xy})$ stresses are not defined in the same way.\n",
    "\n",
    "![2D staggered grid](./figures/stagg_elast_ex7.png)"
   ],
   "metadata": {}
  },
  {
   "cell_type": "markdown",
   "source": [
    "> 💡 hint: Transforming [Einstein's notation](https://en.wikipedia.org/wiki/Einstein_notation) into code: rate of change of normal stress $∂τ_{xx}/∂t$ is defined as $2~μ~(∂v_x/∂x -1/3∇v)$, i.e. two $2μ$ times the normal strain-rate. For the rate of change of the shear stress $∂τ_{xy}/∂t$, the shear strain-rate defines as $1/2~(∂v_x/∂y + ∂v_y/∂x)$. Make sure to implement it consistently."
   ],
   "metadata": {}
  },
  {
   "cell_type": "markdown",
   "source": [
    "### Task 4 - rearranging the code\n",
    "\n",
    "For enhanced stability of the elastic solver, it is important to use the newly computed quantities as soon as possible.\n",
    "\n",
    "Create a last duplicate of the `acoustic_2D_elast3.jl` script, renaming it `elastic_2D.jl`.\n",
    "\n",
    "In this final version of the script, move the pressure update at the beginning of the time loop. First update pressure in order to use the updated pressure later on when computing the pressure gradient in the velocity update.\n",
    "\n",
    "You should now have a 2D elastic solver up and running 🚀\n",
    "\n",
    "### Final Task\n",
    "\n",
    "Compare the results between acoustic and elastic wave propagation for identical physical and numerical input parameters. Create one figure for each simulation that you add to the `README` in a new final section. Comment briefly about the results."
   ],
   "metadata": {}
  }
 ],
 "nbformat_minor": 3,
 "metadata": {
  "language_info": {
   "file_extension": ".jl",
   "mimetype": "application/julia",
   "name": "julia",
   "version": "1.6.3"
  },
  "kernelspec": {
   "name": "julia-1.6",
   "display_name": "Julia 1.6.3",
   "language": "julia"
  }
 },
 "nbformat": 4
}
