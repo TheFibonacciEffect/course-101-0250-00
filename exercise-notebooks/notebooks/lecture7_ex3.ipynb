{
 "cells": [
  {
   "cell_type": "markdown",
   "source": [
    "## Exercise 3 - **CI and GitHub Actions**"
   ],
   "metadata": {}
  },
  {
   "cell_type": "markdown",
   "source": [
    "The goal of this exercise is to:\n",
    "- setup Continuous Integration with GitHub Actions"
   ],
   "metadata": {}
  },
  {
   "cell_type": "markdown",
   "source": [
    "### Tasks\n",
    "1. Add CI setup to your `PorousConvection` project to run **one unit and one reference test** for both the 2D and 3D thermal porous convection scripts.\n",
    "   - 👉 make sure that the reference test runs on a very small grid.  It should complete in less than, say, 5 seconds.\n",
    "2. Follow/revisit the lecture and in particular look at the example at [https://github.com/eth-vaw-glaciology/course-101-0250-00-L6Testing-subfolder.jl](https://github.com/eth-vaw-glaciology/course-101-0250-00-L6Testing-subfolder.jl) to setup CI for a folder that is part of another Git repo (your `PorousConvection` folder is part of your `pde-on-gpu-<username>` git repo).\n",
    "3. Push to GitHub and make sure the CI runs and passes\n",
    "4. Add the CI-badge to the `README.md` file from your `PorousConvection` folder, right below the title (as it is commonly done)."
   ],
   "metadata": {}
  }
 ],
 "nbformat_minor": 3,
 "metadata": {
  "language_info": {
   "file_extension": ".jl",
   "mimetype": "application/julia",
   "name": "julia",
   "version": "1.8.1"
  },
  "kernelspec": {
   "name": "julia-1.8",
   "display_name": "Julia 1.8.1",
   "language": "julia"
  }
 },
 "nbformat": 4
}
