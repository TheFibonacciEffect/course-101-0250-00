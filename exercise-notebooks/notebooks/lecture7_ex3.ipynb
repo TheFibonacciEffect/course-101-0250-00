{
 "cells": [
  {
   "cell_type": "markdown",
   "source": [
    "## Exercise 3 - **Cauchy-Navier elastic waves**"
   ],
   "metadata": {}
  },
  {
   "cell_type": "markdown",
   "source": [
    "The goal of this exercise is to:\n",
    "-"
   ],
   "metadata": {}
  },
  {
   "cell_type": "markdown",
   "source": [
    "### Getting started\n",
    "\n",
    "### Task 1 - adding shear stresses\n",
    "Start by making a new duplicate of the current script, named `acoustic_2D_elast3.jl`. In this new script, add\n",
    "Repeat this for the $xy$ component:\n",
    "```julia\n",
    "qVxy  .= qVxy .+ ??\n",
    "```\n",
    "\n",
    "### Task 2 - rearranging the code and renaming fluxes to stress"
   ],
   "metadata": {}
  }
 ],
 "nbformat_minor": 3,
 "metadata": {
  "language_info": {
   "file_extension": ".jl",
   "mimetype": "application/julia",
   "name": "julia",
   "version": "1.6.3"
  },
  "kernelspec": {
   "name": "julia-1.6",
   "display_name": "Julia 1.6.3",
   "language": "julia"
  }
 },
 "nbformat": 4
}
