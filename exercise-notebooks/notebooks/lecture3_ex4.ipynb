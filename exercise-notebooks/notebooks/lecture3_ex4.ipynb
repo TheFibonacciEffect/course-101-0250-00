{
 "cells": [
  {
   "cell_type": "markdown",
   "source": [
    "## Exercise 4 - **Seismic P-waves**"
   ],
   "metadata": {}
  },
  {
   "cell_type": "markdown",
   "source": [
    "The goal of this exercise is to:\n",
    "- Implement 2D wave equation\n",
    "- Record the signal on a synthetic seismic array\n",
    "- Train visualisation"
   ],
   "metadata": {}
  },
  {
   "cell_type": "markdown",
   "source": [
    "In this last exercise, you will implement a synthetic wave propagation solver, to resolve seismic pressure (P-)wave propagation in a sandstone. You will deploy an array of synthetic geophones (receivers) and record the seismic signal.\n",
    "\n",
    "Create a new Julia script `acoustic_2D_v4.jl` for this homework, starting from the code you developed for [exercise 2](#exercise_2_-_acoustic_waves_in_2d_-_v2).\n",
    "\n",
    "![wave-ex4-sketch](./figures/wave_ex4_sketch.png)\n",
    "\n",
    "### Task 1\n",
    "Implement the following changes:\n",
    "- Change the domain extend to $L_x=1000$ m, $L_y=500$ m (with origin located in the bottom left corner of the model)\n",
    "- For sandstone, set the elastic moduli $K=40$ GPa and the density $ρ=2400$ Kg/m$^3$\n",
    "- Define a Gaussian function for the source at $t=0$, with centre location $(x_s, y_s)$ at $x_s = 200$ and at $50$ m below the surface. Use a standard deviation of $5$ m and an amplitude of $1$ Pa.\n",
    "- Run the experiment for a total $t_\\mathrm{tot}=0.2$ sec\n",
    "- Set pressure values as `P[:,end] .= P[:,end-1]` in order to minimise boundary effects on the top boundary\n",
    "\n",
    "You should obtain a similar output for your figure (try saving it as .png from within Julia)\n",
    "\n",
    "![wave-ex4](./figures/wave_ex4.png)\n",
    "\n",
    "### Task 2\n",
    "In a second step,\n",
    "- Add 5 monitoring stations located at $y_\\mathrm{monit}$ ~$20$ m below the ground between $x=500$ and $900$ m, distant from each other by $100$ m.\n",
    "- Record and store the pressure in each monitoring station throughout the entire simulation\n",
    "- For the first station (located at $x=500$ m), find the arrival time for which the pressure $P > 0.02$ Pa\n",
    "- Knowing at which time the wave hit the first station, you can post-process and **report following (as formatted output in the REPL or on a figure)**:\n",
    "  - First wave arrival time (in s) at station $x_s=500$ m\n",
    "  - Distance (`∆_dist`) the wave travelled\n",
    "  - $x$-location of the seismic source"
   ],
   "metadata": {}
  }
 ],
 "nbformat_minor": 3,
 "metadata": {
  "language_info": {
   "file_extension": ".jl",
   "mimetype": "application/julia",
   "name": "julia",
   "version": "1.6.3"
  },
  "kernelspec": {
   "name": "julia-1.6",
   "display_name": "Julia 1.6.3",
   "language": "julia"
  }
 },
 "nbformat": 4
}
