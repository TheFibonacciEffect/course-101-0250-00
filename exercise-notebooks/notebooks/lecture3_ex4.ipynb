{
 "cells": [
  {
   "cell_type": "markdown",
   "source": [
    "## Exercise 4 - **Seismic inversion of P-waves**"
   ],
   "metadata": {}
  },
  {
   "cell_type": "markdown",
   "source": [
    "The goal of this exercise is to:\n",
    "- Implement 2D wave equation\n",
    "- Perform a basic seismic inversion\n",
    "- Locate the earthquake source"
   ],
   "metadata": {}
  },
  {
   "cell_type": "markdown",
   "source": [
    "In this third exercise,"
   ],
   "metadata": {}
  }
 ],
 "nbformat_minor": 3,
 "metadata": {
  "language_info": {
   "file_extension": ".jl",
   "mimetype": "application/julia",
   "name": "julia",
   "version": "1.6.3"
  },
  "kernelspec": {
   "name": "julia-1.6",
   "display_name": "Julia 1.6.3",
   "language": "julia"
  }
 },
 "nbformat": 4
}
