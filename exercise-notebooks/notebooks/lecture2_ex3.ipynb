{
 "cells": [
  {
   "cell_type": "markdown",
   "source": [
    "## Exercise 3 - **Reaction-Diffusion**"
   ],
   "metadata": {}
  },
  {
   "cell_type": "markdown",
   "source": [
    "The goal of this exercise is to consolidate:\n",
    "- 1D reaction-diffusion\n",
    "- Non-dimensional numbers"
   ],
   "metadata": {}
  },
  {
   "cell_type": "markdown",
   "source": [
    "The goal of this exercise is to combine reaction and diffusion processes acting on the concentration of a quantity $C$.\n",
    "\n",
    "From what you learned in class, write an reaction-diffusion code having following physical input parameters:\n",
    "\n",
    "```\n",
    "# Physics\n",
    "Lx    = 10.0  # domain length\n",
    "D     = 0.4   # diffusion coefficient\n",
    "ξ     = 10.0  # reaction rate\n",
    "Ceq   = 0.4   # equilibrium concentration\n",
    "ttot  = 2.0   # total simulation time\n",
    "```\n",
    "\n",
    "Discretise your domain in 128 finite-difference cells such that the first cell centre is located at `dx/2` and the last cell centre at `Lx-dx/2`. Use following explicit time step limiters:\n",
    "\n",
    "```julia\n",
    "dt    = dx^2/D/2.2\n",
    "```\n",
    "\n",
    "As initial condition, define a Gaussian profile of concentration `C` of amplitude and standard deviation equal to 1, located at `0.3*Lx`.\n",
    "\n",
    "Keep the concentration at the boundaries at `C=0`."
   ],
   "metadata": {}
  },
  {
   "cell_type": "markdown",
   "source": [
    "> 💡 hint: Don't forget to initialise (pre-allocate) all arrays (vectors) needed in the calculations"
   ],
   "metadata": {}
  },
  {
   "cell_type": "markdown",
   "source": [
    "### Question 1\n",
    "\n",
    "Report the initial and final distribution of concentration on a figure with axis-label, title, and plotted line labels. Also, report on the figure (as text in one label of your choice) the maximal final concentration value and its x location.\n",
    "\n",
    "### Question 2\n",
    "\n",
    "Repeat the exercise but introduce the non-dimensional [Damköhler number](https://en.wikipedia.org/wiki/Damköhler_numbers) $Da = L^2/D/ξ$ as physical quantity defining the diffusion coefficient D as a `# Derived physics` quantity. Confirm the if $Da < 0.1$ most of the mass diffuses away from $C_{eq}$, and the opposite holds for $Da > 10$."
   ],
   "metadata": {}
  }
 ],
 "nbformat_minor": 3,
 "metadata": {
  "language_info": {
   "file_extension": ".jl",
   "mimetype": "application/julia",
   "name": "julia",
   "version": "1.6.1"
  },
  "kernelspec": {
   "name": "julia-1.6",
   "display_name": "Julia 1.6.1",
   "language": "julia"
  }
 },
 "nbformat": 4
}
