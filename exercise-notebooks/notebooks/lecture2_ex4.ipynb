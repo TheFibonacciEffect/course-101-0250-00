{
 "cells": [
  {
   "cell_type": "markdown",
   "source": [
    "## Exercise 4 - **Julia install and Git repo**"
   ],
   "metadata": {}
  },
  {
   "cell_type": "markdown",
   "source": [
    "The goal of this homework is to:\n",
    "- finalise your local Julia install\n",
    "- create a private git repo to upload your homework"
   ],
   "metadata": {}
  },
  {
   "cell_type": "markdown",
   "source": [
    "As final homework task for this second lecture, you will have to\n",
    "1. Finalise your local Julia install\n",
    "2. Create a private git repository on GitHub and share it only with the teaching staff\n",
    "\n",
    "### Julia install\n",
    "Ensure you have access to latest version of Julia, access and a fully functional REPL (command window) and you can visualise script output graphically when, e.g., plotting something\n",
    "\n",
    "```julia\n",
    "using Plots\n",
    "display(heatmap(rand(10,10)))\n",
    "```\n",
    "\n",
    "![random-noise](./figures/random-noise.png)\n",
    "\n",
    "### Git repository\n",
    "Once you have your GitHub account ready, create a private repository you will _**share with the teaching staff only**_ to upload your weekly assignments (scripts)."
   ],
   "metadata": {}
  }
 ],
 "nbformat_minor": 3,
 "metadata": {
  "language_info": {
   "file_extension": ".jl",
   "mimetype": "application/julia",
   "name": "julia",
   "version": "1.6.1"
  },
  "kernelspec": {
   "name": "julia-1.6",
   "display_name": "Julia 1.6.1",
   "language": "julia"
  }
 },
 "nbformat": 4
}
