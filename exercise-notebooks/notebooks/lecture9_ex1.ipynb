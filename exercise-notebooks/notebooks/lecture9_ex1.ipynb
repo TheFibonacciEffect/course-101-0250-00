{
 "cells": [
  {
   "cell_type": "markdown",
   "source": [
    "## Exercise 1 - **Push-ups with memory copy**"
   ],
   "metadata": {}
  },
  {
   "cell_type": "markdown",
   "source": [
    "The goal of this exercise is to:\n",
    "- ensure you can run a Julia notebook on your octopus node\n",
    "- refresh how to establish the peak memory throughput of your GPU"
   ],
   "metadata": {}
  },
  {
   "cell_type": "markdown",
   "source": [
    "### Getting started\n",
    "\n",
    "👉 Make sure:\n",
    "1. You are logged-in to your node on octopus ([how-to](/software_install/#login_to_your_node))\n",
    "2. Head to `/scratch/<username>/lecture09/`\n",
    "3. Get your Julia environment ready so that you can [start a Jupyter notebook server](/software_install/#running_a_jupyter_notebook)\n",
    "4. Open the introduction notebook *Benchmarking memory copy and establishing peak memory access performance* (`/scratch/<username>/lecture09/l6_1-gpu-memcopy.ipynb`)\n",
    "5. Run the notebook to establish the performance baseline *(you should have a copy of it in your `lecture09` folder on octopus)*."
   ],
   "metadata": {}
  }
 ],
 "nbformat_minor": 3,
 "metadata": {
  "language_info": {
   "file_extension": ".jl",
   "mimetype": "application/julia",
   "name": "julia",
   "version": "1.6.3"
  },
  "kernelspec": {
   "name": "julia-1.6",
   "display_name": "Julia 1.6.3",
   "language": "julia"
  }
 },
 "nbformat": 4
}
