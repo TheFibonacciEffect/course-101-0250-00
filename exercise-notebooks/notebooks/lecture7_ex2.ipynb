{
 "cells": [
  {
   "cell_type": "markdown",
   "source": [
    "## Exercise 2 - **3D thermal porous convection xPU implementation**"
   ],
   "metadata": {}
  },
  {
   "cell_type": "markdown",
   "source": [
    "The goal of this exercise is to:\n",
    "- Create a 3D xPU implementation of the 2D thermal porous convection code\n",
    "- Familiarise with 3D and xPU programming, `@parallel` and `@parallel_indices`\n",
    "- Include 3D visualisation using [`Makie.jl`](https://docs.makie.org/stable/)"
   ],
   "metadata": {}
  },
  {
   "cell_type": "markdown",
   "source": [
    "In this exercise, you will finalise the 3D fluid diffusion solver started during lecture 7 and use the new xPU scripts as starting point to port your 3D thermal porous convection code."
   ],
   "metadata": {}
  },
  {
   "cell_type": "markdown",
   "source": [
    "For this first exercise, we will finalise and add to the `scripts` folder within the `PorousConvection` folder following scripts:\n",
    "- `Pf_diffusion_3D_xpu.jl`\n",
    "- `PorousConvection_3D_xpu.jl`\n",
    "\n",
    "### Task 1\n",
    "\n",
    "Finalise the `Pf_diffusion_3D_xpu.jl` script from class.\n",
    "- This version should contain compute functions (kernels) definitions using `@parallel` approach together with using `ParallelStencil.FiniteDifferences2D` submodule.\n",
    "- Include the kwarg `do_visu` (or `do_check`) to allow disabling plotting/error-checking when assessing performance.\n",
    "- Also, make sure to include and update the performance evaluation section at the end of the script.\n",
    "\n",
    "### Task 2\n",
    "\n",
    "Merge the `PorousConvection_2D_xpu.jl` from Exercise 1 and the `Pf_diffusion_3D_xpu.jl` script from previous task to create a 3D single xPU `PorousConvection_3D_xpu.jl` version to run on GPUs.\n",
    "\n",
    "Implement similar changes as you did in the previous 2 tasks, preferring the `@parallel` (instead of `@parallel_indices`) whenever possible.\n",
    "\n",
    "Make sure to use the `z`-direction as the vertical coordinate changing all relevant expressions in the code, and assume `αρg` to be the gravity acceleration acting only in the `z`-direction. Implement following domain extend and numerical resolution (ratio):"
   ],
   "metadata": {}
  },
  {
   "outputs": [],
   "cell_type": "code",
   "source": [
    "# physics\n",
    "lx,ly,lz    = 40.0,20.0,20.0\n",
    "αρg         = 1.0\n",
    "Ra          = 1000\n",
    "λ_ρCp       = 1/Ra*(αρg*k_ηf*ΔT*lz/ϕ) # Ra = αρg*k_ηf*ΔT*ly/λ_ρCp/ϕ\n",
    "# numerics\n",
    "nz          = 63\n",
    "ny          = nz\n",
    "nx          = 2*(nz+1)-1\n",
    "nt          = 500\n",
    "cfl         = 1.0/sqrt(3.1)"
   ],
   "metadata": {},
   "execution_count": null
  }
 ],
 "nbformat_minor": 3,
 "metadata": {
  "language_info": {
   "file_extension": ".jl",
   "mimetype": "application/julia",
   "name": "julia",
   "version": "1.8.2"
  },
  "kernelspec": {
   "name": "julia-1.8",
   "display_name": "Julia 1.8.2",
   "language": "julia"
  }
 },
 "nbformat": 4
}
