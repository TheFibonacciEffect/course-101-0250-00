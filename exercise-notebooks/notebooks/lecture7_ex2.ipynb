{
 "cells": [
  {
   "cell_type": "markdown",
   "source": [
    "## Exercise 2 - **Acoustic 2D XPU implementation**"
   ],
   "metadata": {}
  },
  {
   "cell_type": "markdown",
   "source": [
    "The goal of this exercise is to:\n",
    "- Create a XPU implementation of the 2D acoustic code\n",
    "- Familiarise with XPU programming, `@parallel` and `@parallel_indices`"
   ],
   "metadata": {}
  },
  {
   "cell_type": "markdown",
   "source": [
    "In this exercise, you will create an acoustic 2D scripts, \"merging\" the multi-threaded CPU version `acoustic_2D_perf_loop_fun.jl` and the plain GPU version `acoustic_2D_perf_gpu.jl` from last week's lecture 6.\n",
    "\n",
    "In this week's lecture 7 GitHub folder, create a new subfolder `acoustic2D_xpu` where you will add following script:\n",
    "- `acoustic_2D_xpu.jl`\n",
    "- `acoustic_2D_perf_xpu.jl`\n",
    "\n",
    "\n",
    "### Task 1\n",
    "\n",
    "Start working on the `acoustic_2D_xpu.jl` script.\n",
    "- This version should contain compute functions (kernels) definitions using `@parallel` approach together with using `ParallelStencil.FiniteDifferences2D` submodule.\n",
    "- Include the kwarg `do_visu` to allow disabling plotting when assessing performance.\n",
    "- Also, make sure to include and update the performance evaluation section at the end of the script (as in the previous GPU and CPU script versions).\n",
    "\n",
    "To get get started, get inspired by the `diffusion_2D_xpu.jl` script we mostly terminated in class during lecture 7 and the know-how you acquired finalising exercise 1.\n",
    "\n",
    "If you still struggle getting started you'll find, after homework 6 due-date, the [`acoustic_2D_perf_gpu.jl`](https://github.com/eth-vaw-glaciology/course-101-0250-00/blob/main/scripts/) script in the [scripts/](https://github.com/eth-vaw-glaciology/course-101-0250-00/blob/main/scripts/) folder.\n",
    "\n",
    "### Task 2\n",
    "\n",
    "Create the `acoustic_2D_perf_xpu.jl` script.\n",
    "- This version should contain compute functions (kernels) definitions using `@parallel_indices` approach.\n",
    "- Include the kwarg `do_visu` to allow disabling plotting when assessing performance.\n",
    "- Also, make sure to include and update the performance evaluation section at the end of the script (as in the previous GPU and CPU script versions).\n",
    "\n",
    "### Task 3\n",
    "\n",
    "Create a `README.md` file in your lecture 7 GitHub folder, adding a second section about \"Acoustic 2D XPU performance\".\n",
    "\n",
    "In this section, include one figure that reporting the performance of both the `acoustic_2D_xpu.jl` and `acoustic_2D_perf_xpu.jl` implementation of the acoustic 2D solver using the $T_\\mathrm{eff}$ metric.\n",
    "\n",
    "Vary the number of grid points `nx = ny = 16 * 2 .^ (1:8)` (or until you run out of memory on the GPU). Report as well the value for memory copy $T_\\mathrm{peak}$ of the given GPU (and arithmetic precision) you are using. Make sure to including figure axis labels and add a short figure caption or description to the `README`."
   ],
   "metadata": {}
  }
 ],
 "nbformat_minor": 3,
 "metadata": {
  "language_info": {
   "file_extension": ".jl",
   "mimetype": "application/julia",
   "name": "julia",
   "version": "1.8.2"
  },
  "kernelspec": {
   "name": "julia-1.8",
   "display_name": "Julia 1.8.2",
   "language": "julia"
  }
 },
 "nbformat": 4
}
