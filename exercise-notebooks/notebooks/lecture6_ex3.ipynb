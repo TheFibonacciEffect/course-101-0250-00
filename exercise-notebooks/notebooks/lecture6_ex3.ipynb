{
 "cells": [
  {
   "cell_type": "markdown",
   "source": [
    "## Exercise 3 - **Unit and reference tests**"
   ],
   "metadata": {}
  },
  {
   "cell_type": "markdown",
   "source": [
    "The goal of this exercise is to:\n",
    "- revisit the last part of the lecture\n",
    "- learn how testing works in Julia"
   ],
   "metadata": {}
  },
  {
   "cell_type": "markdown",
   "source": [
    "**Note**: I had some odd errors caused by `@views` which I couldn't get to the bottom of.  If you do too, just remove the `@views`.\n",
    "\n",
    "**Note**: I packaged the Demo of the lecture within the repo [course-101-0250-00-L6Testing.jl](https://github.com/mauro3/course-101-0250-00-L6Testing.jl), which should be the\n",
    "blueprint for this exercise.\n",
    "\n",
    "Task:\n",
    "- use the [`diffusion_nl_1D.jl`](https://github.com/eth-vaw-glaciology/course-101-0250-00/blob/main/scripts/diffusion_nl_1D.jl) script as a base.\n",
    "- create a Julia project `L6TestingExercise` within the exercise submission folder `lecture6`.  Use the `generate` command of the REPL package-mode.\n",
    "- add `diffusion_nl_1D.jl` to a `scripts/` folder\n",
    "- You can remove the plotting.  This will make the tests run faster.  Also return the final `H` and `qx` from the function.\n",
    "- make a few unit test for `av` function; wrap them in a `@testset`\n",
    "- make a ReferenceTest.jl which tests the value at 20 random indices of `H` and `qx` against a truth.\n",
    "- make sure that all tests run and pass when called via package-mode `test`\n",
    "\n",
    "*Remember to check-in all the files into the repo; in particular the reference `*.bson`."
   ],
   "metadata": {}
  }
 ],
 "nbformat_minor": 3,
 "metadata": {
  "language_info": {
   "file_extension": ".jl",
   "mimetype": "application/julia",
   "name": "julia",
   "version": "1.6.3"
  },
  "kernelspec": {
   "name": "julia-1.6",
   "display_name": "Julia 1.6.3",
   "language": "julia"
  }
 },
 "nbformat": 4
}
