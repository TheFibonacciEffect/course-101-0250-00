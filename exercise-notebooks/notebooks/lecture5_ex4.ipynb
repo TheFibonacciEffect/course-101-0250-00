{
 "cells": [
  {
   "cell_type": "markdown",
   "source": [
    "## Exercise 4 - **Unit tests**"
   ],
   "metadata": {}
  },
  {
   "cell_type": "markdown",
   "source": [
    "The goal of this exercise is to:\n",
    "- Implement basic unit tests for the diffusion and acoustic 2D scripts\n",
    "- Group the tests in a test-set"
   ],
   "metadata": {}
  },
  {
   "cell_type": "markdown",
   "source": [
    "For this exercise, you will implement a test set of basic unit tests to verify the implementation of the diffusion and acoustic 2D solvers."
   ],
   "metadata": {}
  },
  {
   "cell_type": "markdown",
   "source": [
    "### Task 1\n",
    "\n",
    "In the `diffusion2D` folder, duplicate the `diffusion_2D_perf_loop_fun.jl` script and rename it `diffusion_2D_test.jl`.\n",
    "\n",
    "Implement a test set in order to test `C[xtest,ytest]` and assess that the values returned are approximatively equal to the following ones for the given values of `nx = ny`.\n",
    "\n",
    "```julia\n",
    "xtest = [5, Int(cld(0.6*Lx/dx)), nx-10]\n",
    "ytest = Int(cld(0.5*Ly/dy))\n",
    "```\n",
    "for\n",
    "```julia\n",
    "nx = ny = 16 * 2 .^ (2:5)\n",
    "```\n",
    "should match\n",
    "\n",
    "| `nx, ny` | `C[xtest,ytest]` |\n",
    "|:--------:|:----------------:|\n",
    "|  `64`    | `[1.28961441675812e-6  0.3403434055248243  0.000226725154067358]` |\n",
    "| `128`    | `[1.42876853096198e-7  0.3606848631942946  2.784022638919167e-6]` |\n",
    "| `256`    | `[3.82994869422046e-8  0.3515100977539851  2.070629144549965e-7]` |\n",
    "| `512`    | `[1.56975129887789e-8  0.3467239448747831  4.938759153492403e-8]` |\n",
    "\n",
    "Report the output of the test set as code block in a new section of the `README.md` in the `diffusion2D` folder."
   ],
   "metadata": {}
  },
  {
   "cell_type": "markdown",
   "source": [
    "> 💡 hint: Use triple backticks to generate code blocks in the `README.md` ([more](https://www.markdownguide.org/extended-syntax/#fenced-code-blocks))."
   ],
   "metadata": {}
  }
 ],
 "nbformat_minor": 3,
 "metadata": {
  "language_info": {
   "file_extension": ".jl",
   "mimetype": "application/julia",
   "name": "julia",
   "version": "1.6.3"
  },
  "kernelspec": {
   "name": "julia-1.6",
   "display_name": "Julia 1.6.3",
   "language": "julia"
  }
 },
 "nbformat": 4
}
